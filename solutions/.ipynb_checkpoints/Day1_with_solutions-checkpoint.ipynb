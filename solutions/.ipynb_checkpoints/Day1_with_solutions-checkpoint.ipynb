{
 "cells": [
  {
   "cell_type": "markdown",
   "metadata": {},
   "source": [
    "# TAURUS + REU 2019\n",
    "## written by Jackie Champagne (UT Austin)\n",
    "\n",
    "# Introduction to Python Day 1\n",
    "# Basic Syntax, Variables & Arrays"
   ]
  },
  {
   "cell_type": "markdown",
   "metadata": {},
   "source": [
    "We have some exercises for you ranging from the most basic tasks to some more advanced plotting techniques that will be helpful to you in astronomy. \n",
    "\n",
    "The Jupyter notebook is an interactive browser interface for Python, allowing you to write and edit programs all in one notebook. The whole notebook is automatically saved periodically, but you can also save the outputs from your code as text files, plots, or images separate from the notebook. It is a great tool when you are building code from scratch and want to troubleshoot it or make a quick plot.\n",
    "\n",
    "This series of notebooks is meant to be self-guided, so no lecture is strictly required. However, the goal of this workshop is to acquaint you with working together on research problems, so we will have a balance between brief lecture sections and having you sort through problems on your own. If you are attending this workshop live, the Questions in this notebook are meant to be a short few lines of code which you will do individually throughout the workshop. The Exercises, in a separate notebook, are longer problems you will begin working on together during the workshop, with the expectation of having all exercises finished and submitted by the end of the workshop. \n",
    "\n",
    "### Let's get started!\n",
    "\n",
    "The first thing you'll need to do when writing any code is import the packages you expect to use. You can put your imports anywhere, as long as it's written somewhere before calling a function from the package, but it's cleaner to put them all at the top. \n",
    "\n",
    "For this tutorial, let's load up numpy, which is an external library containing most mathematical functions you will use. To run the code in a cell, press SHIFT+ENTER.\n",
    "\n",
    "To comment your code, put a hashtag in front of your comment. "
   ]
  },
  {
   "cell_type": "code",
   "execution_count": 1,
   "metadata": {},
   "outputs": [],
   "source": [
    "import numpy as np #'import' loads up the package. \n",
    "#you can use 'as' to define a shortcut so you don't need to type\n",
    "#numpy before every use of the package. Most people use 'np'.\n",
    "\n",
    "import astropy\n",
    "\n",
    "import matplotlib.pyplot as plt\n",
    "\n",
    "from scipy import integrate #'from' allows you to import a specific sub-package"
   ]
  },
  {
   "cell_type": "markdown",
   "metadata": {},
   "source": [
    "## Setting Variables\n",
    "\n",
    "To set a definition, use =."
   ]
  },
  {
   "cell_type": "code",
   "execution_count": 2,
   "metadata": {},
   "outputs": [],
   "source": [
    "a = 1\n",
    "b = 2"
   ]
  },
  {
   "cell_type": "markdown",
   "metadata": {},
   "source": [
    "Now Python will always know that a is 1 in this notebook. Setting variables is useful for things like constants, such as c = 3.0e8. To check that this worked, we can print it out. The syntax for printing something is print(thing_you_want_to_print)."
   ]
  },
  {
   "cell_type": "code",
   "execution_count": 3,
   "metadata": {},
   "outputs": [
    {
     "name": "stdout",
     "output_type": "stream",
     "text": [
      "1\n"
     ]
    }
   ],
   "source": [
    "print(a)"
   ]
  },
  {
   "cell_type": "markdown",
   "metadata": {},
   "source": [
    "The double equals sign, ==, represents boolean logic. Boolean logic refers to true/false definitions. This will come in handy when you write code where your data must meet a certain criterion. \n",
    "\n",
    "OR statements: statement is TRUE if statement A is true, statement B is true, or both statements or true; statement is FALSE if both statements A and B are false.\n",
    "\n",
    "AND statements: statement is TRUE if and only if both A and B are true; statement is FALSE if one or both is false.\n",
    "\n",
    "In Python, the phrase \"a == 1 or 2\" does not make sense. The full statement must be \"a == 1 or a == 2\" such that they are independent clauses."
   ]
  },
  {
   "cell_type": "code",
   "execution_count": 4,
   "metadata": {},
   "outputs": [
    {
     "data": {
      "text/plain": [
       "True"
      ]
     },
     "execution_count": 4,
     "metadata": {},
     "output_type": "execute_result"
    }
   ],
   "source": [
    "a == 1"
   ]
  },
  {
   "cell_type": "code",
   "execution_count": 5,
   "metadata": {},
   "outputs": [
    {
     "data": {
      "text/plain": [
       "False"
      ]
     },
     "execution_count": 5,
     "metadata": {},
     "output_type": "execute_result"
    }
   ],
   "source": [
    "a == 2"
   ]
  },
  {
   "cell_type": "code",
   "execution_count": 6,
   "metadata": {},
   "outputs": [
    {
     "data": {
      "text/plain": [
       "True"
      ]
     },
     "execution_count": 6,
     "metadata": {},
     "output_type": "execute_result"
    }
   ],
   "source": [
    "a == 1 or a == 2"
   ]
  },
  {
   "cell_type": "code",
   "execution_count": 7,
   "metadata": {},
   "outputs": [
    {
     "data": {
      "text/plain": [
       "False"
      ]
     },
     "execution_count": 7,
     "metadata": {},
     "output_type": "execute_result"
    }
   ],
   "source": [
    "a == 1 and a == 2"
   ]
  },
  {
   "cell_type": "code",
   "execution_count": 8,
   "metadata": {},
   "outputs": [
    {
     "data": {
      "text/plain": [
       "True"
      ]
     },
     "execution_count": 8,
     "metadata": {},
     "output_type": "execute_result"
    }
   ],
   "source": [
    "a == 1 or b == 2"
   ]
  },
  {
   "cell_type": "markdown",
   "metadata": {},
   "source": [
    "## Variable types\n",
    "\n",
    "There are 3 kinds of variables in Python: strings, floats, and integers. \n",
    "\n",
    "A floating point value (float) is a number followed by a decimal. An integer is a whole number, and is required for discrete categories such as indexing (you can have entry 5 in an array, but not entry 5.5). A string has quotes around it and is treated as a word rather than a numeric value.\n",
    "\n",
    "### Question 1: What kinds of variables are the following? Fill it in as a comment."
   ]
  },
  {
   "cell_type": "code",
   "execution_count": 11,
   "metadata": {},
   "outputs": [
    {
     "data": {
      "text/plain": [
       "'\\nHELP MY CODE IS KILLING ME!!!!!!\\n'"
      ]
     },
     "execution_count": 11,
     "metadata": {},
     "output_type": "execute_result"
    }
   ],
   "source": [
    "i = 1 # what is the answer???? help pls!!!!\n",
    "j = 2.43\n",
    "k = 'Hello world!'\n",
    "L = 3. \n",
    "#m = hello world!\n",
    "\n",
    "'''\n",
    "HELP MY CODE IS KILLING ME!!!!!!\n",
    "'''"
   ]
  },
  {
   "cell_type": "markdown",
   "metadata": {},
   "source": [
    "You can convert between variable types if necessary, using the following commands:\n",
    "\n",
    "    int()\n",
    "    float()\n",
    "    str()\n",
    "    \n",
    "int() will print the whole number value of the float and *does not round*. float() will follow an integer with a .0, which sounds pointless but is sometimes necessary for Python arithmetic. str() will put quotes around it so that Python reads it literally rather than numerically.\n",
    "\n",
    "### Question 2: Convert i to a float and to a string. Convert j into an integer. Print type(k) to check your answer.\n"
   ]
  },
  {
   "cell_type": "code",
   "execution_count": 16,
   "metadata": {},
   "outputs": [
    {
     "name": "stdout",
     "output_type": "stream",
     "text": [
      "1.0 1 2\n",
      "<class 'float'> <class 'str'> <class 'int'>\n",
      "<class 'str'>\n"
     ]
    }
   ],
   "source": [
    "# solution here\n",
    "\n",
    "i_float = float(i)\n",
    "i_string = str(i)\n",
    "j_int = int(j)\n",
    "print(i_float, i_string, j_int)\n",
    "print(type(i_float), type(i_string), type(j_int))\n",
    "print(type(k))"
   ]
  },
  {
   "cell_type": "markdown",
   "metadata": {},
   "source": [
    "### Now convert k to an integer. What happens? "
   ]
  },
  {
   "cell_type": "code",
   "execution_count": 17,
   "metadata": {},
   "outputs": [
    {
     "ename": "ValueError",
     "evalue": "invalid literal for int() with base 10: 'Hello world!'",
     "output_type": "error",
     "traceback": [
      "\u001b[0;31m---------------------------------------------------------------------------\u001b[0m",
      "\u001b[0;31mValueError\u001b[0m                                Traceback (most recent call last)",
      "\u001b[0;32m<ipython-input-17-167a2ab36a9d>\u001b[0m in \u001b[0;36m<module>\u001b[0;34m()\u001b[0m\n\u001b[1;32m      1\u001b[0m \u001b[0;31m#solution here\u001b[0m\u001b[0;34m\u001b[0m\u001b[0;34m\u001b[0m\u001b[0m\n\u001b[1;32m      2\u001b[0m \u001b[0;34m\u001b[0m\u001b[0m\n\u001b[0;32m----> 3\u001b[0;31m \u001b[0mk_int\u001b[0m \u001b[0;34m=\u001b[0m \u001b[0mint\u001b[0m\u001b[0;34m(\u001b[0m\u001b[0mk\u001b[0m\u001b[0;34m)\u001b[0m\u001b[0;34m\u001b[0m\u001b[0m\n\u001b[0m",
      "\u001b[0;31mValueError\u001b[0m: invalid literal for int() with base 10: 'Hello world!'"
     ]
    }
   ],
   "source": [
    "#solution here\n",
    "\n",
    "k_int = int(k)"
   ]
  },
  {
   "cell_type": "markdown",
   "metadata": {},
   "source": [
    "### Challenge question: Convert the string '1.4' into an integer. Hint: this takes multiple steps."
   ]
  },
  {
   "cell_type": "code",
   "execution_count": 20,
   "metadata": {},
   "outputs": [
    {
     "name": "stdout",
     "output_type": "stream",
     "text": [
      "1\n"
     ]
    }
   ],
   "source": [
    "# solution here\n",
    "\n",
    "q = '1.4'\n",
    "o = int(float(q))\n",
    "print(o)"
   ]
  },
  {
   "cell_type": "markdown",
   "metadata": {},
   "source": [
    "## Python arithmetic\n",
    "\n",
    "The syntax for arithmetic are the following:\n",
    "    + add\n",
    "    - subtract\n",
    "    * multiply\n",
    "    / divide\n",
    "    ** power\n",
    "    np.log() log-base e\n",
    "    np.log10() log-base 10\n",
    "    np.exp() exponential"
   ]
  },
  {
   "cell_type": "code",
   "execution_count": 21,
   "metadata": {},
   "outputs": [
    {
     "name": "stdout",
     "output_type": "stream",
     "text": [
      "8\n"
     ]
    }
   ],
   "source": [
    "example = 5 + 3\n",
    "print(example)"
   ]
  },
  {
   "cell_type": "code",
   "execution_count": 22,
   "metadata": {},
   "outputs": [
    {
     "data": {
      "text/plain": [
       "3.43"
      ]
     },
     "execution_count": 22,
     "metadata": {},
     "output_type": "execute_result"
    }
   ],
   "source": [
    "i + j"
   ]
  },
  {
   "cell_type": "code",
   "execution_count": 23,
   "metadata": {},
   "outputs": [
    {
     "data": {
      "text/plain": [
       "2.43"
      ]
     },
     "execution_count": 23,
     "metadata": {},
     "output_type": "execute_result"
    }
   ],
   "source": [
    "i * j"
   ]
  },
  {
   "cell_type": "code",
   "execution_count": 27,
   "metadata": {},
   "outputs": [
    {
     "data": {
      "text/plain": [
       "1.4300000000000002"
      ]
     },
     "execution_count": 27,
     "metadata": {},
     "output_type": "execute_result"
    }
   ],
   "source": [
    "j - i"
   ]
  },
  {
   "cell_type": "code",
   "execution_count": 25,
   "metadata": {},
   "outputs": [
    {
     "data": {
      "text/plain": [
       "0.4115226337448559"
      ]
     },
     "execution_count": 25,
     "metadata": {},
     "output_type": "execute_result"
    }
   ],
   "source": [
    "i / j "
   ]
  },
  {
   "cell_type": "markdown",
   "metadata": {},
   "source": [
    "You're using Python 3.5, but note that in version 2.7, it was important to remember whether your variables were floats or integers. Dividing two integers used to give you an integer answer even if there was a remainder, so watch out for that if you decide to use 2.7."
   ]
  },
  {
   "cell_type": "markdown",
   "metadata": {},
   "source": [
    "## Arrays and Lists\n",
    "\n",
    "When working with data, you usually won't be dealing with just one number, but an array of values. Arrays can consist of floats, integers, strings, or a combination of them. A list is denoted by brackets: [], while an array must be defined with np.array(). \n",
    "\n",
    "The dimensions of arrays and lists are the same as in linear algebra: (rows, columns).\n",
    "\n",
    "The following is a 1D list:"
   ]
  },
  {
   "cell_type": "code",
   "execution_count": 28,
   "metadata": {},
   "outputs": [
    {
     "name": "stdout",
     "output_type": "stream",
     "text": [
      "['Barry B. Benson', 'Vanessa Bloome', 'Ray Liotta as Ray Liotta']\n"
     ]
    }
   ],
   "source": [
    "beemovie = ['Barry B. Benson', 'Vanessa Bloome', 'Ray Liotta as Ray Liotta']\n",
    "print(beemovie)"
   ]
  },
  {
   "cell_type": "markdown",
   "metadata": {},
   "source": [
    "For strings, this is fine, but you will need arrays in order to manipulate them mathematically. The array function is built into numpy. Here is a 1D array:"
   ]
  },
  {
   "cell_type": "code",
   "execution_count": 30,
   "metadata": {},
   "outputs": [],
   "source": [
    "myarray = np.array([1, 2, 3])\n",
    "my2darray = np.array([[1, 2], [1, 2]])"
   ]
  },
  {
   "cell_type": "markdown",
   "metadata": {},
   "source": [
    "You will call the array function within parentheses (). The whole array must be enclosed in a set of brackets []. Each row of the array should be in its own set of brackets, separated by commas.\n",
    "\n",
    "### Question 3: Create the following 2D array:\n",
    "\n",
    "    1 2 3\n",
    "    4 5 6"
   ]
  },
  {
   "cell_type": "code",
   "execution_count": 32,
   "metadata": {},
   "outputs": [
    {
     "name": "stdout",
     "output_type": "stream",
     "text": [
      "[[1 2 3]\n",
      " [4 5 6]]\n"
     ]
    }
   ],
   "source": [
    "#solution here\n",
    "\n",
    "another_2d_array = np.array([[1, 2, 3], [4, 5, 6]])\n",
    "\n",
    "print(another_2d_array)"
   ]
  },
  {
   "cell_type": "markdown",
   "metadata": {},
   "source": [
    "## Populating Arrays\n",
    "\n",
    "You don't always have to put in the values of your array manually, especially if, for example, you want a function to sample numbers evenly along some axis. \n",
    "\n",
    "There are two *inclusive* ways to define arrays, meaning that the last number is included.\n",
    "\n",
    "The first is np.linspace(), giving you an array between two values that are linearly spaced. The second is np.logspace(), giving you an array between two values that are spaced evenly in log10 (10^1, 10^1.1, 10^1.2, etc).\n",
    "    \n",
    "The syntax is the following:\n",
    "\n",
    "    np.linspace(beginning number, end number, number of values)\n",
    "    np.logspace(log(beginning number), log(end number), number of values)\n",
    "    \n",
    "### Question 4: Create two arrays with ten entries between 1 and 100, one in linear space and the other in logspace.\n",
    "\n"
   ]
  },
  {
   "cell_type": "code",
   "execution_count": 33,
   "metadata": {},
   "outputs": [
    {
     "name": "stdout",
     "output_type": "stream",
     "text": [
      "[  1.  12.  23.  34.  45.  56.  67.  78.  89. 100.] [  1.           1.66810054   2.7825594    4.64158883   7.74263683\n",
      "  12.91549665  21.5443469   35.93813664  59.94842503 100.        ] [  1.           1.66810054   2.7825594    4.64158883   7.74263683\n",
      "  12.91549665  21.5443469   35.93813664  59.94842503 100.        ]\n"
     ]
    }
   ],
   "source": [
    "# solution here\n",
    "\n",
    "linarray = np.linspace(1, 100, 10)\n",
    "logarray = np.logspace(0, 2, 10)\n",
    "logarray_alt = np.logspace(np.log10(1), np.log10(100), 10)\n",
    "\n",
    "print(linarray, logarray, logarray_alt)"
   ]
  },
  {
   "cell_type": "markdown",
   "metadata": {},
   "source": [
    "Another way to create an array is through np.arange(), but this is *exclusive*, meaning it will sample numbers linearly beginning with your initial number and ending one step size before your end number. So if you want your axis to go from 0 to 100 in steps of 1, make sure you tell it to go to 101.\n",
    "\n",
    "Confusingly, the syntax is different. The third argument is your step size, not your number of data points, so this is good to use if the step size is important. Of course you can always figure out how many data points you need for the spacing to be such-and-such in linspace, but if you're lazy and bad at math this works too!\n",
    "\n",
    "    np.arange(beginning number, end number+delta, delta)\n",
    "    \n",
    "### Question 5: Create another array with ten entries between 1 and 100 using np.arange. Notice how this is different from linspace."
   ]
  },
  {
   "cell_type": "code",
   "execution_count": 36,
   "metadata": {},
   "outputs": [
    {
     "name": "stdout",
     "output_type": "stream",
     "text": [
      "[  1  11  21  31  41  51  61  71  81  91 101]\n"
     ]
    }
   ],
   "source": [
    "# solution here\n",
    "\n",
    "arange_array = np.arange(1, 110, 10)\n",
    "print(arange_array)"
   ]
  },
  {
   "cell_type": "markdown",
   "metadata": {},
   "source": [
    "Another quick way to create an array is through np.zeros. This populates an array with, well, zeros. It might sound useless at first, but it's an easy way to initialize an array that you will later replace with different values. It helps keep arrays at a fixed length, for instance. More on that later.\n",
    "\n",
    "The syntax is simply number of rows, number of columns. If it's 1D, then it can just be:\n",
    "\n",
    "    np.zeros(3) #a 1x3 array of zeros\n",
    "    \n",
    "If it's N-D, you need two sets of parentheses:\n",
    "\n",
    "    np.zeros((rows, columns))\n",
    "    \n",
    "    \n",
    "### Question 6: Create a 3x3 array of zeros."
   ]
  },
  {
   "cell_type": "code",
   "execution_count": 38,
   "metadata": {},
   "outputs": [
    {
     "name": "stdout",
     "output_type": "stream",
     "text": [
      "[[0. 0. 0.]\n",
      " [0. 0. 0.]\n",
      " [0. 0. 0.]]\n"
     ]
    }
   ],
   "source": [
    "#solution here\n",
    "\n",
    "zeros_array = np.zeros((3, 3))\n",
    "\n",
    "print(zeros_array)"
   ]
  },
  {
   "cell_type": "markdown",
   "metadata": {},
   "source": [
    "## Indexing\n",
    "\n",
    "## PYTHON USES ZERO-BASED INDEXING!\n",
    "\n",
    "This means that the first value of an array is the 0th index. \n",
    "\n",
    "To call a certain value from an array, call the array name followed by brackets containing the index of the value you want:\n",
    "\n",
    "    array[0]\n",
    "    \n",
    "The value inside the brackets can also be a variable, so long as the variable is an integer. \n",
    "\n",
    "A helpful shortcut is that you can also count backwards in your array with a negative sign, so the last value in your array is always array[-1].\n",
    "\n",
    "### Question 7: Print out the first and last value in your linspace array."
   ]
  },
  {
   "cell_type": "code",
   "execution_count": 39,
   "metadata": {},
   "outputs": [
    {
     "name": "stdout",
     "output_type": "stream",
     "text": [
      "1.0 100.0\n"
     ]
    }
   ],
   "source": [
    "#solution here\n",
    "\n",
    "first_value = linarray[0]\n",
    "last_value = linarray[-1]\n",
    "print(first_value, last_value)"
   ]
  },
  {
   "cell_type": "markdown",
   "metadata": {},
   "source": [
    "Finally, you can also slice arrays between certain index values. This is helpful if you want to plot only a small subsample of your data, for example.\n",
    "\n",
    "For slicing, use a colon. Syntax:\n",
    "\n",
    "    :x - from beginning to index x\n",
    "    x: - from index x until the end\n",
    "    a:b - from index a to b\n",
    "    a:b:c - every c'th entry between indices a and b\n",
    "    \n",
    "These can be combined, e.g. a::c goes from index a until the end in steps of c.\n",
    "    \n",
    "Slicing is *exclusive*.\n",
    "\n",
    "### Question 8: Print out the following: a) your linear array until index 5; b) your log array beginning at index 1; c) your arange array between indices 4 and 8; and d) your full linear array in steps of 2 indices."
   ]
  },
  {
   "cell_type": "code",
   "execution_count": 41,
   "metadata": {},
   "outputs": [
    {
     "name": "stdout",
     "output_type": "stream",
     "text": [
      "[ 1. 12. 23. 34. 45.] [  1.66810054   2.7825594    4.64158883   7.74263683  12.91549665\n",
      "  21.5443469   35.93813664  59.94842503 100.        ] [41 51 61 71] [ 1. 23. 45. 67. 89.] [ 1. 23. 45. 67. 89.]\n",
      "[100.  89.  78.  67.  56.  45.  34.  23.  12.   1.]\n"
     ]
    }
   ],
   "source": [
    "#solution here\n",
    "\n",
    "until_index_5 = linarray[:5]\n",
    "begin_at_1 = logarray[1:]\n",
    "between_4_8 = arange_array[4:8]\n",
    "steps_of_2 = linarray[::2]\n",
    "steps_of_2_longway = linarray[0:-1:2]\n",
    "print(until_index_5, begin_at_1, between_4_8, steps_of_2, steps_of_2_longway)\n",
    "\n",
    "#bonus: reversing arrays!\n",
    "linarray_backwards = linarray[::-1]\n",
    "print(linarray_backwards)"
   ]
  },
  {
   "cell_type": "markdown",
   "metadata": {},
   "source": [
    "## np.where()\n",
    "\n",
    "This function allows you to impose a condition on an array so you can search the array for specific values. These conditions can be the following:\n",
    "\n",
    "    < less than\n",
    "    <= less than or equal to\n",
    "    > greater than\n",
    "    >= greater than or equal to\n",
    "    == equal to\n",
    "    != not equal to\n",
    "    \n",
    "This function takes some getting used to. The output will be the indices where the array meets your condition. To print the actual values, you would call the array with the output from np.where() as the indices. \n",
    "\n",
    "You can also give np.where() a compound condition connected by an ampersand, &. \n",
    "\n",
    "    np.where(array < 2)\n",
    "\n",
    "This gives the indices where this is true. The values of the array where it's true would be written as:\n",
    "\n",
    "    array[np.where(array < 2)]\n",
    "    \n",
    "With a compound statement:\n",
    "\n",
    "    array[np.where((array < 2) & (array > 0))]\n",
    "    \n",
    "Note that, as above, compound statements must be independent clauses, so something like \"0<array<2\" doesn't work.\n",
    "\n",
    "### Question 9: Print out, from your linspace array, the following: a) where the array is greater than 10, b) the array where its values are greater than 10, c) where the array is greater than 1 and less than 10, and d) where the array divided by 2 is less than 50."
   ]
  },
  {
   "cell_type": "code",
   "execution_count": 43,
   "metadata": {},
   "outputs": [],
   "source": [
    "# solution here\n",
    "\n",
    "#the first one is asking you to find the LOCATION where the condition is true\n",
    "where_array = np.where(linarray > 10)\n",
    "\n",
    "#the second one is asking you to find THE VALUES that meet the condition\n",
    "array_where_true = linarray[where_array]\n",
    "where_gt1_lt10 = np.where( (linarray > 1) & (linarray < 10) )\n",
    "where_div2_lt50 = np.where( linarray / 2 < 50 )\n",
    "\n"
   ]
  },
  {
   "cell_type": "markdown",
   "metadata": {},
   "source": [
    "## Array Manipulation and Attributes\n",
    "\n",
    "You can manipulate arrays with one statement. Check it out:\n",
    "\n",
    "### Question 10: Create a new array which is your logspace array divided by 2. Create another new array which is your linspace array + 2."
   ]
  },
  {
   "cell_type": "code",
   "execution_count": 45,
   "metadata": {},
   "outputs": [
    {
     "name": "stdout",
     "output_type": "stream",
     "text": [
      "[ 0.5         0.83405027  1.3912797   2.32079442  3.87131841  6.45774833\n",
      " 10.77217345 17.96906832 29.97421252 50.        ] [  3.  14.  25.  36.  47.  58.  69.  80.  91. 102.]\n"
     ]
    }
   ],
   "source": [
    "#solution here\n",
    "\n",
    "logarray_div_2 = logarray / 2\n",
    "linarray_plus_2 = linarray + 2\n",
    "\n",
    "print(logarray_div_2, linarray_plus_2)"
   ]
  },
  {
   "cell_type": "markdown",
   "metadata": {},
   "source": [
    "You can append values to the end of an array using np.append(). Use it like this:\n",
    "\n",
    "    np.append(array, something_appended)\n",
    "    \n",
    "You can even append another array, like this:\n",
    "\n",
    "    np.append(array, [5, 6])\n",
    "    np.append(array1, array2)\n",
    "    \n",
    "### Question 11: Create a new array which is another linear array from 100 to 200 appended to your linspace array."
   ]
  },
  {
   "cell_type": "code",
   "execution_count": 46,
   "metadata": {},
   "outputs": [
    {
     "name": "stdout",
     "output_type": "stream",
     "text": [
      "[  1.          12.          23.          34.          45.\n",
      "  56.          67.          78.          89.         100.\n",
      " 100.         111.11111111 122.22222222 133.33333333 144.44444444\n",
      " 155.55555556 166.66666667 177.77777778 188.88888889 200.        ]\n"
     ]
    }
   ],
   "source": [
    "#solution here\n",
    "\n",
    "linarray_append = np.append(linarray, np.linspace(100, 200, 10))\n",
    "print(linarray_append)"
   ]
  },
  {
   "cell_type": "markdown",
   "metadata": {},
   "source": [
    "The last part of today will be showing you how to acquire different information from an array. Some of these are attributes of the array, and some of them are attributes of np itself, so you may need to look this up again in the future.\n",
    "\n",
    "Attributes of the array means that you call this by nameofarray.command:\n",
    "   \n",
    "    ndim - prints dimensions of your array\n",
    "    size - number of elements in n-dimensional array\n",
    "    shape - shape given by (rows, columns)\n",
    "    flatten() - collapses the array along one axis\n",
    "    T - transpose the matrix\n",
    "    reshape(x, y) - change the dimensions of the array to x, y -- the total number of elements (x*y) MUST match\n",
    "   \n",
    "Attributes of numpy, meaning that you call it by np.command(nameofarray):\n",
    "\n",
    "    sum - sum all the elements in the array\n",
    "    min - print minimum value in array\n",
    "    max - print maximum value\n",
    "    sort - print array in ascending order\n",
    "    len - print number of elements along the row axis\n",
    "    dot - matrix multiplication\n",
    "    "
   ]
  },
  {
   "cell_type": "markdown",
   "metadata": {},
   "source": [
    "### If you are following along in the in person class:\n",
    "\n",
    "### You will have received a link to our github classroom which will have your exercise assignments. (This is also included in Exercises.ipynb in this directory, if you're following along outside of the in-person seminar.) Please do the Day 1 exercises and upload this to github before the start of the next session on Thursday."
   ]
  }
 ],
 "metadata": {
  "kernelspec": {
   "display_name": "Python 3",
   "language": "python",
   "name": "python3"
  },
  "language_info": {
   "codemirror_mode": {
    "name": "ipython",
    "version": 3
   },
   "file_extension": ".py",
   "mimetype": "text/x-python",
   "name": "python",
   "nbconvert_exporter": "python",
   "pygments_lexer": "ipython3",
   "version": "3.7.10"
  }
 },
 "nbformat": 4,
 "nbformat_minor": 2
}
