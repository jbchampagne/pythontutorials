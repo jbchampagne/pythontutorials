{
 "cells": [
  {
   "cell_type": "code",
   "execution_count": 10,
   "metadata": {},
   "outputs": [],
   "source": [
    "import numpy as np\n",
    "import matplotlib.pyplot as plt"
   ]
  },
  {
   "cell_type": "markdown",
   "metadata": {},
   "source": [
    "## Exercise 1\n",
    "A. Create an array containing the values 4, 0, 6, 5, 11, 14, 12, 14, 5, 16.\n",
    "\n",
    "B. Create a 10x2 array of zeros.\n",
    "\n",
    "C. Write a for loop that checks if each of the numbers in the first array squared is less than 100. If the statement is true, change that row of your zeros array to equal the number and its square. Hint: you can change the value of an array by stating \"zerosarray[i] = [a number, a number squared]\".\n",
    "\n",
    "D. Print out the final version of your zeros array.\n",
    "\n",
    "Hint: should you loop over the elements of the array or the indices of the array? Does enumerate help you at all?"
   ]
  },
  {
   "cell_type": "code",
   "execution_count": 3,
   "metadata": {},
   "outputs": [],
   "source": [
    "#part a\n",
    "arr = np.array([4, 0, 6, 5, 11, 14, 12, 14, 5, 16])"
   ]
  },
  {
   "cell_type": "code",
   "execution_count": 15,
   "metadata": {},
   "outputs": [
    {
     "data": {
      "text/plain": [
       "array([ 4,  0,  6,  5, 11, 14, 12, 14,  5, 16])"
      ]
     },
     "execution_count": 15,
     "metadata": {},
     "output_type": "execute_result"
    }
   ],
   "source": [
    "arr"
   ]
  },
  {
   "cell_type": "code",
   "execution_count": 4,
   "metadata": {},
   "outputs": [],
   "source": [
    "#part b\n",
    "twodarr = np.zeros((10, 2))"
   ]
  },
  {
   "cell_type": "code",
   "execution_count": 14,
   "metadata": {},
   "outputs": [
    {
     "data": {
      "text/plain": [
       "array([[ 4., 16.],\n",
       "       [ 0.,  0.],\n",
       "       [ 6., 36.],\n",
       "       [ 5., 25.],\n",
       "       [ 0.,  0.],\n",
       "       [ 0.,  0.],\n",
       "       [ 0.,  0.],\n",
       "       [ 0.,  0.],\n",
       "       [ 5., 25.],\n",
       "       [ 0.,  0.]])"
      ]
     },
     "execution_count": 14,
     "metadata": {},
     "output_type": "execute_result"
    }
   ],
   "source": [
    "twodarr"
   ]
  },
  {
   "cell_type": "code",
   "execution_count": 5,
   "metadata": {},
   "outputs": [],
   "source": [
    "#part c\n",
    "for idx, number in enumerate(arr):\n",
    "    if number ** 2 < 100:\n",
    "        \n",
    "        twodarr[idx] = [number, number**2]\n",
    "        "
   ]
  },
  {
   "cell_type": "code",
   "execution_count": 6,
   "metadata": {},
   "outputs": [
    {
     "name": "stdout",
     "output_type": "stream",
     "text": [
      "[[ 4. 16.]\n",
      " [ 0.  0.]\n",
      " [ 6. 36.]\n",
      " [ 5. 25.]\n",
      " [ 0.  0.]\n",
      " [ 0.  0.]\n",
      " [ 0.  0.]\n",
      " [ 0.  0.]\n",
      " [ 5. 25.]\n",
      " [ 0.  0.]]\n"
     ]
    }
   ],
   "source": [
    "#part d\n",
    "print(twodarr)"
   ]
  },
  {
   "cell_type": "markdown",
   "metadata": {},
   "source": [
    "## Exercise 2\n",
    "A. Write a function that takes an array of numbers and spits out the Gaussian distribution. Yes, there is a function for this in Python, but it's good to do this from scratch! This is the equation:\n",
    "\n",
    "\n",
    "$N(x, \\mu, \\sigma) = \\frac{1}{\\sqrt{2 \\pi}\\sigma} e^{-\\frac{(x - \\mu)^2}{2\\sigma^2}}$\n",
    " \n",
    " \n",
    "(Pi is built into numpy, so call it as np.pi. Also, double click this cell to see the markup for writing LaTeX math.)\n",
    "\n",
    "B. Call the function a few different times for different values of mu and sigma, between -10 < x < 10.\n",
    "\n",
    "C. Plot each version, making sure they are differentiated with different colors and/or linestyles and include a legend. Btw, here's a list of the customizations available in matplotlib:\n",
    "\n",
    "https://matplotlib.org/3.1.0/api/_as_gen/matplotlib.pyplot.plot.html\n",
    "\n",
    "https://matplotlib.org/gallery/color/named_colors.html\n",
    "\n",
    "D. Save your figure.\n",
    "\n",
    "If you have multiple lines with plt.plot(), Python will plot all of them together, unless you write plt.show() after each one. I want these all on one plot."
   ]
  },
  {
   "cell_type": "code",
   "execution_count": 7,
   "metadata": {},
   "outputs": [],
   "source": [
    "#part a\n",
    "def Gaussian(x, mu, sigma):\n",
    "    '''\n",
    "    Function that takes in a mean and standard deviation and will provide the probability of \n",
    "    getting value x\n",
    "    \n",
    "    Inputs\n",
    "    ----------\n",
    "    x: value to get the probability of\n",
    "    mu: center of the gaussian (mean)\n",
    "    sigma: standard deviation of the gaussian\n",
    "    \n",
    "    Returns\n",
    "    ----------\n",
    "    probability associated with x assuming a Gaussian\n",
    "    '''\n",
    "    prefactor = (np.sqrt(2 * np.pi) * sigma)**-1\n",
    "    exponent = (x-mu)**2/(2*sigma**2)\n",
    "    \n",
    "    return prefactor * np.exp(-exponent)"
   ]
  },
  {
   "cell_type": "code",
   "execution_count": 8,
   "metadata": {},
   "outputs": [],
   "source": [
    "#part b\n",
    "x = np.linspace(-10, 10, 1000)\n",
    "\n",
    "mu1 = 5\n",
    "sigma1 = 2\n",
    "\n",
    "gauss1 = Gaussian(x, mu1, sigma1)\n",
    "\n",
    "mu2 = 10\n",
    "sigma2 = 3\n",
    "\n",
    "gauss2 = Gaussian(x, mu2, sigma2)\n",
    "\n",
    "mu3 = 0\n",
    "sigma3 = 5\n",
    "\n",
    "gauss3 = Gaussian(x, mu3, sigma3)"
   ]
  },
  {
   "cell_type": "code",
   "execution_count": 13,
   "metadata": {},
   "outputs": [
    {
     "data": {
      "image/png": "[encoded data removed]",
      "text/plain": [
       "<Figure size 864x504 with 1 Axes>"
      ]
     },
     "metadata": {
      "needs_background": "light"
     },
     "output_type": "display_data"
    }
   ],
   "source": [
    "#part c\n",
    "plt.figure(figsize = (12, 7))\n",
    "plt.plot(x, gauss1, label = 'Gaussian 1', linestyle = '--', color = 'blue')\n",
    "plt.plot(x, gauss2, label = 'Gaussian 2', linestyle = '-', color = 'red')\n",
    "plt.plot(x, gauss3, label = 'Gaussian 3', linestyle = '-.', color = 'black')\n",
    "plt.ylabel('Probability')\n",
    "plt.xlabel('X-values')\n",
    "plt.legend()\n",
    "plt.show()"
   ]
  },
  {
   "cell_type": "code",
   "execution_count": null,
   "metadata": {},
   "outputs": [],
   "source": [
    "# part d\n",
    "plt.figure(figsize = (12, 7))\n",
    "plt.plot(x, gauss1, label = 'Gaussian 1', linestyle = '--', color = 'blue')\n",
    "plt.plot(x, gauss2, label = 'Gaussian 2', linestyle = '-', color = 'red')\n",
    "plt.plot(x, gauss3, label = 'Gaussian 3', linestyle = '-.', color = 'black')\n",
    "plt.ylabel('Probability')\n",
    "plt.xlabel('X-values')\n",
    "plt.legend()\n",
    "plt.savefig('Three_Gaussians.png')\n",
    "plt.show()"
   ]
  },
  {
   "cell_type": "markdown",
   "metadata": {},
   "source": [
    "## Exercise 3: Matrix Multiplication\n",
    "\n",
    "You have a last minute linear algebra homework and you are tired of doing matrix multiplication by hand so you decide to use your amazing python knowledge to speed things up. You get the idea that you can code up matrix multiplication to get the answer. Your goal is to wirte a function that takes any N x M and M x P array and performs the matrix multiplication that results in an N x P matrix. The equation for getting the elements of the matrix product C from matrix A and B is given below.\n",
    "\n",
    "![Screen%20Shot%202022-05-25%20at%2010.26.24%20AM.png](attachment:Screen%20Shot%202022-05-25%20at%2010.26.24%20AM.png)\n",
    "\n",
    "Where i corresponds to the rows, j corresponds to the columns."
   ]
  },
  {
   "cell_type": "code",
   "execution_count": 16,
   "metadata": {},
   "outputs": [],
   "source": [
    "def Matrix_Multiplication(Matrix1, Matrix2):\n",
    "    \n",
    "    #getting the row and columns of each matrix to make sure we can perform the\n",
    "    #matricx mutliplication\n",
    "    column1 = Matrix1.shape[1]\n",
    "    row2 = Matrix2.shape[0]\n",
    "    \n",
    "    #checking the condition for matrix mutliplication\n",
    "    if column1 == row2:\n",
    "        \n",
    "        #getting the row and column of the resulting output matrix\n",
    "        row1 = Matrix1.shape[0]\n",
    "        column2 = Matrix2.shape[1]\n",
    "        \n",
    "        #making an empty matrix\n",
    "        mult_matrix = np.zeros((row1, column2))\n",
    "        \n",
    "        #looping over all the rows and columns of the output matrix\n",
    "        for row in np.arange(0, mult_matrix.shape[0]):\n",
    "            for column in np.arange(0, mult_matrix.shape[1]):\n",
    "                #populating it by the product of the row and columns of the respective matrix\n",
    "                mult_matrix[row, column] = np.sum(Matrix1[row] * Matrix2[:, column])\n",
    "        \n",
    "        return mult_matrix\n",
    "        \n",
    "    #condition if the matrix multiplication cannot be done\n",
    "    else:\n",
    "        print('Column from Matrix 1 does not match Rows of Matrix 2')\n",
    "        print('Cannot perform matrix multiplication')"
   ]
  },
  {
   "cell_type": "code",
   "execution_count": 19,
   "metadata": {},
   "outputs": [
    {
     "data": {
      "text/plain": [
       "array([[1.8173266 , 1.37606479, 2.16073825, 2.38864315, 2.12418531],\n",
       "       [1.27325289, 1.59105161, 2.07847546, 2.35493897, 2.47505336],\n",
       "       [1.91759249, 1.4936758 , 2.27707812, 1.73470574, 2.20236206],\n",
       "       [1.44127294, 0.87708097, 1.38495257, 1.32865108, 1.41226733],\n",
       "       [2.61203105, 2.25552121, 3.51713177, 3.36282633, 3.49524106],\n",
       "       [1.14881868, 1.91848263, 2.5129123 , 2.77143524, 2.32787453],\n",
       "       [1.99310708, 1.60204822, 2.91757398, 2.43576458, 2.77849108],\n",
       "       [1.45249016, 1.16785051, 1.84881075, 1.79855819, 1.98939571],\n",
       "       [1.77631521, 1.14336442, 2.03881256, 1.93242545, 1.74594956],\n",
       "       [1.20934338, 1.31861842, 2.08814804, 2.07253747, 1.83719314]])"
      ]
     },
     "execution_count": 19,
     "metadata": {},
     "output_type": "execute_result"
    }
   ],
   "source": [
    "Matrix_Multiplication(np.random.random(size = (10, 10)), np.random.random(size = (10, 5)))"
   ]
  },
  {
   "cell_type": "code",
   "execution_count": 24,
   "metadata": {},
   "outputs": [],
   "source": []
  },
  {
   "cell_type": "code",
   "execution_count": 28,
   "metadata": {},
   "outputs": [
    {
     "name": "stdout",
     "output_type": "stream",
     "text": [
      "[[2.08403852 2.54029982 3.08289796 2.10402406 2.57989727]\n",
      " [1.61689459 1.65504478 2.53506691 1.55439532 1.87126604]\n",
      " [1.98295733 2.32773917 2.16192695 1.39686368 2.32334129]\n",
      " [2.86582417 3.3151915  2.22689093 1.72627878 2.45016401]\n",
      " [2.2527958  2.38043416 2.03441831 1.51621784 2.06500218]\n",
      " [2.30805322 3.42667586 3.24887757 2.43207186 3.0018875 ]\n",
      " [1.51576296 2.54252873 2.83469835 1.69510248 2.64085898]\n",
      " [2.36330809 2.82961915 1.78343096 1.65451273 2.62651281]\n",
      " [2.1056849  2.45822001 2.65474448 1.7115915  3.00396204]\n",
      " [2.10936977 2.4474153  2.48880227 1.77322078 2.32165568]]\n",
      "\n",
      "[[2.08403852 2.54029982 3.08289796 2.10402406 2.57989727]\n",
      " [1.61689459 1.65504478 2.53506691 1.55439532 1.87126604]\n",
      " [1.98295733 2.32773917 2.16192695 1.39686368 2.32334129]\n",
      " [2.86582417 3.3151915  2.22689093 1.72627878 2.45016401]\n",
      " [2.2527958  2.38043416 2.03441831 1.51621784 2.06500218]\n",
      " [2.30805322 3.42667586 3.24887757 2.43207186 3.0018875 ]\n",
      " [1.51576296 2.54252873 2.83469835 1.69510248 2.64085898]\n",
      " [2.36330809 2.82961915 1.78343096 1.65451273 2.62651281]\n",
      " [2.1056849  2.45822001 2.65474448 1.7115915  3.00396204]\n",
      " [2.10936977 2.4474153  2.48880227 1.77322078 2.32165568]]\n"
     ]
    }
   ],
   "source": [
    "np.random.seed(42)\n",
    "print(Matrix_Multiplication(np.random.random(size = (10, 10)), np.random.random(size = (10, 5))))\n",
    "print()\n",
    "\n",
    "np.random.seed(42)\n",
    "print(np.dot(np.random.random(size = (10, 10)), np.random.random(size = (10, 5))))"
   ]
  },
  {
   "cell_type": "code",
   "execution_count": null,
   "metadata": {},
   "outputs": [],
   "source": []
  }
 ],
 "metadata": {
  "kernelspec": {
   "display_name": "Python 3 (ipykernel)",
   "language": "python",
   "name": "python3"
  },
  "language_info": {
   "codemirror_mode": {
    "name": "ipython",
    "version": 3
   },
   "file_extension": ".py",
   "mimetype": "text/x-python",
   "name": "python",
   "nbconvert_exporter": "python",
   "pygments_lexer": "ipython3",
   "version": "3.7.11"
  }
 },
 "nbformat": 4,
 "nbformat_minor": 4
}
