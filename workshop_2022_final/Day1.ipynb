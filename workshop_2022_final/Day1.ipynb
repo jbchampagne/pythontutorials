{
 "cells": [
  {
   "cell_type": "markdown",
   "metadata": {},
   "source": [
    "# TAURUS + NSF REU 2022\n",
    "## written by Jackie Champagne & Oscar Chavez Ortiz (UT Austin)\n",
    "\n",
    "# Introduction to Python Day 1\n",
    "# Basic Syntax, Variables & Arrays"
   ]
  },
  {
   "cell_type": "markdown",
   "metadata": {},
   "source": [
    "We have some exercises for you ranging from the most basic tasks to some more advanced plotting techniques that will be helpful to you in astronomy. \n",
    "\n",
    "The Jupyter notebook is an interactive browser interface for Python, allowing you to write and edit programs all in one notebook. The whole notebook is automatically saved periodically, but you can also save the outputs from your code as text files, plots, or images separate from the notebook. It is a great tool when you are building code from scratch and want to troubleshoot it or make a quick plot.\n",
    "\n",
    "This series of notebooks is meant to be self-guided, so no lecture is strictly required. However, the goal of this workshop is to acquaint you with working together on research problems. If you are attending this workshop live, the Questions in this notebook are meant to be a short few lines of code which you will do individually throughout the workshop. The Exercises, in a separate notebook, are longer problems you will begin working on together during the workshop, with the expectation of having all exercises finished and submitted by the end of the workshop. \n",
    "\n",
    "### Let's get started!\n",
    "\n",
    "The first thing you'll need to do when writing any code is import the packages you expect to use. You can put your imports anywhere, as long as it's written somewhere before calling a function from the package, but it's cleaner to put them all at the top. \n",
    "\n",
    "For this tutorial, let's load up numpy, which is an external library containing most mathematical functions you will use. To run the code in a cell, press SHIFT+ENTER.\n",
    "\n",
    "To comment your code, put a hashtag in front of your comment. "
   ]
  },
  {
   "cell_type": "code",
   "execution_count": 1,
   "metadata": {},
   "outputs": [],
   "source": [
    "import numpy as np #'import' loads up the package. \n",
    "#you can use 'as' to define a shortcut so you don't need to type\n",
    "#numpy before every use of the package. Most people use 'np'.\n",
    "\n",
    "import astropy\n",
    "\n",
    "import matplotlib.pyplot as plt\n",
    "\n",
    "from scipy import integrate #'from' allows you to import a specific sub-package"
   ]
  },
  {
   "cell_type": "markdown",
   "metadata": {},
   "source": [
    "## Setting Variables\n",
    "\n",
    "To set a definition, use =."
   ]
  },
  {
   "cell_type": "code",
   "execution_count": null,
   "metadata": {},
   "outputs": [],
   "source": [
    "a = 1\n",
    "b = 2"
   ]
  },
  {
   "cell_type": "markdown",
   "metadata": {},
   "source": [
    "Now Python will always know that a is 1 in this notebook. Setting variables is useful for things like constants, such as c = 3.0e8. To check that this worked, we can print it out. The syntax for printing something is print(thing_you_want_to_print). \n",
    "\n",
    "Alternatively, you can call the variable by just typing its name, which will show it as an output."
   ]
  },
  {
   "cell_type": "code",
   "execution_count": null,
   "metadata": {},
   "outputs": [],
   "source": [
    "print(a)"
   ]
  },
  {
   "cell_type": "code",
   "execution_count": null,
   "metadata": {},
   "outputs": [],
   "source": [
    "a"
   ]
  },
  {
   "cell_type": "markdown",
   "metadata": {},
   "source": [
    "# Note: \n",
    "The double equals sign, ==, represents boolean logic, which refers to true/false definitions. This will come in handy when you write code where your data must meet a certain criterion. \n",
    "\n",
    "# Boolean Logic\n",
    "\n",
    "OR statements: statement is TRUE if statement A is true, statement B is true, or both statements are true; statement is FALSE if both statements A and B are false.\n",
    "\n",
    "AND statements: statement is TRUE if and only if both A and B are true; statement is FALSE if one or both is false.\n",
    "\n",
    "In Python, the phrase \"a == 1 or 2\" does not make sense. The full statement must be \"a == 1 or a == 2\" such that they are independent clauses."
   ]
  },
  {
   "cell_type": "code",
   "execution_count": null,
   "metadata": {},
   "outputs": [],
   "source": [
    "a == 1"
   ]
  },
  {
   "cell_type": "code",
   "execution_count": null,
   "metadata": {},
   "outputs": [],
   "source": [
    "a == 2"
   ]
  },
  {
   "cell_type": "code",
   "execution_count": null,
   "metadata": {},
   "outputs": [],
   "source": [
    "a == 1 or a == 2"
   ]
  },
  {
   "cell_type": "code",
   "execution_count": null,
   "metadata": {},
   "outputs": [],
   "source": [
    "a == 1 and a == 2"
   ]
  },
  {
   "cell_type": "code",
   "execution_count": null,
   "metadata": {},
   "outputs": [],
   "source": [
    "a == 1 or b == 2"
   ]
  },
  {
   "cell_type": "markdown",
   "metadata": {},
   "source": [
    "## Variable types\n",
    "\n",
    "There are 4 kinds of variables in Python: strings, floats, integers and booleans. \n",
    "\n",
    "A floating point value (float) is a number followed by a decimal. An integer is a whole number, and is required for discrete categories such as indexing (you can have entry 5 in an array, but not entry 5.5). A string has quotes around it and is treated as a word rather than a numeric value and booleans are values containing True or False."
   ]
  },
  {
   "cell_type": "code",
   "execution_count": null,
   "metadata": {},
   "outputs": [],
   "source": [
    "#Example of a float\n",
    "pi = 3.24259\n",
    "\n",
    "#Example of an int\n",
    "integer = 15\n",
    "\n",
    "#Example of a string\n",
    "sentence = 'I am a string'\n",
    "sentence2 = \"This is also a string\"\n",
    "\n",
    "#example of a bool\n",
    "facts = True\n",
    "fake_news = False"
   ]
  },
  {
   "cell_type": "markdown",
   "metadata": {},
   "source": [
    "# Converting between data types"
   ]
  },
  {
   "cell_type": "markdown",
   "metadata": {},
   "source": [
    "You can convert between variable types if necessary, using the following commands:\n",
    "\n",
    "    int()\n",
    "    float()\n",
    "    str()\n",
    "    \n",
    "int() will print the whole number value of the float and *does not round*. float() will follow an integer with a .0, which sounds pointless but is sometimes necessary for Python arithmetic. str() will put quotes around it so that Python reads it literally rather than numerically."
   ]
  },
  {
   "cell_type": "code",
   "execution_count": null,
   "metadata": {},
   "outputs": [],
   "source": [
    "#Examples of int conversion\n",
    "pi = 3.14\n",
    "\n",
    "int_pi = int(pi)\n",
    "\n",
    "print(int_pi)\n",
    "\n",
    "string_10 = '10'\n",
    "\n",
    "int_10 = int(string_10)\n",
    "\n",
    "print(int_10)"
   ]
  },
  {
   "cell_type": "code",
   "execution_count": null,
   "metadata": {},
   "outputs": [],
   "source": [
    "#Do you think this one would work?\n",
    "sentence = 'Python is Awesome :D!!'\n",
    "\n",
    "int_sentence = int(sentence)\n",
    "print(int_sentence)"
   ]
  },
  {
   "cell_type": "markdown",
   "metadata": {},
   "source": [
    "## Python arithmetic\n",
    "\n",
    "The syntax for arithmetic are the following:\n",
    "\n",
    "    + add\n",
    "    \n",
    "    - subtract\n",
    "    \n",
    "    * multiply\n",
    "    \n",
    "    / divide\n",
    "    \n",
    "    ** power\n",
    "    \n",
    "    np.log() log-base e\n",
    "    \n",
    "    np.log10() log-base 10\n",
    "    \n",
    "    np.exp() exponential "
   ]
  },
  {
   "cell_type": "code",
   "execution_count": null,
   "metadata": {},
   "outputs": [],
   "source": [
    "example = 5 + 3\n",
    "print(example)"
   ]
  },
  {
   "cell_type": "code",
   "execution_count": null,
   "metadata": {},
   "outputs": [],
   "source": [
    "i = 1.2 \n",
    "j = 2.43"
   ]
  },
  {
   "cell_type": "code",
   "execution_count": null,
   "metadata": {},
   "outputs": [],
   "source": [
    "i + j"
   ]
  },
  {
   "cell_type": "code",
   "execution_count": null,
   "metadata": {},
   "outputs": [],
   "source": [
    "i * j"
   ]
  },
  {
   "cell_type": "code",
   "execution_count": null,
   "metadata": {},
   "outputs": [],
   "source": [
    "j - i"
   ]
  },
  {
   "cell_type": "code",
   "execution_count": null,
   "metadata": {},
   "outputs": [],
   "source": [
    "i / j "
   ]
  },
  {
   "cell_type": "code",
   "execution_count": null,
   "metadata": {},
   "outputs": [],
   "source": [
    "i**j"
   ]
  },
  {
   "cell_type": "markdown",
   "metadata": {},
   "source": [
    "You're using Python 3.5, but note that in version 2.7, it was important to remember whether your variables were floats or integers. Dividing two integers used to give you an integer answer even if there was a remainder, so watch out for that if you decide to use 2.7."
   ]
  },
  {
   "cell_type": "markdown",
   "metadata": {},
   "source": [
    "# Containers: Arrays and Lists\n",
    "\n",
    "When working with data, you usually won't be dealing with just one number, but an array of values. Arrays can consist of floats, integers, strings, or a combination of them. A list is denoted by brackets: [], while an array must be defined with np.array(). \n",
    "\n",
    "The dimensions of arrays and lists are the same as in linear algebra: (rows, columns).\n",
    "\n",
    "The following is a one dimensional (1D) list:"
   ]
  },
  {
   "cell_type": "code",
   "execution_count": null,
   "metadata": {},
   "outputs": [],
   "source": [
    "beemovie = ['Barry B. Benson', 'Vanessa Bloome', 'Ray Liotta as Ray Liotta']\n",
    "print(beemovie)"
   ]
  },
  {
   "cell_type": "markdown",
   "metadata": {},
   "source": [
    "For strings, this is fine, but you will need arrays in order to manipulate them mathematically. The array function is built into numpy. Here is a 1D array:"
   ]
  },
  {
   "cell_type": "code",
   "execution_count": null,
   "metadata": {},
   "outputs": [],
   "source": [
    "myarray = np.array([1, 2, 3])\n",
    "my2darray = np.array([[1, 2], [1, 2]])"
   ]
  },
  {
   "cell_type": "markdown",
   "metadata": {},
   "source": [
    "You will call the array function within parentheses (). The whole array must be enclosed in a set of brackets []. Each row of the array should be in its own set of brackets, separated by commas."
   ]
  },
  {
   "cell_type": "markdown",
   "metadata": {},
   "source": [
    "## Array Arithmetic\n",
    "\n",
    "Arrays allow you to do the same basic operations we covered above such as multiply and divide to the entire array without the need of any loops."
   ]
  },
  {
   "cell_type": "code",
   "execution_count": null,
   "metadata": {},
   "outputs": [],
   "source": [
    "#getting some random numbers \n",
    "base_array = np.random.randint(low = 1, high = 50, size = 50)\n",
    "\n",
    "print(base_array)\n",
    "print()\n",
    "\n",
    "# You uncover that this array is actually off by a factor of 2 \n",
    "# so we are multiplying the base_array by 2\n",
    "\n",
    "new_arr = 2 * base_array\n",
    "print(new_arr)\n",
    "print()\n",
    "\n",
    "# someone else came up to you after you mutliplied it by 2 and they say that\n",
    "# to account for inflation we need to actually divide the array by 4 and add 100000\n",
    "new_arr1 = new_arr/4 + 100000\n",
    "print(new_arr1)"
   ]
  },
  {
   "cell_type": "markdown",
   "metadata": {},
   "source": [
    "# Populating Arrays\n",
    "\n",
    "You don't always have to put in the values of your array manually, especially if, for example, you want a function to sample numbers evenly along some axis. \n",
    "\n",
    "There are two *inclusive* ways to define arrays, meaning that the last number is included.\n",
    "\n",
    "The first is np.linspace(), giving you an array between two values that are linearly spaced. The second is np.logspace(), giving you an array between two values that are spaced evenly in log10 (10^1, 10^1.1, 10^1.2, etc).\n",
    "    \n",
    "The syntax is the following:\n",
    "\n",
    "    np.linspace(beginning number, end number, number of values)\n",
    "    np.logspace(log(beginning number), log(end number), number of values)"
   ]
  },
  {
   "cell_type": "code",
   "execution_count": null,
   "metadata": {},
   "outputs": [],
   "source": [
    "#generating 50 numbers evenly spaced between 1-100\n",
    "print(np.linspace(1, 100, 50))\n",
    "\n",
    "#generating 50 numbers evenly spaced between 10^1 to 10^3\n",
    "print(np.logspace(1, 3, 50))"
   ]
  },
  {
   "cell_type": "markdown",
   "metadata": {},
   "source": [
    "Another way to create an array is through np.arange(), but this is *exclusive*, meaning it will sample numbers linearly beginning with your initial number and ending one step size before your end number. So if you want your axis to go from 0 to 100 in steps of 1, make sure you tell it to go to 101.\n",
    "\n",
    "Confusingly, the syntax is different. The third argument is your step size, not your number of data points, so this is good to use if the step size is important. Of course you can always figure out how many data points you need for the spacing to be such-and-such in linspace, but if you're lazy and bad at math this works too!\n",
    "\n",
    "    np.arange(beginning number, end number+delta, delta)"
   ]
  },
  {
   "cell_type": "code",
   "execution_count": null,
   "metadata": {},
   "outputs": [],
   "source": [
    "bins_for_histogram = np.arange(0, 100, 2)"
   ]
  },
  {
   "cell_type": "markdown",
   "metadata": {},
   "source": [
    "Another quick way to create an array is through np.zeros. This populates an array with, well, zeros. It might sound useless at first, but it's an easy way to initialize an array that you will later replace with different values. It helps keep arrays at a fixed length, for instance. More on that later.\n",
    "\n",
    "The syntax is simply number of rows, number of columns. If it's 1D, then it can just be:\n",
    "\n",
    "    np.zeros(3) #a 1x3 array of zeros\n",
    "    \n",
    "If it's 2-D, you need two sets of parentheses:\n",
    "\n",
    "    np.zeros((rows, columns))"
   ]
  },
  {
   "cell_type": "code",
   "execution_count": null,
   "metadata": {},
   "outputs": [],
   "source": [
    "#1D array of zeros of length 10\n",
    "print(np.zeros(10))\n",
    "\n",
    "#2D array with 3 rows and 10 columns\n",
    "print(np.zeros((3, 10)))"
   ]
  },
  {
   "cell_type": "markdown",
   "metadata": {},
   "source": [
    "# Indexing\n",
    "\n",
    "## PYTHON USES ZERO-BASED INDEXING!\n",
    "\n",
    "This means that the first value of an array is the 0th index. \n",
    "\n",
    "To call a certain value from an array, call the array name followed by brackets containing the index of the value you want:\n",
    "\n",
    "    array[0]\n",
    "    \n",
    "The value inside the brackets can also be a variable, so long as the variable is an integer. \n",
    "\n",
    "A helpful shortcut is that you can also count backwards in your array with a negative sign, so the last value in your array is always array[-1]."
   ]
  },
  {
   "cell_type": "code",
   "execution_count": null,
   "metadata": {},
   "outputs": [],
   "source": [
    "base_array = np.random.randint(low = 1, high = 50, size = 50)\n",
    "\n",
    "#getting the first entry\n",
    "first_entry = base_array[0]\n",
    "print(first_entry)\n",
    "print()\n",
    "\n",
    "#getting the last entry (length of array) - 1\n",
    "last_entry = base_array[49]\n",
    "print(last_entry)\n",
    "print()\n",
    "#or\n",
    "last_entry = base_array[-1]\n",
    "print(last_entry)\n",
    "print()\n",
    "\n",
    "#getting the 10th entry\n",
    "tenth_entry = base_array[9]\n",
    "print(tenth_entry)\n",
    "print()"
   ]
  },
  {
   "cell_type": "markdown",
   "metadata": {},
   "source": [
    "## Slicing\n",
    "Finally, you can also slice arrays between certain index values. This is helpful if you want to plot only a small subsample of your data, for example.\n",
    "\n",
    "For slicing, use a colon. Syntax:\n",
    "\n",
    "    :x - from beginning to index x\n",
    "    x: - from index x until the end\n",
    "    a:b - from index a to b\n",
    "    a:b:c - every c'th entry between indices a and b\n",
    "    \n",
    "These can be combined, e.g. a::c goes from index a until the end in steps of c.\n",
    "    \n",
    "Slicing is *exclusive*."
   ]
  },
  {
   "cell_type": "code",
   "execution_count": null,
   "metadata": {},
   "outputs": [],
   "source": [
    "long_array = np.arange(1, 1000, 1)\n",
    "\n",
    "#getting a small subset between index 50-499\n",
    "print(long_array[50:500])\n",
    "\n",
    "#getting every even index values\n",
    "print(long_array[::2])\n",
    "\n",
    "#getting every 2nd entry between index 50-499\n",
    "print(long_array[50:500:2])"
   ]
  },
  {
   "cell_type": "markdown",
   "metadata": {},
   "source": [
    "## np.where()\n",
    "\n",
    "This function allows you to impose a condition on an array so you can search the array for specific values. These conditions can be the following:\n",
    "\n",
    "    < less than\n",
    "    <= less than or equal to\n",
    "    > greater than\n",
    "    >= greater than or equal to\n",
    "    == equal to\n",
    "    != not equal to\n",
    "    \n",
    "This function takes some getting used to. The output will be the indices where the array meets your condition. To print the actual values, you would call the array with the output from np.where() as the indices. \n",
    "\n",
    "You can also give np.where() a compound condition connected by an ampersand, &. \n",
    "\n",
    "    np.where(array < 2)\n",
    "\n",
    "This gives the indices where this is true. The values of the array where it's true would be written as:\n",
    "\n",
    "    array[np.where(array < 2)]\n",
    "    \n",
    "With a compound statement:\n",
    "\n",
    "    array[np.where((array < 2) & (array > 0))]\n",
    "    \n",
    "Note that, as above, compound statements must be independent clauses, so something like \"0<array<2\" doesn't work."
   ]
  },
  {
   "cell_type": "code",
   "execution_count": null,
   "metadata": {},
   "outputs": [],
   "source": [
    "arr = np.linspace(1, 100, 50)\n",
    "\n",
    "print(arr[np.where(arr < 50)])\n",
    "\n",
    "print(arr[np.where((arr < 50) & (arr > 25))])"
   ]
  },
  {
   "cell_type": "markdown",
   "metadata": {},
   "source": [
    "## Array Manipulation and Attributes\n",
    "\n",
    "You can manipulate arrays with one statement. Check it out:"
   ]
  },
  {
   "cell_type": "markdown",
   "metadata": {},
   "source": [
    "You can append values to the end of an array using np.append(). Use it like this:\n",
    "\n",
    "    np.append(array, something_appended)\n",
    "    \n",
    "You can even append another array, like this:\n",
    "\n",
    "    np.append(array, [5, 6])\n",
    "    np.append(array1, array2)"
   ]
  },
  {
   "cell_type": "code",
   "execution_count": 36,
   "metadata": {},
   "outputs": [
    {
     "data": {
      "text/plain": [
       "array([ 12,  45,   6, 534,   2,   3,   4,  42,   5,   6])"
      ]
     },
     "execution_count": 36,
     "metadata": {},
     "output_type": "execute_result"
    }
   ],
   "source": [
    "array = np.array([12, 45, 6, 534, 2,3 ,4 ,42])\n",
    "\n",
    "np.append(array, [5, 6])"
   ]
  },
  {
   "cell_type": "markdown",
   "metadata": {},
   "source": [
    "The last part of today will be showing you how to acquire different information from an array. Some of these are attributes of the array, and some of them are attributes of np itself, so you may need to look this up again in the future.\n",
    "\n",
    "Attributes of the array means that you call this by nameofarray.command:\n",
    "   \n",
    "    ndim - prints dimensions of your array\n",
    "    size - number of elements in n-dimensional array\n",
    "    shape - shape given by (rows, columns)\n",
    "    flatten() - collapses the array along one axis\n",
    "    T - transpose the matrix\n",
    "    reshape(x, y) - change the dimensions of the array to x, y -- the total number of elements (x*y) MUST match\n",
    "   \n",
    "Attributes of numpy, meaning that you call it by np.command(nameofarray):\n",
    "\n",
    "    sum - sum all the elements in the array\n",
    "    min - print minimum value in array\n",
    "    max - print maximum value\n",
    "    sort - print array in ascending order\n",
    "    len - print number of elements along the row axis\n",
    "    dot - matrix multiplication\n",
    "    "
   ]
  },
  {
   "cell_type": "code",
   "execution_count": 37,
   "metadata": {},
   "outputs": [],
   "source": [
    "#example of reshape in action changing a size 100 1D array to a 20 x 5 2D array\n",
    "array = np.linspace(0, 100, 100).reshape(20, 5)"
   ]
  },
  {
   "cell_type": "code",
   "execution_count": null,
   "metadata": {},
   "outputs": [],
   "source": [
    "print(f'Number of Dimensions: {array.ndim}')\n",
    "\n",
    "print(f'Size of array is: {array.size}')\n",
    "\n",
    "print(f'Shape of array is: {array.size}')\n",
    "\n",
    "print(f'Transpose of array is: {array.size}')"
   ]
  },
  {
   "cell_type": "markdown",
   "metadata": {},
   "source": [
    "# Excercises"
   ]
  },
  {
   "cell_type": "markdown",
   "metadata": {},
   "source": [
    "## Exercise 1\n",
    "A. Create an array with 10 evenly spaced values in logspace ranging from 0.1 to 10,000.\n",
    "\n",
    "B. Print the following values: The first value in the array, the final value in the array, and the range of 5th-8th values.\n",
    "\n",
    "C. Append the numbers 10,001 and 10,002 (as floats) to the array. Make sure you define this!\n",
    "\n",
    "D. Divide your new array by 2.\n",
    "\n",
    "E. Reshape your array to be 3 x 4.\n",
    "\n",
    "F. Multiply your array by itself.\n",
    "\n",
    "G. Print out the number of dimensions and the maximum value."
   ]
  },
  {
   "cell_type": "code",
   "execution_count": null,
   "metadata": {},
   "outputs": [],
   "source": [
    "# Code Goes Here"
   ]
  },
  {
   "cell_type": "markdown",
   "metadata": {},
   "source": [
    "## Exercise 2\n",
    "\n",
    "Make a 50 x 50 array, using whatever method you like and make a checker board pattern on the 2D-array that spans the rows and columns. Kinda like the example below:"
   ]
  },
  {
   "cell_type": "code",
   "execution_count": null,
   "metadata": {},
   "outputs": [],
   "source": [
    "##########################\n",
    "# 1 0 1 0 1 0 1 0 1 0 1 0\n",
    "# 0 1 0 1 0 1 0 1 0 1 0 1\n",
    "# 1 0 1 0 1 0 1 0 1 0 1 0\n",
    "# 0 1 0 1 0 1 0 1 0 1 0 1\n",
    "# 1 0 1 0 1 0 1 0 1 0 1 0\n",
    "# 0 1 0 1 0 1 0 1 0 1 0 1\n",
    "# 1 0 1 0 1 0 1 0 1 0 1 0\n",
    "# 0 1 0 1 0 1 0 1 0 1 0 1\n",
    "# 1 0 1 0 1 0 1 0 1 0 1 0\n",
    "# 0 1 0 1 0 1 0 1 0 1 0 1\n",
    "##########################\n",
    "\n",
    "#code goes here"
   ]
  },
  {
   "cell_type": "code",
   "execution_count": null,
   "metadata": {},
   "outputs": [],
   "source": []
  },
  {
   "cell_type": "markdown",
   "metadata": {},
   "source": [
    "## Exercise 3\n",
    "\n",
    "In image processing sometimes we are asked to change the color of an image by renormalizing the Red, Green and Blue images (RGB images). One quick and easy way to renormalize data is by using:\n",
    "\n",
    "$Normalize = \\frac{ImageData - MinData}{MaxData - MinData}$\n",
    "\n",
    "Where MinData is the minimum value in your data, MaxData is the maximum value in your data and ImageData is the imaging data to be normalized.\n",
    "\n",
    "Below is a variable called Image, your task is to go through this 3 x 100 x 100 image and normalize it with respect to each 100 x 100 layer. Once you have done that try plotting it up by passing the variable image into the plotting function predefined below.\n",
    "\n",
    "Hint: The first entry in Image is the first 100 x 100 image to renormalize (Red), second is second image (Green), and third is third image (Blue)."
   ]
  },
  {
   "cell_type": "code",
   "execution_count": 2,
   "metadata": {},
   "outputs": [],
   "source": [
    "np.random.seed(50)\n",
    "Image = np.random.uniform(low = 20, high = 1543, size = (100, 100, 3))"
   ]
  },
  {
   "cell_type": "code",
   "execution_count": null,
   "metadata": {},
   "outputs": [],
   "source": [
    "# Write Renormalizing Code Here\n",
    "\n"
   ]
  },
  {
   "cell_type": "code",
   "execution_count": null,
   "metadata": {},
   "outputs": [],
   "source": [
    "import matplotlib.pyplot as plt"
   ]
  },
  {
   "cell_type": "code",
   "execution_count": null,
   "metadata": {},
   "outputs": [],
   "source": [
    "plt.figure(figsize = (10, 10))\n",
    "plt.imshow(Image.reshape(100, 100, 3))\n",
    "plt.show()"
   ]
  }
 ],
 "metadata": {
  "kernelspec": {
   "display_name": "Python 3 (ipykernel)",
   "language": "python",
   "name": "python3"
  },
  "language_info": {
   "codemirror_mode": {
    "name": "ipython",
    "version": 3
   },
   "file_extension": ".py",
   "mimetype": "text/x-python",
   "name": "python",
   "nbconvert_exporter": "python",
   "pygments_lexer": "ipython3",
   "version": "3.7.11"
  }
 },
 "nbformat": 4,
 "nbformat_minor": 2
}
