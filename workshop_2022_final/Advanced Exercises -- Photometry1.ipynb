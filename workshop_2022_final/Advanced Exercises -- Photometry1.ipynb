{
 "cells": [
  {
   "cell_type": "code",
   "execution_count": 1,
   "id": "44a79d0d",
   "metadata": {},
   "outputs": [
    {
     "name": "stdout",
     "output_type": "stream",
     "text": [
      "Created TAP+ (v1.2.1) - Connection:\n",
      "\tHost: gea.esac.esa.int\n",
      "\tUse HTTPS: True\n",
      "\tPort: 443\n",
      "\tSSL Port: 443\n",
      "Created TAP+ (v1.2.1) - Connection:\n",
      "\tHost: geadata.esac.esa.int\n",
      "\tUse HTTPS: True\n",
      "\tPort: 443\n",
      "\tSSL Port: 443\n"
     ]
    }
   ],
   "source": [
    "import numpy as np\n",
    "import matplotlib.pyplot as plt\n",
    "from astropy.io import fits\n",
    "from astropy.stats import sigma_clipped_stats\n",
    "from photutils.detection import DAOStarFinder\n",
    "from astropy.wcs import WCS\n",
    "from astroquery.vizier import Vizier\n",
    "\n",
    "from astropy.table import Table\n",
    "from astropy.units import Quantity\n",
    "from astropy.coordinates import SkyCoord\n",
    "from astroquery.gaia import Gaia\n",
    "from astropy import units as u"
   ]
  },
  {
   "cell_type": "markdown",
   "id": "bf1b76d9",
   "metadata": {},
   "source": [
    "# Calculating photometric colors for model stars\n",
    "\n",
    "### Goals:\n",
    "- Learn to read in text files\n",
    "\n",
    "- Master advanced plotting skills\n",
    "\n",
    "- Create astropy tables\n",
    "\n",
    "- Calculate integrated photometry\n",
    "\n",
    "Here you will take a set of templates of stellar spectra and calculate AB photometry for a variety of optical and IR filters.\n",
    "\n",
    "We start with a couple of functions that you will need."
   ]
  },
  {
   "cell_type": "markdown",
   "id": "60e305fd",
   "metadata": {},
   "source": [
    "## Exercise 1: Reading in and plotting stellar spectra\n",
    "\n",
    "First you will need to load in the spectral templates. They are located in the directory called PICKLES_STELLARTEMPS, from this paper: https://ui.adsabs.harvard.edu/abs/1998PASP..110..863P/abstract. You can try using glob to find the names of the *.txt iles within pickles_stellartemps.\n",
    "\n",
    "from glob import glob\n",
    "\n",
    "spectra = glob('pickles_stellartemps/*.dat')\n",
    "\n",
    "print(spectra)\n",
    "\n",
    "#### Load each one separately. As a challenge, you could try writing a loop that adds each spectrum to a dictionary which can be accessed later. Plot the spectra on one loglog plot. The units of wavelength are Angstrom, and the units of flux are arbitrary F_lambda.\n",
    "\n",
    "stellar_dict = {} # initialize dictionary \n",
    "\n",
    "wave1, spectrum1 = [open your file here] # open the file\n",
    "\n",
    "stellar_dict['your label'] = {'wave': wave1, 'spectrum': spectrum1} # label this element of the dictionary and repeat for each stellar type\n",
    "\n",
    "\n",
    "and so on!"
   ]
  },
  {
   "cell_type": "code",
   "execution_count": 2,
   "id": "0c734cab",
   "metadata": {},
   "outputs": [],
   "source": [
    "# Load in all stellar spectra here"
   ]
  },
  {
   "cell_type": "markdown",
   "id": "854cf75f",
   "metadata": {},
   "source": [
    "## Exercise 2: Reading in and plotting photometric filters\n",
    "\n",
    "\n",
    "Use the SVO filter profile service http://svo2.cab.inta-csic.es/theory/fps/index.php?mode=browse&gname=Subaru&asttype= to find the transmission curves for the Hubble Space Telescope, the Subaru Telescope, and the GAIA and 2MASS missions. Specifically, we want HST WFC3 F125W and F160W, Subaru Suprime g r i and z, GAIA g, bp, and rp and 2MASS J and H. \n",
    "\n",
    "\n",
    "Load each one and plot them on a single plot and label each filter with a different color. Challenge: try using plt.fill_between() to fill in the filters, and plt.text() to label them directly on the plot (i.e. not in a legend.)"
   ]
  },
  {
   "cell_type": "code",
   "execution_count": 3,
   "id": "057d543d",
   "metadata": {},
   "outputs": [],
   "source": [
    "# Load in transmission curves"
   ]
  },
  {
   "cell_type": "markdown",
   "id": "9ddd2f26",
   "metadata": {},
   "source": [
    "## Now glue them together: overlay the photometric filters on top of your stellar spectra on one plot."
   ]
  },
  {
   "cell_type": "code",
   "execution_count": null,
   "id": "c65e247e",
   "metadata": {},
   "outputs": [],
   "source": [
    "# Your plot here"
   ]
  },
  {
   "cell_type": "markdown",
   "id": "708e7c25",
   "metadata": {},
   "source": [
    "## Exercise 3: Extrapolating stellar spectra to the RJ tail\n",
    "\n",
    "Stars are blackbodies that peak, generally speaking, in the UV or optical regimes. But the Rayleigh-Jeans tail extends into the infrared. If we wanted to calculate infrared colors of these stars, we could approximate the RJ tail as a power law. \n",
    "\n",
    "When fitting a power law, this is a STRAIGHT LINE in loglog space. That means:\n",
    "\n",
    "$$ y = ax^ b $$\n",
    "$$ log(y) = log(a) + b * log(x) $$\n",
    "\n",
    "Now we can just do a linear regression on the long wavelength end of the spectrum. Try using the linregress function from scipy.stats. https://docs.scipy.org/doc/scipy/reference/generated/scipy.stats.linregress.html\n",
    "\n",
    "Fit a power law to each spectrum and plot each out to 2 microns. Plot the original spectrum with the corresponding power law as a dotted line. Keep in mind what form of this equation you will need in order to plot it in a log plot.\n"
   ]
  },
  {
   "cell_type": "code",
   "execution_count": null,
   "id": "82011b11",
   "metadata": {},
   "outputs": [],
   "source": [
    "# your linear regression here\n"
   ]
  },
  {
   "cell_type": "code",
   "execution_count": null,
   "id": "cc42c33d",
   "metadata": {},
   "outputs": [],
   "source": [
    "# your plot here"
   ]
  },
  {
   "cell_type": "markdown",
   "id": "904f6dc2",
   "metadata": {},
   "source": [
    "## Exercise 4: Calculating integrated photometry\n",
    "\n",
    "When calculating the flux within a photometric band, we have to take into account the transmission function of the filter itself. You can read more here: https://arxiv.org/abs/astro-ph/0502120. This will give you info about calculating magnitudes in all kinds of units!\n",
    "\n",
    "\n",
    "The average flux density per WAVELENGTH through a photometric filter is:\n",
    "\n",
    "$$ <F_{\\lambda}> = \\frac{\\int{\\lambda F_{\\lambda}(\\lambda) S(\\lambda) d\\lambda}}{\\int{\\lambda S(\\lambda) d\\lambda}}  $$\n",
    "\n",
    "where $F_{\\lambda}$ is an object's spectrum at the wavelengths of the filter and $S(\\lambda)$ is the transmission curve.\n",
    "\n",
    "This is NOT the same as flux density per FREQUENCY, but one can be converted to the other.\n",
    "\n",
    "The magnitude is \n",
    "\n",
    "$$ m = -2.5 \\rm log(F_{\\nu}) + zeropoint $$\n",
    "\n",
    "where the zeropoint will depend on your photometric system. Here we will use AB mags, where the zeropoint is 8.926 Jy.\n",
    "\n",
    "Fill in the blanks to build your photometry function."
   ]
  },
  {
   "cell_type": "code",
   "execution_count": null,
   "id": "ebe79adf",
   "metadata": {},
   "outputs": [],
   "source": [
    "def AB_mags(spectrum_wave, spectrum_flux, filter_wave, transmission, fnu=True):\n",
    "    '''\n",
    "    Spectrum wave, spectrum flux = wavelength and flux array of your spectrum\n",
    "    Filter wave, transmission = wavelength array and transmission function for a filter\n",
    "    This function is different depending on if your spectrum is in Fnu or Flambda units, so\n",
    "    make sure to check the units of your spectrum. HINT: The ones I've given you are in Flambda. :)\n",
    "    '''\n",
    "    \n",
    "    # Step 1: interpolate your transmission function\n",
    "    phot_filter = ### your interpolation function here\n",
    "    \n",
    "    # Step 2: Define the limits of your spectrum where you will calculate photometry\n",
    "    limits = np.where((spectrum_wave< ???? )\\\n",
    "                        &(spectrum_wave>= ???? ))\n",
    "    \n",
    "    wave_filter = spectrum_wave[limits]\n",
    "    \n",
    "    flux_filter = spectrum_flux[limits]\n",
    "     \n",
    "    # Step 3: Calculate the values of the transmission for the interpolated grid.\n",
    "    filter_response = []\n",
    "    for angstrom in wave_filter:\n",
    "        new_trans = ???\n",
    "        filter_response.append(new_trans)\n",
    "        \n",
    "    \n",
    "    c = 3.0e18 # speed of light in AA/s\n",
    "    \n",
    "    if fnu:\n",
    "    # This is assuming input wavelength is in Angstrom and input flux is in Fnu; need to convert to Flambda if so\n",
    "        Flambda = c / wave_filter**2 * flux_filter\n",
    "    else:\n",
    "        Flambda = flux_filter\n",
    "        \n",
    "    # Step 4: Calculate the integral. What are the arguments from the equation above?\n",
    "    integrand_bottom = ???? \n",
    "    integrand_top = ????\n",
    "    \n",
    "    # Hint: Try using np.trapz for the integration.\n",
    "    average_flux_lambda = ????\n",
    "    \n",
    "    # Step 5: Photometric flux is given in units of Jansky, which is a function of NU, not LAMBDA. I'll do it for you :)\n",
    "    \n",
    "    # Tokunaga+Vacca05 Eqn. A11 --> calculate pivot wavelength to convert <Flambda> to <Fnu>\n",
    "    lambda_pivot_integrand_top = wave_filter * filter_response\n",
    "    lambda_pivot_integrand_bottom = filter_response / wave_filter\n",
    "    # Lambda^2 = the effective central wavelength, helpful to know for plotting purposes\n",
    "    lambda_pivot2 = np.trapz(lambda_pivot_integrand_top, wave_filter) / np.trapz(lambda_pivot_integrand_bottom, wave_filter)\n",
    "    \n",
    "    average_flux_nu = 1e23 * lambda_pivot2 / c * average_flux_lambda # in units of Jy\n",
    "    \n",
    "    # Step 6: Calculate the AB magnitude from the definition of Jy. \n",
    "    \n",
    "    m = ?????\n",
    "    \n",
    "    return m, average_flux_nu, np.sqrt(lambda_pivot2)"
   ]
  },
  {
   "cell_type": "markdown",
   "id": "01f3a273",
   "metadata": {},
   "source": [
    "### Let's test out your function on a spectrum of Vega (located in this directory). Plot the spectrum of Vega. In another panel, plot the g, r, i, y, and z colors from Subaru. Come grab a moderator to check your photometry!"
   ]
  },
  {
   "cell_type": "code",
   "execution_count": null,
   "id": "ef0e7689",
   "metadata": {},
   "outputs": [],
   "source": [
    "# your vega spectrum here"
   ]
  },
  {
   "cell_type": "markdown",
   "id": "8f626c7c",
   "metadata": {},
   "source": [
    "## Exercise 5: Building a table of stellar colors.\n",
    "\n",
    "Because the spectral templates are in arbitrary flux density units, their absolute magnitudes won't make much sense. However, we can still calculate their colors, which is just the difference in magnitudes between two filters! Practice calculating some optical colors like g-r or B-V. Use your photometry function on the infrared portion too and calculate J-H. \n",
    "\n",
    "\n",
    "Create an astropy table to keep track of the spectral type and the various colors. The documentation lives here: https://docs.astropy.org/en/stable/table/construct_table.html\n",
    "\n",
    "Challenge: create a loop that adds a row of information for each spectral type."
   ]
  },
  {
   "cell_type": "code",
   "execution_count": 4,
   "id": "46c82b73",
   "metadata": {},
   "outputs": [],
   "source": [
    "# your table here\n",
    "\n",
    "# Example table initialization:\n",
    "# stellar_table = Table(names=['spectral type', 'B mag'], dtype=('S3', 'float'))\n",
    "# row = ['A0V', '14']\n",
    "# stellar_table.add_row(row)\n",
    "# How would you add more columns or change the initialization to include more columns to begin with?\n",
    "\n"
   ]
  },
  {
   "cell_type": "code",
   "execution_count": null,
   "id": "b0f81338",
   "metadata": {},
   "outputs": [],
   "source": []
  }
 ],
 "metadata": {
  "kernelspec": {
   "display_name": "Python 3 (ipykernel)",
   "language": "python",
   "name": "python3"
  },
  "language_info": {
   "codemirror_mode": {
    "name": "ipython",
    "version": 3
   },
   "file_extension": ".py",
   "mimetype": "text/x-python",
   "name": "python",
   "nbconvert_exporter": "python",
   "pygments_lexer": "ipython3",
   "version": "3.7.11"
  }
 },
 "nbformat": 4,
 "nbformat_minor": 5
}
