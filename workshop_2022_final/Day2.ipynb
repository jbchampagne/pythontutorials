{
 "cells": [
  {
   "cell_type": "markdown",
   "metadata": {},
   "source": [
    "# TAURUS + NSF REU 2022\n",
    "# Introduction to Python Day 2\n",
    "# If Statements, For Loops, Functions & Plotting\n",
    "\n",
    "Welcome back! By now you should be comfortable with some basic Python syntax. Let's get into something a bit more interesting today: control structure! This allows you to actually build up your code.\n",
    "\n",
    "Today we will go over if statements, for loops, and functions, and then we will do a debugging exercise.\n",
    "\n",
    "First let's import some stuff we'll need today: numpy and matplotlib."
   ]
  },
  {
   "cell_type": "code",
   "execution_count": null,
   "metadata": {},
   "outputs": [],
   "source": [
    "import numpy as np\n",
    "import matplotlib.pyplot as plt\n",
    "\n",
    "%matplotlib inline\n",
    "#This part allows you to output plotting images in the notebook."
   ]
  },
  {
   "cell_type": "markdown",
   "metadata": {},
   "source": [
    "## If statement\n",
    "\n",
    "This is a conditional statement where the code will proceed only if the condition is met. Otherwise, the code will stop, or move on to the next condition.\n",
    "\n",
    "The simplest if statement is a true/false boolean, but you can impose any of the conditions that we learned yesterday. \n",
    "\n",
    "Remember that '==' is the equivalence condition, while '=' is a definition."
   ]
  },
  {
   "cell_type": "code",
   "execution_count": null,
   "metadata": {},
   "outputs": [],
   "source": [
    "#The syntax is the following:\n",
    "\n",
    "if 'condition is met':\n",
    "    do something\n",
    "        \n",
    "#If you want to give the code a different option, use 'else'.\n",
    "\n",
    "if 'condition is met':\n",
    "    do something\n",
    "else:\n",
    "    do a different thing\n",
    "        \n",
    "#Thus, the code will only move to 'else' if the first coniditon is false. \n",
    "#To include multiple options, use 'elif', short for 'else if'. \n",
    "\n",
    "if 'condition is met':\n",
    "    'do something'\n",
    "elif different condition is met:\n",
    "    'do something else'\n",
    "else:\n",
    "    'do another thing'"
   ]
  },
  {
   "cell_type": "markdown",
   "metadata": {},
   "source": [
    "## For loops\n",
    "\n",
    "For loops allow you to go through the values in an array or list and perform some operation or check a condition for each entry. The basic syntax is \"for x in y.\" \n",
    "\n",
    "    for x in y:\n",
    "        do something\n",
    "        \n",
    "\"X\" refers to the element within \"Y\", so you can define \"X\" with any character(s), but \"Y\" refers to the array or list you're looping over. "
   ]
  },
  {
   "cell_type": "markdown",
   "metadata": {},
   "source": [
    "Another way to write a for loop is to loop over the *indices* of the array rather than the values themselves. This allows you, for instance, to keep track of the same entry position in multiple arrays, or handle a situation where the location of the array is more important than the value. You'll see what I mean in a minute. If you do it this way, the syntax goes like this. The number of possible locations in the array is the length of the array, so in the range the length of the array, loop over every location:\n",
    "\n",
    "    for i in range(len(array)):\n",
    "        do something to array[i]\n",
    "        \n",
    "Now \"i\" is the index value rather than the value of the array. Here's an example:"
   ]
  },
  {
   "cell_type": "code",
   "execution_count": null,
   "metadata": {},
   "outputs": [],
   "source": [
    "array = np.linspace(0, 10, 21)\n",
    "\n",
    "for a in array:\n",
    "    print(\"a =\", a)\n",
    "\n",
    "for a in range(len(array)):\n",
    "    print(\"the\", a, \"th value of array is\", array[a])"
   ]
  },
  {
   "cell_type": "markdown",
   "metadata": {},
   "source": [
    "### Aside: A handy trick for printing things is the % formatter. This could be useful when titling plots or legends for instance, or when a print statement has multiple components.\n",
    "\n",
    "Another way to write the above would be:\n",
    "\n",
    "    for a in array:\n",
    "\n",
    "        print(\"a = %f\" %a)\n",
    "    \n",
    "There is more fancy formatting that comes along with this. '%s' is a string, '%i' is an integer, and '%f' is a float. \n",
    "'%.2f' would mean a float with 2 decimal points for example."
   ]
  },
  {
   "cell_type": "markdown",
   "metadata": {},
   "source": [
    "### We can also combine these two methods by using enumeration, which keeps track of the value and the index at the same time. An example would be:\n",
    "\n",
    "    for i, val in enumerate(array):\n",
    "\n",
    "        val_square = val**2\n",
    "    \n",
    "        print(\"the %i'th value squared is %f\" %(i, val_square))\n",
    "    "
   ]
  },
  {
   "cell_type": "code",
   "execution_count": null,
   "metadata": {},
   "outputs": [],
   "source": [
    "for i, val in enumerate(array):\n",
    "    val_square = val**2\n",
    "    print(\"the %ith value squared is %.2f\" %(i, val_square))\n",
    "    "
   ]
  },
  {
   "cell_type": "markdown",
   "metadata": {},
   "source": [
    "# Note: \n",
    "Combo time! You can also embed if statements into for loops, which checks the conditional statement for every value of the array. "
   ]
  },
  {
   "cell_type": "code",
   "execution_count": null,
   "metadata": {},
   "outputs": [],
   "source": [
    "random_numbers = np.random.uniform(size = 1000)\n",
    "\n",
    "for numbers in random_numbers:\n",
    "    \n",
    "    if numbers < .2:\n",
    "        print(f'{numbers:.2f} is less than .2')"
   ]
  },
  {
   "cell_type": "markdown",
   "metadata": {},
   "source": [
    "## User-defined functions\n",
    "\n",
    "This is where the true programming comes in. Basically any code you write will be a series of functions that accomplish some task. Functions include mathematical expressions, list/array sorting, MCMC codes, statistical operations, and many more. \n",
    "\n",
    "The syntax goes like this:\n",
    "\n",
    "    def function(a, b, c):\n",
    "        do something\n",
    "        return something\n",
    "    \n",
    "First you define the function using \"def\". The definition of the function includes the name of the function, which you will use to call it, and the arguments required for the function to work. You should leave the arguments as variables, and you will give the variables values when you call the function.\n",
    "\n",
    "Inside the function, some operation will be performed on the variables you've provided. However, the function won't actually give you any output unless you use return. Return tells the function what to give you back.\n",
    "\n",
    "Here's an example:"
   ]
  },
  {
   "cell_type": "code",
   "execution_count": null,
   "metadata": {},
   "outputs": [],
   "source": [
    "def line(m, b, x):\n",
    "    y = m * x + b\n",
    "    return y"
   ]
  },
  {
   "cell_type": "markdown",
   "metadata": {},
   "source": [
    "Now, to run the function, you can supply values for the arguments. You can feed the function an array as well.\n",
    "\n"
   ]
  },
  {
   "cell_type": "code",
   "execution_count": null,
   "metadata": {},
   "outputs": [],
   "source": [
    "one_value = line(1, 2, 3)\n",
    "array_of_values = line(1, 2, np.linspace(0, 5, 100))\n",
    "\n",
    "print(one_value, array_of_values)"
   ]
  },
  {
   "cell_type": "markdown",
   "metadata": {},
   "source": [
    "## Plotting!\n",
    "\n",
    "You will probably spend the majority of your time in astronomy making pretty plots so let's explore that now! You will need to use matplotlib.pyplot, which most people import as plt.\n",
    "\n",
    "    import matplotlib.pyplot as plt\n",
    "\n",
    "The only required arguments are x-values and y-values, and anything else is #aesthetic.\n",
    "\n",
    "So the syntax is like this:\n",
    "\n",
    "    plt.plot(x, y, kwargs)\n",
    "    \n",
    "You can also do a log10 plot using plt.loglog().\n",
    "\n",
    "Some of the customizations include:\n",
    "\n",
    "    markerstyle: o (circles), ^ (triangles), * (stars), . (small points), etc\n",
    "    linestyle: - (solid line), -- (dotted line), : (fine dotted line), etc\n",
    "    color: b (blue), r (red), c (cyan), m (magenta), y (yellow), k (black), g (green), etc\n",
    "    alpha: opacity, a float set between 0 and 1\n",
    "    label: name of that dataset to be used in the legend\n",
    "    \n",
    "Every keyword argument besides alpha (which is a float) should be given as a string.\n",
    "    \n",
    "To initialize our plot, we may want to specify something like the size in inches.\n",
    "\n",
    "    fig = plt.figure(figsize=(4, 4))\n",
    "    \n",
    "Then we call our plt.plot() function. After plt.plot(), you might want to add some other information like axis labels.\n",
    "\n",
    "    plt.xlabel(string) - x axis label\n",
    "    plt.ylabel(string) - y axis label\n",
    "    plt.axis([xlo, xhi, ylo, yhi]) - in the brackets list x_lowerlimit, x_upperlimit, y_lowerlimit, y_upperlimit for axis display\n",
    "    plt.title(string) - plot title\n",
    "    plt.legend() - adds a legend, but plt.plot() must contain a \"label\" argument\n",
    "    plt.show() - displays your plot\n",
    "    \n",
    "Here's a detailed example. By the way, you can use shorthand for the marker/line style and the color, so instead of typing out \"markerstyle=blah, color=blah\", it will also understand simply \"ob\" (blue circles).\n",
    "\n",
    "Also, for labeling purposes, you can use Greek letters the same way as in LaTeX. You'll learn more about LaTeX in another seminar, but the basic syntax for greek letters is '$\\[greeklettername]'. For instance (double click this cell to see the markup):\n",
    "\n",
    "$\\alpha$ \n",
    "$\\beta$\n",
    "$\\Gamma$\n",
    "$\\Lambda$\n",
    "\n",
    "All symbols are enclosed in dollar signs and begin with a backslash. There are also astronomy-specific ones that might come in handy, like the solar symbol ('odot'). Example: this star has a mass of 10 $M_{\\odot}$. \n",
    "\n",
    "Here is a comprehensive list of LaTeX symbols: https://math.uoregon.edu/wp-content/uploads/2014/12/compsymb-1qyb3zd.pdf\n",
    "\n",
    "Another helpful tool is your matplotlibrc file which can be customized with a default color setting, font size, minor ticks, you name it. I've included one in this directory, which is automatically read in when you start the notebook. The fonts are larger, the colors are more colorblind friendly, and minor ticks are automatically on here -- all better than Python defaults!\n",
    "\n",
    "More on editing it here: https://matplotlib.org/3.5.0/tutorials/introductory/customizing.html\n",
    "Note that it will check your working directory first, so move this around if you want to use it.\n",
    "\n"
   ]
  },
  {
   "cell_type": "code",
   "execution_count": null,
   "metadata": {},
   "outputs": [],
   "source": [
    "a = np.array([0, 1, 2, 3])\n",
    "b = np.array([10, 9, 8, 7])\n",
    "\n",
    "fig = plt.figure(figsize=(6, 6))\n",
    "plt.plot(a[:2], b[:2], 'ob', markersize=15, label='blue circles') #plot the first two values as blue circles\n",
    "plt.plot(a[2:], b[2:], '^m', label='pink triangles') #plot the second two values as magenta triangles\n",
    "plt.xlabel(r'$\\alpha$', fontsize=16)\n",
    "plt.ylabel(r'$\\beta$', fontsize=16)\n",
    "plt.title('my first plot', fontsize=20, style='oblique')\n",
    "plt.legend(loc=1, frameon=True) #'loc' moves the legend around, frameon puts a box around the legend\n",
    "plt.show()"
   ]
  },
  {
   "cell_type": "markdown",
   "metadata": {},
   "source": [
    "Finally, to save a figure, write fig = plt.figure() before your plot, and before you call plt.show(), write fig.savefig('filename.jpg'). "
   ]
  },
  {
   "cell_type": "code",
   "execution_count": null,
   "metadata": {},
   "outputs": [],
   "source": []
  },
  {
   "cell_type": "markdown",
   "metadata": {},
   "source": [
    "## Scatter Plots\n",
    "\n",
    "Finally, let's say that your function had a third dimension -- in astronomy, you might have a situation where you have RA, dec, and velocity information. There are 3D plot options, but another way to display this information would be with a color-coded scatter plot. Here, there is an argument called \"c\" for color, where a gradient might stand for the third dimension. Try it out!\n",
    "\n",
    "Syntax:\n",
    "\n",
    "    plt.scatter(x, y, c=z_array, s=markersize)\n",
    "   \n",
    "Annoyingly, the markersize here has a different scale than the markersize in plt.plot, so you'll need to mess with it."
   ]
  },
  {
   "cell_type": "code",
   "execution_count": null,
   "metadata": {},
   "outputs": [],
   "source": []
  },
  {
   "cell_type": "markdown",
   "metadata": {},
   "source": [
    "# Plotting 2D Images\n",
    "\n",
    "Python has a convenient function as part of the matplotlib package that allows you to plot 2D arrays. This is perfect fi you are trying to plot an image especially more so when you have an astronomical image and you need to show certain features of your object for your paper. the function that allows for plotting of 2D arrays is called imshow, which I believe is short for image show. It takes only one main argument and that is the 2D array it can also be a N x M x 3 where the three stacks of images are the RGB values of the image. \n",
    "\n",
    "To plot using imshow with your 2D array stored in the variable image you simply write out:\n",
    "\n",
    "    plt.imshow(image)"
   ]
  },
  {
   "cell_type": "code",
   "execution_count": null,
   "metadata": {},
   "outputs": [],
   "source": [
    "#some packages to read in the cool galaxy image\n",
    "import matplotlib.image as mpimg\n",
    "cool_galaxy = mpimg.imread('Galaxy_Image.jpeg')"
   ]
  },
  {
   "cell_type": "code",
   "execution_count": null,
   "metadata": {},
   "outputs": [],
   "source": [
    "#lets plot the galaxy\n",
    "plt.figure(figsize = (12, 7))\n",
    "plt.imshow(cool_galaxy)\n",
    "plt.show()"
   ]
  },
  {
   "cell_type": "code",
   "execution_count": null,
   "metadata": {},
   "outputs": [],
   "source": [
    "#Lets dive a bit deeper what is the cool_galaxy variable storing, look into the shape of it\n",
    "cool_galaxy.shape"
   ]
  },
  {
   "cell_type": "code",
   "execution_count": null,
   "metadata": {},
   "outputs": [],
   "source": [
    "#It is a 3D array with 3 198 x 254 arrays lets see what the first one looks like"
   ]
  },
  {
   "cell_type": "code",
   "execution_count": null,
   "metadata": {},
   "outputs": [],
   "source": [
    "plt.figure(figsize = (12, 7))\n",
    "plt.imshow(cool_galaxy[:, :, 0])\n",
    "plt.show()"
   ]
  },
  {
   "cell_type": "code",
   "execution_count": null,
   "metadata": {},
   "outputs": [],
   "source": [
    "plt.figure(figsize = (12, 7))\n",
    "plt.imshow(cool_galaxy[:, :, 1])\n",
    "plt.show()"
   ]
  },
  {
   "cell_type": "code",
   "execution_count": null,
   "metadata": {},
   "outputs": [],
   "source": [
    "plt.figure(figsize = (12, 7))\n",
    "plt.imshow(cool_galaxy[:, :, 2])\n",
    "plt.show()"
   ]
  },
  {
   "cell_type": "code",
   "execution_count": null,
   "metadata": {},
   "outputs": [],
   "source": [
    "# We can do all the cool stuff from previous plotting such as title x and y labels even \n",
    "# zooming in to regions\n",
    "\n",
    "#lets plot the galaxy\n",
    "plt.figure(figsize = (12, 7))\n",
    "plt.title('Center of the Galaxy :D')\n",
    "plt.imshow(cool_galaxy, origin = 'lower')\n",
    "plt.xlabel('RA')\n",
    "plt.ylabel('DEC')\n",
    "plt.xlim(100, 150)\n",
    "plt.ylim(50, 150)\n",
    "plt.show()"
   ]
  },
  {
   "cell_type": "markdown",
   "metadata": {},
   "source": [
    "# Exercises"
   ]
  },
  {
   "cell_type": "markdown",
   "metadata": {},
   "source": [
    "## Exercise 1\n",
    "A. Create an array containing the values 4, 0, 6, 5, 11, 14, 12, 14, 5, 16.\n",
    "\n",
    "B. Create a 10x2 array of zeros.\n",
    "\n",
    "C. Write a for loop that checks if each of the numbers in the first array squared is less than 100. If the statement is true, change that row of your zeros array to equal the number and its square. Hint: you can change the value of an array by stating \"zerosarray[i] = [a number, a number squared]\".\n",
    "\n",
    "D. Print out the final version of your zeros array.\n",
    "\n",
    "Hint: should you loop over the elements of the array or the indices of the array? Does enumerate help you at all?"
   ]
  },
  {
   "cell_type": "code",
   "execution_count": null,
   "metadata": {},
   "outputs": [],
   "source": []
  },
  {
   "cell_type": "markdown",
   "metadata": {},
   "source": [
    "## Exercise 2\n",
    "A. Write a function that takes an array of numbers and spits out the Gaussian distribution. Yes, there is a function for this in Python, but it's good to do this from scratch! This is the equation:\n",
    "\n",
    "\n",
    "$N(x, \\mu, \\sigma) = \\frac{1}{\\sqrt{2 \\pi}\\sigma} e^{-\\frac{(x - \\mu)^2}{2\\sigma^2}}$\n",
    " \n",
    " \n",
    "(Pi is built into numpy, so call it as np.pi. Also, double click this cell to see the markup for writing LaTeX math.)\n",
    "\n",
    "B. Call the function a few different times for different values of mu and sigma, between -10 < x < 10.\n",
    "\n",
    "C. Plot each version, making sure they are differentiated with different colors and/or linestyles and include a legend. Btw, here's a list of the customizations available in matplotlib:\n",
    "\n",
    "https://matplotlib.org/3.1.0/api/_as_gen/matplotlib.pyplot.plot.html\n",
    "\n",
    "https://matplotlib.org/gallery/color/named_colors.html\n",
    "\n",
    "D. Save your figure.\n",
    "\n",
    "If you have multiple lines with plt.plot(), Python will plot all of them together, unless you write plt.show() after each one. I want these all on one plot."
   ]
  },
  {
   "cell_type": "code",
   "execution_count": null,
   "metadata": {},
   "outputs": [],
   "source": []
  },
  {
   "cell_type": "code",
   "execution_count": null,
   "metadata": {},
   "outputs": [],
   "source": []
  },
  {
   "attachments": {
    "Screen%20Shot%202022-05-25%20at%2010.26.24%20AM.png": {
     "image/png": "[encoded data removed]"
    }
   },
   "cell_type": "markdown",
   "metadata": {},
   "source": [
    "## Exercise 3: Matrix Multiplication\n",
    "\n",
    "You have a last minute linear algebra homework and you are tired of doing matrix multiplication by hand so you decide to use your amazing python knowledge to speed things up. You get the idea that you can code up matrix multiplication to get the answer. Your goal is to wirte a function that takes any N x M and M x P array and performs the matrix multiplication that results in an N x P matrix. The equation for getting the elements of the matrix product C from matrix A and B is given below.\n",
    "\n",
    "![Screen%20Shot%202022-05-25%20at%2010.26.24%20AM.png](attachment:Screen%20Shot%202022-05-25%20at%2010.26.24%20AM.png)\n",
    "\n",
    "Where i corresponds to the rows, j corresponds to the columns."
   ]
  },
  {
   "cell_type": "code",
   "execution_count": null,
   "metadata": {},
   "outputs": [],
   "source": [
    "#Code Here\n"
   ]
  },
  {
   "cell_type": "code",
   "execution_count": null,
   "metadata": {},
   "outputs": [],
   "source": [
    "#you can check you answer below with some numpy function\n",
    "np.random.seed(42)\n",
    "matrix1 = np.random.random(size = (10, 10))\n",
    "matrix2 = np.random.random(size = (10, 5))\n",
    "\n",
    "# Your Function Below and input these two matrices\n"
   ]
  },
  {
   "cell_type": "code",
   "execution_count": null,
   "metadata": {},
   "outputs": [],
   "source": [
    "#compare to the output by numpys np.dot function, do they match up?\n",
    "np.dot(matrix1, matrix2)"
   ]
  }
 ],
 "metadata": {
  "kernelspec": {
   "display_name": "Python 3 (ipykernel)",
   "language": "python",
   "name": "python3"
  },
  "language_info": {
   "codemirror_mode": {
    "name": "ipython",
    "version": 3
   },
   "file_extension": ".py",
   "mimetype": "text/x-python",
   "name": "python",
   "nbconvert_exporter": "python",
   "pygments_lexer": "ipython3",
   "version": "3.7.11"
  }
 },
 "nbformat": 4,
 "nbformat_minor": 2
}
