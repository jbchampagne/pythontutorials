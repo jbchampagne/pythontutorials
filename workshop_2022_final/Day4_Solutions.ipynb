{
 "cells": [
  {
   "cell_type": "code",
   "execution_count": null,
   "metadata": {},
   "outputs": [],
   "source": [
    "from astropy import constants as const\n",
    "import numpy as np\n",
    "import matplotlib.pyplot as plt\n",
    "from astropy import units as u\n",
    "from astropy.coordinates import SkyCoord\n",
    "from astropy.io import fits"
   ]
  },
  {
   "cell_type": "markdown",
   "metadata": {},
   "source": [
    "## Exercise 1\n",
    "Let's practice some more plotting skills, now incorporating units.\n",
    "\n",
    "A. Write a function that takes an array of frequencies and spits out the Planck distribution. That's this equation:\n",
    "\n",
    "$ B(\\nu, T) = \\frac{2h\\nu^3/c^2}{e^{\\frac{h\\nu}{k_B T}} - 1}$\n",
    " \n",
    " \n",
    "This requires you to use the Planck constant, the Boltzmann constant, and the speed of light from astropy. Make sure they are all in cgs.\n",
    "\n",
    "B. Plot your function in log-log space for T = 25, 50, and 300 K. The most sensible frequency range is about $10^5$ to $10^{15}$ Hz. Hint: if your units are correct, your peak values of B(T) should be on the order of $10^{-10}$. Make sure everything is labelled."
   ]
  },
  {
   "cell_type": "code",
   "execution_count": null,
   "metadata": {},
   "outputs": [],
   "source": [
    "from astropy import constants as const \n",
    "\n",
    "h = const.h.cgs.value\n",
    "kB = const.k_B.cgs.value\n",
    "c = const.c.cgs.value\n",
    "\n",
    "def planck(nu, T):\n",
    "    num = 2 * h * nu**3 / c**2\n",
    "    denom = np.exp( (h * nu) / (kB * T)) - 1\n",
    "    return num / denom\n",
    "\n",
    "nu_array = np.logspace(5, 15, 1000)\n",
    "T1 = 25.\n",
    "T2 = 50.\n",
    "T3  = 300.\n",
    "\n",
    "B1 = planck(nu_array, T1)\n",
    "B2 = planck(nu_array, T2)\n",
    "B3 = planck(nu_array, T3)\n",
    "\n",
    "# plot it for 3 dust temperatures\n",
    "\n",
    "plt.loglog(nu_array, B1, 'k:', label='T=25 K')\n",
    "plt.loglog(nu_array, B2, '--', color='orchid', label='T = 50 K')\n",
    "plt.loglog(nu_array, B3, '-', color='lightseagreen', label='T = 300K')\n",
    "\n",
    "plt.legend(fontsize=14)\n",
    "\n",
    "plt.ylim(1e-36, 1e-7)\n",
    "\n",
    "plt.xlabel(r'$\\nu$ (Hz)', fontsize=16)\n",
    "plt.ylabel(r'B($\\nu$, T)', fontsize=16)"
   ]
  },
  {
   "cell_type": "markdown",
   "metadata": {},
   "source": [
    "# Exercise 2\n",
    "\n",
    "Let's put everything together now! Here's a link to the full documentation for FITSFigure, which will tell you all of the customizable options: http://aplpy.readthedocs.io/en/stable/api/aplpy.FITSFigure.html. Let's create a nice plot of M51 with a background optical image and X-ray contours overplotted.\n",
    "\n",
    "The data came from here if you're interested: http://chandra.harvard.edu/photo/openFITS/multiwavelength_data.html\n",
    "\n",
    "A. Using astropy, open the X-RAY data (m51_xray.fits). Flatten the data array and find its standard deviation, and call it sigma.\n",
    "\n",
    "B. Using aplpy, plot a colorscale image of the OPTICAL data. Choose a colormap that is visually appealing (list of them here: https://matplotlib.org/2.0.2/examples/color/colormaps_reference.html). Show the colorbar. \n",
    "\n",
    "C. Plot the X-ray data as contours above the optical image. Make the contours spring green with 80% opacity and dotted lines. Make the levels go from 2$\\sigma$ to 10$\\sigma$ in steps of 2$\\sigma$. (It might be easier to define the levels array before show_contours, and set levels=levels.)"
   ]
  },
  {
   "cell_type": "code",
   "execution_count": null,
   "metadata": {},
   "outputs": [],
   "source": [
    "# A.\n",
    "from astropy.io import fits\n",
    "\n",
    "xray_data = fits.open('m51_xray.fits')[0].data\n",
    "sigma = np.std(xray_data.flatten())\n",
    "\n",
    "# B.\n",
    "import aplpy\n",
    "\n",
    "xray = aplpy.FITSFigure('../m51_optical_B.fits')\n",
    "xray.show_colorscale(vmid=0, cmap='plasma')\n",
    "\n",
    "# C.\n",
    "levels = np.arange(2, 12, 2) * sigma\n",
    "xray.show_contour('../m51_xray.fits', levels=levels, colors='springgreen', linewith=0.25, alpha=0.8)"
   ]
  },
  {
   "cell_type": "markdown",
   "metadata": {},
   "source": [
    "## Exercise 3: Spectral Analysis\n",
    "\n",
    "Code and Exercise provided to us by Olivia Cooper"
   ]
  },
  {
   "cell_type": "code",
   "execution_count": 2,
   "metadata": {},
   "outputs": [],
   "source": [
    "import numpy as np\n",
    "import matplotlib.pyplot as plt\n",
    "from matplotlib.ticker import AutoMinorLocator\n",
    "%matplotlib inline\n",
    "import pandas as pd\n",
    "import astropy\n",
    "from astropy.io import fits\n",
    "from astropy.visualization import ZScaleInterval\n",
    "from astropy.stats import sigma_clip\n",
    "from scipy.optimize import curve_fit\n",
    "#plt.style.use('cooper-paper.mplstyle')"
   ]
  },
  {
   "cell_type": "markdown",
   "metadata": {},
   "source": [
    "# Plotting spectra in 1D and 2D\n",
    "\n",
    "In this example, we'll be looking at a source from a MOSFIRE program called The MOSFIRE Deep Evolution Field Survey (MOSDEF). This data set contains hundreds of galaxies (find the data here: https://mosdef.astro.berkeley.edu/for-scientists/data-releases/), but we'll look at just one."
   ]
  },
  {
   "cell_type": "code",
   "execution_count": null,
   "metadata": {},
   "outputs": [],
   "source": [
    "# load in the spectrum in 1D and 2D for object 2335 in the MOSDEF catalog\n",
    "\n",
    "#This is the one that has 2335.2d.fits extension\n",
    "hdu2 = fits.open('data/co2_01.H.2335.2d.fits') # 2d spectrum\n",
    "\n",
    "#This is the one that has 2335.2d.fits extension\n",
    "hdu1 = fits.open('data/co2_01.H.2335.ell.1d.fits') # 1d spectrum"
   ]
  },
  {
   "cell_type": "markdown",
   "metadata": {},
   "source": [
    "Let's first look at the 2D spectrum. Based on the header, we want to look at the science frame, extension 1. (If you want to see the noise frames etc, type in the appropriate index for the extension noted in the header!) I wrote a quick function to help us plot it."
   ]
  },
  {
   "cell_type": "code",
   "execution_count": null,
   "metadata": {},
   "outputs": [],
   "source": [
    "# it's a good idea to check out the header to see how the data are set up, \n",
    "#Open up the header for the 2D file\n",
    "\n",
    "#Code here\n",
    "\n",
    "hdu2[0].header"
   ]
  },
  {
   "cell_type": "code",
   "execution_count": null,
   "metadata": {},
   "outputs": [],
   "source": [
    "def show_2d(image, lower=-1, upper=2):\n",
    "    \"\"\"\n",
    "    Plot grayscaled 2D spectrum\n",
    "\n",
    "    Parameters\n",
    "    ----------\n",
    "    image : fits data\n",
    "        Fits data for 2D image.\n",
    "        \n",
    "    lower : float\n",
    "        Lower value to dictate vmin for grayscale. The default is -1.\n",
    "    \n",
    "    upper : float\n",
    "        Upper value to dictate vmax for grayscale. The default is 2.\n",
    "\n",
    "    Returns\n",
    "    -------\n",
    "    Plot of 2D spectrum.\n",
    "\n",
    "    \"\"\"\n",
    "\n",
    "    sample = sigma_clip(image) \n",
    "    vmin = sample.mean() + lower * sample.std()\n",
    "    vmax = sample.mean() + upper * sample.std()\n",
    "    plt.figure(figsize=(15, 3))\n",
    "    plt.imshow(image, origin='lower', cmap='gray', aspect='auto', vmin=vmin, vmax=vmax)\n",
    "    plt.xlabel('Column Number')\n",
    "    plt.ylabel('Row Number')\n",
    "    plt.grid(False)"
   ]
  },
  {
   "cell_type": "code",
   "execution_count": null,
   "metadata": {},
   "outputs": [],
   "source": [
    "# display the 2D spectrum\n",
    "\n",
    "show_2d(hdu2[1].data) "
   ]
  },
  {
   "cell_type": "markdown",
   "metadata": {},
   "source": [
    "You'll notice a few things: \n",
    "1) Going across the image there is a white line -- this is the continuum! That is the signal or light coming from the galaxy, all spread out in wavelength space.\n",
    "\n",
    "2) Above and below the continuum there are black lines going across. This is the negative of the signal, and is a feature we expect to see in this type of data if the signal is real (it's a product of the ABBA set-up...ask us if you want to know more!).\n",
    "\n",
    "3) There are TV static noisy vertical features -- these are the residuals of sky lines, of which there are a ton in the near-infrared! These sky lines have to be removed (as they are here) so we can extract the underlying signal from the galaxy.\n",
    "\n",
    "4) Along the continuum, there are a couple bright spots. Finding and identifying these features is our goal! These are emission lines, and based on the exact positions of these we can measure a spectroscopic redshift :-) More on this later...\n",
    "\n",
    "The rows and columns are showing the pixel scale, but there is information in the header of the FITS file that tells us how to convert from pixels to wavelength so we can precisely analyze the data. Let's do this with the 1D spectrum..."
   ]
  },
  {
   "cell_type": "code",
   "execution_count": null,
   "metadata": {},
   "outputs": [],
   "source": [
    "# Lets compare the header of the 2D spectrum with the header of the 1D spectrum\n",
    "\n",
    "#Code for 1D header here\n",
    "\n",
    "hdu1[0].header"
   ]
  },
  {
   "cell_type": "markdown",
   "metadata": {},
   "source": [
    "That's a lot of info! Take a gander and see what you can find. (Remind us to talk about optimal vs boxcar extraction sometime if we haven't already) \n",
    "\n",
    "Of interest to us at the moment is our wavelength scaling info. We will use the information in the 1D spectra header to make our wavelength array.\n",
    "\n",
    "Of particular interest to us are the following keywords in the header:\n",
    "\n",
    "CRVAL1: This tells us the starting wavelength for our array \\\n",
    "CDELT1: This tells us the spacing between wavelengths (ie: the $\\Delta \\lambda$ between different pixels)\\\n",
    "NAXIS1: The length of the wavelength array"
   ]
  },
  {
   "cell_type": "code",
   "execution_count": null,
   "metadata": {},
   "outputs": [],
   "source": [
    "spec_header = hdu1[1].header"
   ]
  },
  {
   "cell_type": "code",
   "execution_count": null,
   "metadata": {},
   "outputs": [],
   "source": [
    "# Translate the header data into a wavelength array\n",
    "# Generate a wavelength array using the optimal extraction extension\n",
    "# The starting value fo the wavelength array is located at\n",
    "# CRVAL1 and goes the length of the array using NAXIS1 in steps of CDELT1\n",
    "#       ENTRY1\n",
    "# Wavelength = CRVAL1 + CDELT1, ENTRY1 + CDELT1, ENTRY2 + CDELT1, ...,  \n",
    "\n",
    "start_wave = spec_header['CRVAL1']\n",
    "length_of_arr = spec_header['NAXIS1']\n",
    "delta_wave = spec_header['CDELT1']\n",
    "\n",
    "wavelength = start_wave + np.arange(0, length_of_arr, 1) * delta_wave\n",
    "\n",
    "#Use your knowledge of Astropy hdu objects to get the spectral data\n",
    "spec1d = hdu1[1].data"
   ]
  },
  {
   "cell_type": "markdown",
   "metadata": {},
   "source": [
    "Great! Now we have the data for the x-axis (wavelength) and for the y-axis (spectrum). Let's plot!"
   ]
  },
  {
   "cell_type": "code",
   "execution_count": null,
   "metadata": {},
   "outputs": [],
   "source": [
    "# plot the 1D spectrum\n",
    "\n",
    "plt.plot(wavelength, spec1d)\n",
    "plt.xlabel(r'Wavelength $[\\AA]$')\n",
    "plt.ylabel(r'Signal [$erg\\, s^{-1}\\, cm^{-2}\\, \\AA^{-1}$]')"
   ]
  },
  {
   "cell_type": "markdown",
   "metadata": {},
   "source": [
    "Uh...what does it mean? Basically, the way `matplotlib` has scaled this data is terrible. But that's fair, because spectra have huge noise spikes that we don't care about. So, we gotta scale better!"
   ]
  },
  {
   "cell_type": "code",
   "execution_count": null,
   "metadata": {},
   "outputs": [],
   "source": [
    "# plot the 1D spectrum, now with a better scale\n",
    "### note, another way to do this is to multiply the signal by a factor\n",
    "### here I would use 1e17 and then set ylim from -1 to 1\n",
    "\n",
    "plt.plot(wavelength, spec1d)\n",
    "plt.xlabel(r'Wavelength $[\\AA]$')\n",
    "plt.ylabel(r'Signal [$erg\\, s^{-1}\\, cm^{-2}\\, \\AA^{-1}$]')\n",
    "\n",
    "#Play around with a scaling below so that you can see the emission features of the spectrum \n",
    "#very prominently \n",
    "\n",
    "plt.xlim(15000,18000)\n",
    "plt.ylim(-1e-17,1e-17)"
   ]
  },
  {
   "cell_type": "markdown",
   "metadata": {},
   "source": [
    "There's our signal!! And you may start to notice some features...it'll get easier with practice looking at spectroscopic data. And using the 1D and 2D together is essential to pick out the features in 1D!"
   ]
  },
  {
   "cell_type": "markdown",
   "metadata": {},
   "source": [
    "# Fitting for a redshift\n",
    "\n",
    "Our next task is to figure out what lines we're seeing. Load in the provided line list and let's see if we can figure it out.\n",
    "\n",
    "The following cell loads in common emission, absoprtions and sky lines at various rest-frame wavelengths data from the Sloan digital Sky Survey (SDSS)."
   ]
  },
  {
   "cell_type": "code",
   "execution_count": null,
   "metadata": {},
   "outputs": [],
   "source": [
    "# list of spectral lines (originally from SDSS)\n",
    "### shows the vacuum (rest) wavelength, the species, and the type of line\n",
    "\n",
    "lines = pd.read_csv('linelist.csv',delimiter=\",\",comment='#') # all lines\n",
    "em = lines[lines['type']=='Emission'] # emission lines\n",
    "ab = lines[lines['type']=='Absorption'] # absorption lines\n",
    "sky = lines[lines['type']=='Sky'] # absorption lines\n",
    "\n",
    "em"
   ]
  },
  {
   "cell_type": "markdown",
   "metadata": {},
   "source": [
    "We will use these lines to figure out the redshift of the galaxy we are looking at. Redshift is an astronomical term that basically tells us how much the light from a galaxy has been stretched due to the expansion of the universe. I more nearby galaxy will have little stretch and will have a low redshift where a galaxy further away will have its light stretched more and will have a higher redshift. \n",
    "\n",
    "Our task is to take the lines that we loaded in and determine the redshift of the source. We will do this by guessing where the lines should be for a given redshift.\n",
    "\n",
    "Your task is to input a guess for redshift in for zguess below and try to match up line features in the spectrum, Matching the emission features with spikes, and absorption features with dips."
   ]
  },
  {
   "cell_type": "code",
   "execution_count": null,
   "metadata": {},
   "outputs": [],
   "source": [
    "# pay attention to the scaling here!\n",
    "# your task: change zguess until the lines match up with the features :-) \n",
    "\n",
    "zguess = 2.3074 ## adjust the redshift!\n",
    "\n",
    "plt.plot(wavelength, spec1d*1e17)\n",
    "plt.xlabel(r'Wavelength $[\\AA]$')\n",
    "plt.ylabel(r'Signal [$10^{-17} erg\\, s^{-1}\\, cm^{-2}\\, \\AA^{-1}$]')\n",
    "\n",
    "plt.xlim(15500,17000)\n",
    "plt.ylim(-0.5,1.5)\n",
    "\n",
    "#Plotting the lines\n",
    "plt.plot(ab['lambda']*(1+zguess),0*np.ones_like(ab['lambda']),'kv',ms=3,label='absorption')\n",
    "plt.plot(em['lambda']*(1+zguess),0*np.ones_like(em['lambda']),'k^',ms=3,label='emission')\n",
    "plt.plot(sky['lambda']*(1+zguess),0*np.ones_like(sky['lambda']),'kd',ms=3,label='sky')\n",
    "\n",
    "#this is code that draws an arrow for us to visually see them lining up\n",
    "for i in range(len(lines['lambda'])):\n",
    "    plt.annotate(str(lines['species'][i]+', '+str(lines['lambda'][i])),xy=(lines['lambda'][i]*(1+zguess), 0),\\\n",
    "                xytext=(lines['lambda'][i]*(1+zguess)-10, 1),arrowprops=dict(arrowstyle=\"-\",),size=7,rotation=90)\n",
    "plt.legend()"
   ]
  },
  {
   "cell_type": "markdown",
   "metadata": {},
   "source": [
    "# More Exact Redshift Estimate\n",
    "\n",
    "Doing things by eye is a great first start but our eyes cannot see down to very fine details. For exact science and a more robust prediction on the redshift we need to use fitting techniques to fit the emission line and get a better measurment of the peak emission wavelength. For that we will use $\\textbf{Model Fitting}$.\n",
    "\n",
    "Your goal is to fit an emission line of your choosing with a Gaussian and provide us with the wavelength and the spectrosopic redshift of the source."
   ]
  },
  {
   "cell_type": "code",
   "execution_count": null,
   "metadata": {},
   "outputs": [],
   "source": [
    "# First step is to make the model of our Gaussian \n",
    "# Complete the function definition of this Gaussian\n",
    "# Look back to Day 3 for definition of a Gaussian or feel free to google it\n",
    "# Just note what each parameter in this gaussian is in the context of the spectra\n",
    "\n",
    "# x = wavelength\n",
    "# sigma = broadness of the emission line\n",
    "# A = amplitude of the emission line\n",
    "# mu = centered mean of the gaussian\n",
    "\n",
    "def gaussian(x, A, mu, sigma):\n",
    "    '''\n",
    "    Function declaration for a Gaussian\n",
    "    \n",
    "    Input(s)\n",
    "    ----------\n",
    "    \n",
    "    \n",
    "    Output(s)\n",
    "    -------------\n",
    "    \n",
    "    '''\n",
    "    \n",
    "    exponent = (x - mu)**2/(2*sigma**2)\n",
    "    \n",
    "    return A * np.exp(-exponent)"
   ]
  },
  {
   "cell_type": "code",
   "execution_count": null,
   "metadata": {},
   "outputs": [],
   "source": [
    "# fit a gaussian to find line center\n",
    "# make a cut so the fit only uses data around the line we want to fit\n",
    "\n",
    "window = 100\n",
    "\n",
    "index = np.where((wavelength > (16400 - window)) & (wavelength < (16400 + window)))\n",
    "\n",
    "wav = wavelength[index]\n",
    "spec = spec1d[index] * 1e17"
   ]
  },
  {
   "cell_type": "code",
   "execution_count": null,
   "metadata": {},
   "outputs": [],
   "source": [
    "#from looking at the plot looks like amplitude is .25, center is at 16400, \n",
    "#looks to be 2 angstroms wide\n",
    "guess = .25, 16400, 2\n",
    "bounds = ((0, 16400 - 25, 0), (np.inf, 16400 + 25, np.inf))\n",
    "popt, pcov = curve_fit(gaussian, wav, spec, p0=guess, bounds=bounds)\n",
    "\n",
    "obswav = popt[1]\n",
    "obswav_error = np.sqrt(pcov[1, 1])\n",
    "print(f'Observed wavelength of OII [5008] is {obswav:.3f} +/- {obswav_error:.3f}')"
   ]
  },
  {
   "cell_type": "code",
   "execution_count": null,
   "metadata": {},
   "outputs": [],
   "source": [
    "# measure the redshift\n",
    "\n",
    "restwav = \n",
    "redshift = obswav / restwav - 1\n",
    "print(f'The redshift is {redshift:.4f} ')"
   ]
  }
 ],
 "metadata": {
  "kernelspec": {
   "display_name": "Python 3",
   "language": "python",
   "name": "python3"
  },
  "language_info": {
   "codemirror_mode": {
    "name": "ipython",
    "version": 3
   },
   "file_extension": ".py",
   "mimetype": "text/x-python",
   "name": "python",
   "nbconvert_exporter": "python",
   "pygments_lexer": "ipython3",
   "version": "3.8.3"
  }
 },
 "nbformat": 4,
 "nbformat_minor": 4
}
