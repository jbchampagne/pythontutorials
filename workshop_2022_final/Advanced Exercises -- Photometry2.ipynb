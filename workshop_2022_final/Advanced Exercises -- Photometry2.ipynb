{
 "cells": [
  {
   "cell_type": "markdown",
   "id": "fb5eb391",
   "metadata": {},
   "source": [
    "# Advanced Exercises"
   ]
  },
  {
   "cell_type": "code",
   "execution_count": null,
   "id": "128dd752",
   "metadata": {},
   "outputs": [],
   "source": [
    "import numpy as np\n",
    "import matplotlib.pyplot as plt\n",
    "from astropy.io import fits\n",
    "from astropy.stats import sigma_clipped_stats\n",
    "from photutils.detection import DAOStarFinder\n",
    "from astropy.wcs import WCS\n",
    "from astroquery.vizier import Vizier\n",
    "\n",
    "from astropy.table import Table\n",
    "from astropy.units import Quantity\n",
    "from astropy.coordinates import SkyCoord\n",
    "from astroquery.gaia import Gaia\n",
    "from astropy import units as u\n",
    "\n",
    "from photutils.aperture import CircularAperture\n",
    "from photutils.aperture import CircularAnnulus\n",
    "from photutils.aperture import aperture_photometry\n",
    "\n",
    "from astropy.visualization import (imshow_norm, \n",
    "                                   ZScaleInterval,\n",
    "                                   SquaredStretch,\n",
    "                                   LinearStretch,\n",
    "                                  LogStretch,\n",
    "                                   SqrtStretch,\n",
    "                                  MinMaxInterval,\n",
    "                                  ImageNormalize)\n",
    "\n",
    "from astropy.convolution import AiryDisk2DKernel\n",
    "\n",
    "from photutils import centroid_com, centroid_1dg, centroid_2dg"
   ]
  },
  {
   "cell_type": "markdown",
   "id": "948c3bc4",
   "metadata": {},
   "source": [
    "# Astropy photometry examples\n",
    "\n",
    "### First let's explore some of the documentation for astropy's photometry functions. I'll leave you with a few examples but it will be your job to figure out how to get to the end!\n",
    "\n",
    "Let's start by adding a point source to a field of Poisson noise."
   ]
  },
  {
   "cell_type": "code",
   "execution_count": null,
   "id": "5b76ef58",
   "metadata": {},
   "outputs": [],
   "source": [
    "source = np.array(AiryDisk2DKernel(5,x_size=31,y_size=31)) # 2D gaussian star\n",
    "source = source/np.sum(source)*1000.0  # Normalize the total flux of the source to 1000\n",
    "\n",
    "image = np.zeros([101,101])\n",
    "image[50:81,10:41] = source  #y,x, note y starts from top\n",
    "\n",
    "image += 2.0 # Add sky background of 2 e-\n",
    "image = np.random.poisson(image)  # Sample the image with Poisson noise\n",
    "image = image + np.random.normal(0.0,1.0,[101,101])  # Add a read noise of 1 e-\n",
    "\n",
    "plt.imshow(image,vmin=0,vmax=0.5*np.max(image), origin='lower')\n",
    "plt.colorbar()"
   ]
  },
  {
   "cell_type": "markdown",
   "id": "e911645d",
   "metadata": {},
   "source": [
    "Next we will find the intensity-weighted centroid of this image using astropy photutils. This is easy since there's only one source in the field."
   ]
  },
  {
   "cell_type": "code",
   "execution_count": null,
   "id": "2399feb3",
   "metadata": {},
   "outputs": [],
   "source": [
    "x, y = centroid_1dg(image)\n",
    "print(x, y)"
   ]
  },
  {
   "cell_type": "markdown",
   "id": "15cc9045",
   "metadata": {},
   "source": [
    "Using DAOStarFinder is useful when there are multiple sources in the image. Let's add another one. \n",
    "\n",
    "https://photutils.readthedocs.io/en/stable/api/photutils.detection.DAOStarFinder.html"
   ]
  },
  {
   "cell_type": "code",
   "execution_count": null,
   "id": "76ce83a7",
   "metadata": {},
   "outputs": [],
   "source": [
    "image2 = np.zeros([101,101])\n",
    "image2[50:81,10:41] = source  #y,x, note y starts from top\n",
    "\n",
    "source2 = np.array(AiryDisk2DKernel(5,x_size=25,y_size=25))\n",
    "source2 = source2/np.sum(source2) * 500\n",
    "image2[20:45,45:70] = source2\n",
    "\n",
    "image2 += 2.0 # Add sky background of 2 e-\n",
    "image2 = np.random.poisson(image2)  # Sample the image with Poisson noise\n",
    "image2 = image2 + np.random.normal(0.0,1.0,[101,101])  # Add a read noise of 1 e-\n",
    "\n",
    "plt.imshow(image2,vmin=0,vmax=0.5*np.max(image2), origin='lower')\n",
    "plt.colorbar()\n",
    "plt.show()"
   ]
  },
  {
   "cell_type": "markdown",
   "id": "e4a84a40",
   "metadata": {},
   "source": [
    "We again define the background with sigma clipped stats, then run the detection algorithm."
   ]
  },
  {
   "cell_type": "code",
   "execution_count": null,
   "id": "237d61ee",
   "metadata": {},
   "outputs": [],
   "source": [
    "mean, median, std = sigma_clipped_stats(image2, sigma=3.0)\n",
    "print(mean, median, std)"
   ]
  },
  {
   "cell_type": "code",
   "execution_count": null,
   "id": "4919c2a5",
   "metadata": {},
   "outputs": [],
   "source": [
    "daofind = DAOStarFinder(fwhm=5.0, threshold=5.*std)  \n",
    "source_find = daofind(image2-median)\n",
    "\n",
    "source_find\n"
   ]
  },
  {
   "cell_type": "markdown",
   "id": "b3a96057",
   "metadata": {},
   "source": [
    "Next we will perform aperture photometry. The first step is to define an aperture in which we will measure flux. Then we have to characterize the background flux in an annulus that does not touch the source. The background flux per pixel is the measured background divided by the area of the annulus, which we will subtract from the aperture sum to get the background-subtracted flux.\n",
    "\n",
    "https://photutils.readthedocs.io/en/stable/aperture.html\n",
    "\n",
    "Note that DAOStarFinder reports a flux *density* in the flux column of the table which is a function of area and the defined threshold. It's more useful to work in total fluxes when measuring colors, which we can do directly with photutil's aperture photometry."
   ]
  },
  {
   "cell_type": "code",
   "execution_count": null,
   "id": "8bd36b8b",
   "metadata": {},
   "outputs": [],
   "source": [
    "# For our single source\n",
    "\n",
    "positions = (x, y) # Set the centroid of our source using the most accurate value from above\n",
    "apertures = CircularAperture(positions, r=5.)  # Use an aperture with r=5 pixels (~FWHM)\n",
    "\n",
    "# Now define an annulus - r_in and r_out set position of annulus\n",
    "annulus_apertures = CircularAnnulus(positions, r_in=8., r_out=10.)\n",
    "\n",
    "# We can combine the apertures into a tuple. Aperture_sum_0 is science, aperture_sum_1 is bg\n",
    "apers=[apertures,annulus_apertures]  \n",
    "phot_table = aperture_photometry(image, apers)\n",
    "print(phot_table)\n",
    "\n",
    "# Now calculate background per pixel\n",
    "bkg_mean = phot_table['aperture_sum_1'][0] / annulus_apertures.area\n",
    "bkg_sum = bkg_mean * apertures.area\n",
    "print(bkg_sum)\n",
    "\n",
    "# Now we have our background subtracted flux!\n",
    "final_sum = phot_table['aperture_sum_0'][0] - bkg_sum\n",
    "print(final_sum)\n",
    "\n",
    "# We are missing an aperture correction to get from the aperture flux to infinite flux,\n",
    "# but don't worry about that right now :) "
   ]
  },
  {
   "cell_type": "code",
   "execution_count": null,
   "id": "55c3246c",
   "metadata": {},
   "outputs": [],
   "source": [
    "# For an array of sources\n",
    "\n",
    "positions2 = np.array([source_find['xcentroid'], source_find['ycentroid']]).T # Set the centroid of our source using the most accurate value from above\n",
    "apertures2 = CircularAperture(positions2, r=5.)  # Use an aperture with r=5 pixels (~FWHM)\n",
    "\n",
    "# Now define an annulus - r_in and r_out set position of annulus\n",
    "annulus_apertures2 = CircularAnnulus(positions2, r_in=8., r_out=10.)\n",
    "\n",
    "# We can combine the apertures into a tuple. Aperture_sum_0 is science, aperture_sum_1 is bg\n",
    "apers2=[apertures2,annulus_apertures2]  \n",
    "phot_table2 = aperture_photometry(image2, apers2)\n",
    "print(phot_table2)\n",
    "\n",
    "# Now calculate background per pixel\n",
    "bkg_mean2 = phot_table2['aperture_sum_1'] / annulus_apertures2.area\n",
    "bkg_sum2 = bkg_mean2 * apertures2.area\n",
    "\n",
    "# Now we have our background subtracted flux!\n",
    "final_sum_source1 = phot_table2['aperture_sum_0'][0] - bkg_sum2[0]\n",
    "final_sum_source2 = phot_table2['aperture_sum_0'][1] - bkg_sum2[1]\n",
    "\n",
    "print(final_sum_source1, final_sum_source2)\n",
    "\n",
    "plt.imshow(image2,vmin=0,vmax=0.5*np.max(image), origin='lower')\n",
    "apertures2.plot(color='black')\n",
    "annulus_apertures2.plot(color='black', linestyle='--')\n",
    "plt.colorbar()\n",
    "plt.show()\n"
   ]
  },
  {
   "cell_type": "markdown",
   "id": "0bd23d86",
   "metadata": {},
   "source": [
    "Then we search for sources above a 5-sigma detection threshold and subtract the background."
   ]
  },
  {
   "cell_type": "markdown",
   "id": "0d4f8a02",
   "metadata": {},
   "source": [
    "# Exercise 1: Producing a color-magnitude diagram of an open star cluster \n",
    "\n",
    "by Jackie Champagne (thank you to Erica Sawczynec for your help!)\n",
    "\n",
    "Let's take a look at an open star cluster with B and V filter images taken at the Las Cumbres Observatory. This is NGC 2509, in the Puppis constellation.\n",
    "\n",
    "## Goals: \n",
    "- Practice reading in FITS files\n",
    "- Perform object detection algorithm to find stars\n",
    "- Measure photometry\n",
    "- Calculate colors and produce a color-magnitude diagram\n",
    "- Bonus: learn how to manually zeropoint data\n",
    "\n",
    "To perform photometry, we want to use a source-finding algorithm which detects circular objects with a certain significance threshold. To do this, we will need to calculate the statistics of the image to characterize the background."
   ]
  },
  {
   "cell_type": "markdown",
   "id": "a884e340",
   "metadata": {},
   "source": [
    "### 1. Open the fits files here. You have B, V, and R images of NGC 2509.\n",
    "\n",
    "#### Hints: 1) Recall how to access different attributes of the HDU object. 2) If you aren't sure what the files are all called, you can try using glob to find all FITS files in a directory:\n",
    "\n",
    "from glob import glob\n",
    "\n",
    "fitslist = glob('*.fits')\n",
    "\n",
    "print(fitslist)"
   ]
  },
  {
   "cell_type": "code",
   "execution_count": null,
   "id": "4286bce5",
   "metadata": {},
   "outputs": [],
   "source": [
    "# open files here"
   ]
  },
  {
   "cell_type": "markdown",
   "id": "5a286056",
   "metadata": {},
   "source": [
    "### 2. Measure the mean, median, and standard deviation of the images, clipped at 3 sigma. Use sigma_clipped_stats from astropy.\n",
    "\n",
    "Sigma clipping helps to throw out the tails of a Gaussian distribution, since real sources will be far brighter than 3sigma.\n",
    "\n",
    "#### Hint: SIGMA_CLIPPED_STATS outputs a tuple containing the mean, median, and std, so you can define the output as three variables here, i.e.: mean, median, std = sigma_clipped_stats(arguments here)"
   ]
  },
  {
   "cell_type": "code",
   "execution_count": null,
   "id": "89fb9333",
   "metadata": {},
   "outputs": [],
   "source": [
    "# your stats here"
   ]
  },
  {
   "cell_type": "markdown",
   "id": "4f13c23f",
   "metadata": {},
   "source": [
    "### 3. Use the DAOStarFinder to detect stars in both images with a FWHM of 5 pixels at a threshold of 5sigma. "
   ]
  },
  {
   "cell_type": "code",
   "execution_count": null,
   "id": "900e180e",
   "metadata": {},
   "outputs": [],
   "source": [
    "# find stars in B"
   ]
  },
  {
   "cell_type": "code",
   "execution_count": null,
   "id": "7bae0120",
   "metadata": {},
   "outputs": [],
   "source": [
    "# find stars in V"
   ]
  },
  {
   "cell_type": "markdown",
   "id": "5f942674",
   "metadata": {},
   "source": [
    "### 4. Use the positions (xcentroid, ycentroid) from your daofind outputs and perform aperture photometry using astropy photutils. Display the images and plot the apertures on top. Finally, convert your fluxes to magnitudes using\n",
    "\n",
    "$$ m = -2.5 * log_{10}F $$"
   ]
  },
  {
   "cell_type": "code",
   "execution_count": null,
   "id": "f9056d1b",
   "metadata": {},
   "outputs": [],
   "source": [
    "# A helpful function to display a color image nicely\n",
    "\n",
    "def show_fits(ax, hdu, interval=ZScaleInterval(), stretch=LinearStretch(), cmap='gray'):\n",
    "    im, norm = imshow_norm(hdu.data, ax,\n",
    "                           interval=interval,\n",
    "                           stretch=stretch,\n",
    "                           cmap=cmap,\n",
    "                        origin='lower')\n",
    "    ax.set_xlabel('X coord')\n",
    "    ax.set_ylabel('Y coord')\n",
    "    return ax, im\n",
    "\n",
    "# Define your apertures here\n",
    "\n",
    "# Then plot image \n",
    "fig, ax = plt.subplots(1, 1, figsize = (10,10))\n",
    "ims, norma = imshow_norm(Bdata, ax, origin='lower',  interval=ZScaleInterval(), \n",
    "                                             cmap='cool', \n",
    "                                           stretch=SquaredStretch())\n",
    "# This is how you plot apertures\n",
    "apertures_B.plot(color='black', lw=1.5, alpha=0.5)\n",
    "\n"
   ]
  },
  {
   "cell_type": "code",
   "execution_count": null,
   "id": "960c6b0c",
   "metadata": {},
   "outputs": [],
   "source": [
    "# Repeat for V\n"
   ]
  },
  {
   "cell_type": "code",
   "execution_count": null,
   "id": "415e64a2",
   "metadata": {},
   "outputs": [],
   "source": [
    "# Perform photometry and convert to magnitude"
   ]
  },
  {
   "cell_type": "markdown",
   "id": "03ada821",
   "metadata": {},
   "source": [
    "### 5. Before we create a CMD we need to make sure we are measuring photometry for the same stars in each image. \n",
    "\n",
    "Using astropy.wcs, grab the WCS information from the headers. https://docs.astropy.org/en/stable/wcs/wcsapi.html#basic-usage\n",
    "There is a function that allows you to convert x, y positions to world coordinates. Do that!\n",
    "\n",
    "Then, create a SkyCoord object from your B and V catalogs. You can learn more about that here: https://docs.astropy.org/en/stable/api/astropy.coordinates.SkyCoord.html\n",
    "\n",
    "Finally, use match_to_catalog_sky to match it to the V catalog. Make sure to match it within 0.5 arcseconds so we know it's the same source. You can learn more about that here: https://docs.astropy.org/en/stable/coordinates/matchsep.html#matching-catalogs\n"
   ]
  },
  {
   "cell_type": "code",
   "execution_count": null,
   "id": "fbca8ddf",
   "metadata": {},
   "outputs": [],
   "source": [
    "# First access the WCS information from the header using WCS() from astropy.wcs... make sense?\n",
    "\n",
    "# Then convert the x and y positions of the stars to RA and Dec. Which function should you use?\n",
    "\n",
    "# Now match your catalogs following the documentation above\n",
    "\n"
   ]
  },
  {
   "cell_type": "markdown",
   "id": "67d37c43",
   "metadata": {},
   "source": [
    "### 6. Plot your CMD! On the y axis, a CMD has magnitudes, like B, and the x axis has a color, which is the difference between two magnitudes, like B-V. "
   ]
  },
  {
   "cell_type": "code",
   "execution_count": null,
   "id": "0eceff60",
   "metadata": {},
   "outputs": [],
   "source": [
    "# your CMD here"
   ]
  },
  {
   "cell_type": "markdown",
   "id": "3a4b5a2d",
   "metadata": {},
   "source": [
    "## This doesn't have a lot of physical significance, because the images are not physically calibrated: the magnitudes are instrumental rather than absolute. Physical calibration involves finding the *zeropoint* of an image, which relates instrumental magnitudes from one instrument to accepted standard magnitudes. \n",
    "\n",
    "## To do this, we normally query a catalog to find calibrated magnitudes taken with the same filter on a different telescope. The US Naval Observatory catalog has B and V magnitudes that we can calibrate to. First, let's use the sky positions of the stars you found in your LCO images using the WCS (world coordinate system) information. Matching to a known catalog also helps confirm that your sources are real and not noise spikes.\n",
    "\n",
    "\n",
    "### 7. Using Vizier, query the USNO database in a 5 arcmin region around your stars; you will need the WCS information as you used above.\n",
    "\n",
    "### 8. Match your star catalog to the USNO results using astropy SkyCoord's match_to_catalog_sky like you did before.\n",
    "\n",
    "Documentation you will need:\n",
    "\n",
    "astroquery: https://astroquery.readthedocs.io/en/latest/vizier/vizier.html\n"
   ]
  },
  {
   "cell_type": "code",
   "execution_count": null,
   "id": "4941f6a9",
   "metadata": {},
   "outputs": [],
   "source": [
    "# Collect all known stars in the USNO observatory within 10 arcmin\n",
    "v = Vizier()\n",
    "results = ????\n",
    "print(results[0].keys())\n",
    "\n",
    "# Define USNO positions with SkyCoord\n",
    "\n",
    "\n",
    "# And match your catalog to 0.2 arcsec precision using match_to_catalog_sky\n",
    "                       "
   ]
  },
  {
   "cell_type": "markdown",
   "id": "70627a17",
   "metadata": {},
   "source": [
    "### Finally, plot your measured B magnitudes against the USNO B magnitudes. The median of the difference in magnitudes is the scalar offset to be added to all of your measured B mags. The last step is to plot your calibrated CMD!"
   ]
  },
  {
   "cell_type": "code",
   "execution_count": null,
   "id": "a4d42f90",
   "metadata": {},
   "outputs": [],
   "source": [
    "# Your zeropoint plot here; plot the median difference using plt.axhline"
   ]
  },
  {
   "cell_type": "code",
   "execution_count": null,
   "id": "67b0a99f",
   "metadata": {},
   "outputs": [],
   "source": [
    "# Your CMD here"
   ]
  },
  {
   "cell_type": "markdown",
   "id": "bda0d8ee",
   "metadata": {},
   "source": [
    "# CHALLENGE EXERCISE!\n",
    "\n",
    "## Say we didn't have a similar filter to zeropoint our images. Let's brainstorm some ideas for how we might calibrate our images!\n",
    "\n",
    "\n",
    "### Goals: Query an optical database to find physically-calibrated magnitudes for these stars. Using your photometric models from Photometry1, how would you figure out the correct B and V magnitudes using colors from another library?\n"
   ]
  },
  {
   "cell_type": "code",
   "execution_count": null,
   "id": "71e3b8ae",
   "metadata": {},
   "outputs": [],
   "source": []
  },
  {
   "cell_type": "code",
   "execution_count": null,
   "id": "af2ba161",
   "metadata": {},
   "outputs": [],
   "source": []
  },
  {
   "cell_type": "code",
   "execution_count": null,
   "id": "10701d97",
   "metadata": {},
   "outputs": [],
   "source": [
    "\n"
   ]
  },
  {
   "cell_type": "code",
   "execution_count": null,
   "id": "301448b3",
   "metadata": {},
   "outputs": [],
   "source": []
  },
  {
   "cell_type": "code",
   "execution_count": null,
   "id": "4c0473c6",
   "metadata": {},
   "outputs": [],
   "source": []
  },
  {
   "cell_type": "code",
   "execution_count": null,
   "id": "d42dc2d8",
   "metadata": {},
   "outputs": [],
   "source": []
  },
  {
   "cell_type": "code",
   "execution_count": null,
   "id": "3552cd8d",
   "metadata": {},
   "outputs": [],
   "source": []
  },
  {
   "cell_type": "code",
   "execution_count": null,
   "id": "aca4c697",
   "metadata": {},
   "outputs": [],
   "source": []
  }
 ],
 "metadata": {
  "kernelspec": {
   "display_name": "Python 3 (ipykernel)",
   "language": "python",
   "name": "python3"
  },
  "language_info": {
   "codemirror_mode": {
    "name": "ipython",
    "version": 3
   },
   "file_extension": ".py",
   "mimetype": "text/x-python",
   "name": "python",
   "nbconvert_exporter": "python",
   "pygments_lexer": "ipython3",
   "version": "3.7.11"
  }
 },
 "nbformat": 4,
 "nbformat_minor": 5
}
