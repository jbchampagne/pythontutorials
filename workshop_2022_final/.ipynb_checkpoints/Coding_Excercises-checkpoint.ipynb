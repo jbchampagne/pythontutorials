{
 "cells": [
  {
   "cell_type": "markdown",
   "metadata": {},
   "source": [
    "# Introduction\n",
    "\n",
    "Welcome to the Python Coding Bootcamp for the TAURUS/REU. We are super excited to have you all here these 10 weeks and help foster your growth in coding. Coding is everywhere nowadays but even more so in astronomy research as coding is the main way that we analyze data, generate results and make some pretty awesome pictures that show off our results. We aim to help you build your confidence with coding in Python and teach you the necessary skills required to be self sufficient and to think like a researcher. \n",
    "\n",
    "These coding exercises are designed to test the fundamentals of coding that everyone must have. We have it split up into different days with each day building in complexity. We ask that you work through this and try to do as much as you can. The day that you are having trouble in will be the day that you will start our bootcamp. So if you are finding Day 3 exercises to be a bit much but passed all of Day 2, we will ask that before you start the Day 3 notebooks to finish the challenge exercises in Day 2 and that you get signed off by any of the instructors to proceed. \n",
    "\n",
    "Try your best and if you are stuck we are here to help out :D!"
   ]
  },
  {
   "cell_type": "markdown",
   "metadata": {},
   "source": [
    "## Day 1: Syntax, Variables and Arrays"
   ]
  },
  {
   "cell_type": "code",
   "execution_count": null,
   "metadata": {},
   "outputs": [],
   "source": [
    "#import the numpy library \n"
   ]
  },
  {
   "cell_type": "markdown",
   "metadata": {},
   "source": [
    "### Question 1: What kinds of variables are the following? Fill it in as a comment."
   ]
  },
  {
   "cell_type": "code",
   "execution_count": null,
   "metadata": {},
   "outputs": [],
   "source": [
    "i = 1 # comment\n",
    "j = 2.43\n",
    "k = 'Hello world!'\n",
    "L = 3. \n",
    "#m = hello world!\n",
    "\n",
    "'''\n",
    "HELP MY CODE IS KILLING ME!!!!!!\n",
    "an example of a long comment \n",
    "'''"
   ]
  },
  {
   "cell_type": "markdown",
   "metadata": {},
   "source": [
    "### Question 2: Convert i to a float and to a string. Convert j into an integer. "
   ]
  },
  {
   "cell_type": "code",
   "execution_count": null,
   "metadata": {},
   "outputs": [],
   "source": [
    "# solution here"
   ]
  },
  {
   "cell_type": "markdown",
   "metadata": {},
   "source": [
    "### Challenge question: Convert the string '1.4' into an integer. "
   ]
  },
  {
   "cell_type": "code",
   "execution_count": null,
   "metadata": {},
   "outputs": [],
   "source": [
    "# solution here"
   ]
  },
  {
   "cell_type": "markdown",
   "metadata": {},
   "source": [
    "### Question 3: Create the following 2D array:\n",
    "\n",
    "    1 2 3\n",
    "    4 5 6"
   ]
  },
  {
   "cell_type": "code",
   "execution_count": null,
   "metadata": {},
   "outputs": [],
   "source": [
    "# solution here"
   ]
  },
  {
   "cell_type": "markdown",
   "metadata": {},
   "source": [
    "### Question 4: Create two arrays with ten entries between 1 and 100, one in linear space and the other in logspace."
   ]
  },
  {
   "cell_type": "code",
   "execution_count": null,
   "metadata": {},
   "outputs": [],
   "source": [
    "# solution here"
   ]
  },
  {
   "cell_type": "markdown",
   "metadata": {},
   "source": [
    "### Question 5: Create another array with ten entries between 1 and 100 using np.arange. "
   ]
  },
  {
   "cell_type": "code",
   "execution_count": null,
   "metadata": {},
   "outputs": [],
   "source": [
    "# solution here"
   ]
  },
  {
   "cell_type": "markdown",
   "metadata": {},
   "source": [
    "### Question 6: Create a 3x3 array of zeros."
   ]
  },
  {
   "cell_type": "code",
   "execution_count": null,
   "metadata": {},
   "outputs": [],
   "source": [
    "# solution here"
   ]
  },
  {
   "cell_type": "markdown",
   "metadata": {},
   "source": [
    "### Question 7: Print out the first and last value in your linspace array."
   ]
  },
  {
   "cell_type": "code",
   "execution_count": null,
   "metadata": {},
   "outputs": [],
   "source": [
    "#solution here"
   ]
  },
  {
   "cell_type": "markdown",
   "metadata": {},
   "source": [
    "### Question 8: Print out the following: a) your linear array until index 5; b) your log array beginning at index 1; c) your arange array between indices 4 and 8; and d) your full linear array in steps of 2 indices."
   ]
  },
  {
   "cell_type": "code",
   "execution_count": null,
   "metadata": {},
   "outputs": [],
   "source": [
    "#solution here"
   ]
  },
  {
   "cell_type": "markdown",
   "metadata": {},
   "source": [
    "### Question 9: Print out, from your linspace array, the following: a) where the array is greater than 10, b) the array where its values are greater than 10, c) where the array is greater than 1 and less than 10, and d) where the array divided by 2 is less than 50."
   ]
  },
  {
   "cell_type": "code",
   "execution_count": null,
   "metadata": {},
   "outputs": [],
   "source": [
    "#solution here"
   ]
  },
  {
   "cell_type": "markdown",
   "metadata": {},
   "source": [
    "### Question 10: Create a new array which is your logspace array divided by 2. Create another new array which is your linspace array + 2."
   ]
  },
  {
   "cell_type": "code",
   "execution_count": null,
   "metadata": {},
   "outputs": [],
   "source": [
    "#solution here"
   ]
  },
  {
   "cell_type": "markdown",
   "metadata": {},
   "source": [
    "### Question 11: Create a new array which is another linear array from 100 to 200 appended to your linspace array."
   ]
  },
  {
   "cell_type": "code",
   "execution_count": null,
   "metadata": {},
   "outputs": [],
   "source": [
    "#solution here"
   ]
  },
  {
   "cell_type": "markdown",
   "metadata": {},
   "source": [
    " ## Day 2: If Statements, Loops, Functions and Plotting"
   ]
  },
  {
   "cell_type": "markdown",
   "metadata": {},
   "source": [
    "### Question 1: Code up if 1 equals 1, print \"yes!\" Write a second one such that if one does not equal one, print \"no!\" What happens?"
   ]
  },
  {
   "cell_type": "code",
   "execution_count": null,
   "metadata": {},
   "outputs": [],
   "source": []
  },
  {
   "cell_type": "markdown",
   "metadata": {},
   "source": [
    "### Change your if statement from above. If one does not equal one, print \"yes!\" If that's not true, print \"1 always equals 1, duh.\" "
   ]
  },
  {
   "cell_type": "code",
   "execution_count": null,
   "metadata": {},
   "outputs": [],
   "source": []
  },
  {
   "cell_type": "markdown",
   "metadata": {},
   "source": [
    "### Question 2: Define that b = 10. Write an if statement that checks whether b is equal to 10 or 2, and if so, print the value of b."
   ]
  },
  {
   "cell_type": "code",
   "execution_count": null,
   "metadata": {},
   "outputs": [],
   "source": []
  },
  {
   "cell_type": "markdown",
   "metadata": {},
   "source": [
    "### Question 3: Create a linear array with 10 values between 0 and 1, inclusive.  Write an if statement that checks whether the last entry in the array is less than one. If so, have it print out the last entry. If not, have it print out \"[last entry] is not less than one.\" "
   ]
  },
  {
   "cell_type": "code",
   "execution_count": null,
   "metadata": {},
   "outputs": [],
   "source": []
  },
  {
   "cell_type": "markdown",
   "metadata": {},
   "source": [
    "### Question 4: Here's a list. Try writing a for loop that prints out each element of the list individually."
   ]
  },
  {
   "cell_type": "code",
   "execution_count": null,
   "metadata": {},
   "outputs": [],
   "source": [
    "beemovie = ['Barry B. Benson', 'Vanessa Bloome', 'Ray Liotta as Ray Liotta']\n",
    "\n",
    "shrek = ['Shrek', 'Donkey', 'Fiona', 'Lord Farquaad']\n",
    "\n",
    "#solution here"
   ]
  },
  {
   "cell_type": "markdown",
   "metadata": {},
   "source": [
    "### Question 5. Create an array containing the values 0.5, 2, 3, 7. Loop over the array to check three different conditional statements inside the for loop:  check whether each value + 2 a) is less than 5, b) equal to 5, or c) greater than 5. If so, print out that statement (i.e., 'x + 2 < 5'). "
   ]
  },
  {
   "cell_type": "code",
   "execution_count": null,
   "metadata": {},
   "outputs": [],
   "source": []
  },
  {
   "cell_type": "markdown",
   "metadata": {},
   "source": [
    "### Question 6: Write a function that takes the y-intercept, x value, and a constant m for a quadratic curve of the form y = mx^2 + b."
   ]
  },
  {
   "cell_type": "code",
   "execution_count": null,
   "metadata": {},
   "outputs": [],
   "source": []
  },
  {
   "cell_type": "markdown",
   "metadata": {},
   "source": [
    "### Question 7: Run your quadratic function for y = 2 * x^2 + 5, where x goes between -5 and 5. Plot it with a green dashed line and label it in the legend. Include labels and a title and save the figure."
   ]
  },
  {
   "cell_type": "code",
   "execution_count": null,
   "metadata": {},
   "outputs": [],
   "source": []
  },
  {
   "cell_type": "markdown",
   "metadata": {},
   "source": [
    "### Question 8: Define 3 arrays of equal length. Plot them as a scatter plot!"
   ]
  },
  {
   "cell_type": "code",
   "execution_count": null,
   "metadata": {},
   "outputs": [],
   "source": []
  },
  {
   "cell_type": "markdown",
   "metadata": {},
   "source": [
    "## Day 3: Statistics, Interpolation, & Fitting Data"
   ]
  },
  {
   "cell_type": "code",
   "execution_count": null,
   "metadata": {},
   "outputs": [],
   "source": [
    "#import the necessary package(s) here"
   ]
  },
  {
   "cell_type": "markdown",
   "metadata": {},
   "source": [
    "### Question 1: Sample the Poisson distribution centered on 4 with a sample size of your choice. Plot the histogram. Hint: you can check the documentation for np.random, or try tab-complete to find the correct function."
   ]
  },
  {
   "cell_type": "code",
   "execution_count": null,
   "metadata": {},
   "outputs": [],
   "source": []
  },
  {
   "cell_type": "markdown",
   "metadata": {},
   "source": [
    "### Question 2: Sometimes we want to know how correlated two quantities are to one another. In statistics there is a numerical value called the correlation coefficient that tells you the degree of correlations between two quantities. The correlation coefficients ranges between [-1, 1] with a value of -1 being completely anti-correlated and +1 being completely correlated a value near zero means no correlation between the variables. We ask that you code up the correlation coefficient below as a function that takes in any two array and tells you the correlation coefficient between the two arrays. \n",
    "\n",
    "$\\rho = \\frac{\\sigma_{xy}}{\\sigma_x \\sigma_y}$\n",
    "\n",
    "With:\\\n",
    "$\\sigma_{xy} = \\sum (x - \\mu_x)(y - \\mu_y)$ \\\n",
    "$\\sigma_x^2 = \\sum_i^{N_1} (x_i - \\mu_x)^2$ \\\n",
    "$\\sigma_y^2 = \\sum_j^{N_2} (y_j - \\mu_y)^2$ \\\n",
    "\n",
    "$\\mu_x$ is the mean in the x-array \\\n",
    "$\\mu_y$ is the mean in the y-array \\\n",
    "$x_i$ and $y_i$ are the values in the x and y arrays respectively"
   ]
  },
  {
   "cell_type": "code",
   "execution_count": null,
   "metadata": {},
   "outputs": [],
   "source": []
  },
  {
   "cell_type": "markdown",
   "metadata": {},
   "source": [
    "# Day 4: Astropy, FITS File & Imaging "
   ]
  },
  {
   "cell_type": "code",
   "execution_count": null,
   "metadata": {},
   "outputs": [],
   "source": [
    "#import the necessary package(s) here"
   ]
  },
  {
   "cell_type": "markdown",
   "metadata": {},
   "source": [
    "### Question 1: Using astropy, call the speed of light. Define a new speed of light variable by converting it to kilometers per Megayear. "
   ]
  },
  {
   "cell_type": "code",
   "execution_count": null,
   "metadata": {},
   "outputs": [],
   "source": []
  },
  {
   "cell_type": "markdown",
   "metadata": {},
   "source": [
    "### Question 2: Using astropy.cosmology and their FlatLambdaCDM model what is the age of the Universe at redshift 1, in Myr and Gyr?"
   ]
  },
  {
   "cell_type": "code",
   "execution_count": null,
   "metadata": {},
   "outputs": [],
   "source": []
  },
  {
   "cell_type": "markdown",
   "metadata": {},
   "source": [
    "### Question 3: Define an astronomical sky coordinate object at RA=10:00:53.92, Dec=-12:14:31.2. What is this position in degrees? galactic coordinates? "
   ]
  },
  {
   "cell_type": "code",
   "execution_count": null,
   "metadata": {},
   "outputs": [],
   "source": []
  },
  {
   "cell_type": "markdown",
   "metadata": {},
   "source": [
    "There is a file in this directory called f001a066.fits. As you may have noticed it has a weird extension called fits. This stands for Flexible Image Transport System and is how astronomers save huge amount of data into files.\n",
    "\n",
    "### Question 4:  We ask that you open the file and tell us some information about what is in the file.\n",
    "\n",
    "a. What is the pixel scale on the x axis? (This is typically called CDELT1.) What information is contained on the second line of the header?\n",
    "\n",
    "b. Access the data from the fits file that is in extension zero\n",
    "\n",
    "c. What is the size and shape of this data? What is the average and standard deviation of the flux?"
   ]
  },
  {
   "cell_type": "code",
   "execution_count": null,
   "metadata": {},
   "outputs": [],
   "source": []
  },
  {
   "cell_type": "markdown",
   "metadata": {},
   "source": [
    "### Question 5: Produce a normalized histogram of the flux values."
   ]
  },
  {
   "cell_type": "code",
   "execution_count": null,
   "metadata": {},
   "outputs": [],
   "source": []
  }
 ],
 "metadata": {
  "kernelspec": {
   "display_name": "Python 3 (ipykernel)",
   "language": "python",
   "name": "python3"
  },
  "language_info": {
   "codemirror_mode": {
    "name": "ipython",
    "version": 3
   },
   "file_extension": ".py",
   "mimetype": "text/x-python",
   "name": "python",
   "nbconvert_exporter": "python",
   "pygments_lexer": "ipython3",
   "version": "3.7.11"
  }
 },
 "nbformat": 4,
 "nbformat_minor": 4
}
