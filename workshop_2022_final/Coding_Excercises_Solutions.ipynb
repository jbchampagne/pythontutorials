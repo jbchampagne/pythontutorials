{
 "cells": [
  {
   "cell_type": "markdown",
   "metadata": {},
   "source": [
    "# Introduction\n",
    "\n",
    "Welcome to the Python Coding Bootcamp for the TAURUS/REU students this summer. We are super excited to have you all here these 10 weeks and help foster your growth in coding. Coding is everywhere nowadays but even more so in astronomy research as coding is the main way that we analyze data, generate results and make some pretty awesome pictures that show off our results. We aim to help you build your confidence with coding in Python and teach you the necessary skills required to be self sufficient and to think like a researcher. \n",
    "\n",
    "These coding exercises are designed to test the fundamentals of coding that everyone must have. We have it split up into different days with each day building in complexity. We ask that you work through this and try to do as much as you can. The day that you are having trouble in will be the day that you will start your coding experience in. So if you are finding Day 3 exercises to be a bit much but passed all of Day 2, we will ask that before you start the Day 3 notebooks to finish the challenge exercises in Day 2 and that you get signed off by any of the instructors to proceed. "
   ]
  },
  {
   "cell_type": "markdown",
   "metadata": {},
   "source": [
    "## Day 1: Syntax, Variables and Arrays"
   ]
  },
  {
   "cell_type": "code",
   "execution_count": 1,
   "metadata": {},
   "outputs": [],
   "source": [
    "#import the numpy library \n",
    "import numpy as np"
   ]
  },
  {
   "cell_type": "markdown",
   "metadata": {},
   "source": [
    "### Question 1: What kinds of variables are the following? Fill it in as a comment."
   ]
  },
  {
   "cell_type": "code",
   "execution_count": null,
   "metadata": {},
   "outputs": [],
   "source": [
    "i = 1 # comment\n",
    "j = 2.43 #Float\n",
    "k = 'Hello world!' #String\n",
    "L = 3.  #FLoat\n",
    "#m = hello world! #Comments\n",
    "\n",
    "'''\n",
    "HELP MY CODE IS KILLING ME!!!!!!\n",
    "an example of a long comment \n",
    "'''"
   ]
  },
  {
   "cell_type": "markdown",
   "metadata": {},
   "source": [
    "### Question 2: Convert i to a float and to a string. Convert j into an integer. "
   ]
  },
  {
   "cell_type": "code",
   "execution_count": null,
   "metadata": {},
   "outputs": [],
   "source": [
    "# solution here\n",
    "float_i = float(i)\n",
    "str_i = str(i)\n",
    "\n",
    "int_j = int(j)"
   ]
  },
  {
   "cell_type": "markdown",
   "metadata": {},
   "source": [
    "### Challenge question: Convert the string '1.4' into an integer. "
   ]
  },
  {
   "cell_type": "code",
   "execution_count": null,
   "metadata": {},
   "outputs": [],
   "source": [
    "# solution here\n",
    "int(float('1.4'))"
   ]
  },
  {
   "cell_type": "markdown",
   "metadata": {},
   "source": [
    "### Question 3: Create the following 2D array:\n",
    "\n",
    "    1 2 3\n",
    "    4 5 6"
   ]
  },
  {
   "cell_type": "code",
   "execution_count": 3,
   "metadata": {},
   "outputs": [
    {
     "name": "stdout",
     "output_type": "stream",
     "text": [
      "[[1 2 3]\n",
      " [4 5 6]]\n"
     ]
    }
   ],
   "source": [
    "# solution here\n",
    "twoD_array = np.array([[1, 2, 3], [4, 5, 6]]) #method 1\n",
    "\n",
    "#twoDArray = np.arange(1, 7, 1).reshape(2, 3) method 2"
   ]
  },
  {
   "cell_type": "markdown",
   "metadata": {},
   "source": [
    "### Question 4: Create two arrays with ten entries between 1 and 100, one in linear space and the other in logspace."
   ]
  },
  {
   "cell_type": "code",
   "execution_count": 6,
   "metadata": {},
   "outputs": [],
   "source": [
    "# solution here\n",
    "lin_arr = np.linspace(1, 100, 10)\n",
    "\n",
    "log_arr = np.logspace(0, 2, 10)"
   ]
  },
  {
   "cell_type": "markdown",
   "metadata": {},
   "source": [
    "### Question 5: Create another array with ten entries between 1 and 100 using np.arange. "
   ]
  },
  {
   "cell_type": "code",
   "execution_count": 9,
   "metadata": {},
   "outputs": [],
   "source": [
    "# solution here\n",
    "arange_arr = np.arange(1, 101, 10)"
   ]
  },
  {
   "cell_type": "markdown",
   "metadata": {},
   "source": [
    "### Question 6: Create a 3x3 array of zeros."
   ]
  },
  {
   "cell_type": "code",
   "execution_count": 4,
   "metadata": {},
   "outputs": [
    {
     "data": {
      "text/plain": [
       "array([[0., 0., 0.],\n",
       "       [0., 0., 0.],\n",
       "       [0., 0., 0.]])"
      ]
     },
     "execution_count": 4,
     "metadata": {},
     "output_type": "execute_result"
    }
   ],
   "source": [
    "# solution here\n",
    "np.zeros((3, 3))"
   ]
  },
  {
   "cell_type": "markdown",
   "metadata": {},
   "source": [
    "### Question 7: Print out the first and last value in your linspace array."
   ]
  },
  {
   "cell_type": "code",
   "execution_count": null,
   "metadata": {},
   "outputs": [],
   "source": [
    "#solution here\n",
    "print(lin_arr[0])\n",
    "print(lin_arr[-1])"
   ]
  },
  {
   "cell_type": "markdown",
   "metadata": {},
   "source": [
    "### Question 8: Print out the following: a) your linear array until index 5; b) your log array beginning at index 1; c) your arange array between indices 4 and 8; and d) your full linear array in steps of 2 indices."
   ]
  },
  {
   "cell_type": "code",
   "execution_count": null,
   "metadata": {},
   "outputs": [],
   "source": [
    "#solution here\n",
    "print(lin_arr[:5])\n",
    "print(log_arr[1:])\n",
    "print(arange_arr[4:8])\n",
    "print(lin_arr[::2])"
   ]
  },
  {
   "cell_type": "markdown",
   "metadata": {},
   "source": [
    "### Question 9: Print out, from your linspace array, the following: a) where the array is greater than 10, b) the array where its values are greater than 10, c) where the array is greater than 1 and less than 10, and d) where the array divided by 2 is less than 50."
   ]
  },
  {
   "cell_type": "code",
   "execution_count": 10,
   "metadata": {},
   "outputs": [
    {
     "data": {
      "text/plain": [
       "array([ 12.,  23.,  34.,  45.,  56.,  67.,  78.,  89., 100.])"
      ]
     },
     "execution_count": 10,
     "metadata": {},
     "output_type": "execute_result"
    }
   ],
   "source": [
    "#solution here\n",
    "lin_arr[np.where(lin_arr > 10)]"
   ]
  },
  {
   "cell_type": "markdown",
   "metadata": {},
   "source": [
    "### Question 10: Create a new array which is your logspace array divided by 2. Create another new array which is your linspace array + 2."
   ]
  },
  {
   "cell_type": "code",
   "execution_count": null,
   "metadata": {},
   "outputs": [],
   "source": [
    "#solution here\n",
    "div_arr = log_arr/2\n",
    "new_lin = lin_arr + 2"
   ]
  },
  {
   "cell_type": "markdown",
   "metadata": {},
   "source": [
    "### Question 11: Create a new array which is another linear array from 100 to 200 appended to your linspace array."
   ]
  },
  {
   "cell_type": "code",
   "execution_count": 11,
   "metadata": {},
   "outputs": [],
   "source": [
    "#solution here\n",
    "new_arr = np.append(lin_arr, np.linspace(100, 200))"
   ]
  },
  {
   "cell_type": "markdown",
   "metadata": {},
   "source": [
    " ## Day 2: If Statements, Loops, Functions and Plotting"
   ]
  },
  {
   "cell_type": "markdown",
   "metadata": {},
   "source": [
    "### Question 1: Code up if 1 equals 1, print \"yes!\" Write a second one such that if one does not equal one, print \"no!\" What happens?"
   ]
  },
  {
   "cell_type": "code",
   "execution_count": 12,
   "metadata": {},
   "outputs": [
    {
     "name": "stdout",
     "output_type": "stream",
     "text": [
      "yes\n"
     ]
    }
   ],
   "source": [
    "if 1 == 1:\n",
    "    print('yes')\n",
    "    \n",
    "if 1 != 1:\n",
    "    print('no')"
   ]
  },
  {
   "cell_type": "markdown",
   "metadata": {},
   "source": [
    "### Change your if statement from above. If one does not equal one, print \"yes!\" If that's not true, print \"1 always equals 1, duh.\" "
   ]
  },
  {
   "cell_type": "code",
   "execution_count": 13,
   "metadata": {},
   "outputs": [
    {
     "name": "stdout",
     "output_type": "stream",
     "text": [
      "1 always equals 1, duh\n"
     ]
    }
   ],
   "source": [
    "if 1 != 1:\n",
    "    print('yes')\n",
    "else:\n",
    "    print('1 always equals 1, duh')"
   ]
  },
  {
   "cell_type": "markdown",
   "metadata": {},
   "source": [
    "### Question 2: Define that b = 10. Write an if statement that checks whether b is equal to 10 or 2, and if so, print the value of b."
   ]
  },
  {
   "cell_type": "code",
   "execution_count": 14,
   "metadata": {},
   "outputs": [
    {
     "name": "stdout",
     "output_type": "stream",
     "text": [
      "10\n"
     ]
    }
   ],
   "source": [
    "b = 10\n",
    "\n",
    "if (b == 10) or (b == 2):\n",
    "    print(b)"
   ]
  },
  {
   "cell_type": "markdown",
   "metadata": {},
   "source": [
    "### Question 3: Create a linear array with 10 values between 0 and 1, inclusive.  Write an if statement that checks whether the last entry in the array is less than one. If so, have it print out the last entry. If not, have it print out \"[last entry] is not less than one.\" "
   ]
  },
  {
   "cell_type": "code",
   "execution_count": null,
   "metadata": {},
   "outputs": [],
   "source": [
    "lin_arr = np.linspace(0, 1, 10)\n",
    "\n",
    "if lin_arr[-1] < 1:\n",
    "    print(lin_arr[-1])\n",
    "else:\n",
    "    print(f'{lin_arr[-1]} is not less than one')"
   ]
  },
  {
   "cell_type": "markdown",
   "metadata": {},
   "source": [
    "### Question 4: Here's a list. Try writing a for loop that prints out each element of the list individually."
   ]
  },
  {
   "cell_type": "code",
   "execution_count": null,
   "metadata": {},
   "outputs": [],
   "source": [
    "beemovie = ['Barry B. Benson', 'Vanessa Bloome', 'Ray Liotta as Ray Liotta']\n",
    "\n",
    "shrek = ['Shrek', 'Donkey', 'Fiona', 'Lord Farquaad']\n",
    "\n",
    "#solution here\n",
    "\n",
    "for bee_char in beemovie:\n",
    "    print(bee_char)\n",
    "    \n",
    "for shrek_char in shrek:\n",
    "    print(shrek_char)"
   ]
  },
  {
   "cell_type": "markdown",
   "metadata": {},
   "source": [
    "### Question 5. Create an array containing the values 0.5, 2, 3, 7. Loop over the array to check three different conditional statements inside the for loop:  check whether each value + 2 a) is less than 5, b) equal to 5, or c) greater than 5. If so, print out that statement (i.e., 'x + 2 < 5'). "
   ]
  },
  {
   "cell_type": "code",
   "execution_count": null,
   "metadata": {},
   "outputs": [],
   "source": [
    "array = np.array([0.5, 2, 3, 7])\n",
    "\n",
    "for x in array:\n",
    "    \n",
    "    val = x + 2\n",
    "    \n",
    "    if val < 5:\n",
    "        print(f'{x} + 2 < 5')\n",
    "    elif val == 5:\n",
    "        print(f'{x} + 2 < 5')\n",
    "    elif val > 5:\n",
    "        print(f'{x} + 2 < 5')"
   ]
  },
  {
   "cell_type": "markdown",
   "metadata": {},
   "source": [
    "### Question 6: Write a function that takes the y-intercept, x value, and a constant m for a quadratic curve of the form y = mx^2 + b."
   ]
  },
  {
   "cell_type": "code",
   "execution_count": 15,
   "metadata": {},
   "outputs": [],
   "source": [
    "def quadratic(x, m, b):\n",
    "    \n",
    "    return m * x**2 + b"
   ]
  },
  {
   "cell_type": "markdown",
   "metadata": {},
   "source": [
    "### Question 7: Run your quadratic function for y = 2 * x^2 + 5, where x goes between -5 and 5. Plot it with a green dashed line and label it in the legend. Include labels and a title and save the figure."
   ]
  },
  {
   "cell_type": "code",
   "execution_count": 18,
   "metadata": {},
   "outputs": [],
   "source": [
    "import matplotlib.pyplot as plt"
   ]
  },
  {
   "cell_type": "code",
   "execution_count": 19,
   "metadata": {},
   "outputs": [
    {
     "data": {
      "image/png": "[encoded data removed]",
      "text/plain": [
       "<Figure size 432x288 with 1 Axes>"
      ]
     },
     "metadata": {
      "needs_background": "light"
     },
     "output_type": "display_data"
    }
   ],
   "source": [
    "x = np.linspace(-5, 5, 1000)\n",
    "y = quadratic(x, 2, 5)\n",
    "plt.figure()\n",
    "plt.plot(x, y, label = 'Quadratic Function')\n",
    "plt.title('Quadratic')\n",
    "plt.legend()\n",
    "plt.show()"
   ]
  },
  {
   "cell_type": "markdown",
   "metadata": {},
   "source": [
    "### Question 8: Define 3 arrays of equal length. Plot them as a scatter plot!"
   ]
  },
  {
   "cell_type": "code",
   "execution_count": 25,
   "metadata": {},
   "outputs": [
    {
     "data": {
      "image/png": "[encoded data removed]",
      "text/plain": [
       "<Figure size 864x504 with 1 Axes>"
      ]
     },
     "metadata": {
      "needs_background": "light"
     },
     "output_type": "display_data"
    }
   ],
   "source": [
    "x = np.linspace(-5, 10, 100)\n",
    "y = np.logspace(-2, 2, 100)\n",
    "z = np.random.normal(loc = 100, scale = 50, size = 100)\n",
    "\n",
    "plt.figure(figsize = (12, 7))\n",
    "plt.scatter(x, y, c = z)\n",
    "plt.title('Scatter Plot')\n",
    "plt.show()"
   ]
  },
  {
   "cell_type": "markdown",
   "metadata": {},
   "source": [
    "## Day 3: Statistics, Interpolation, & Fitting Data"
   ]
  },
  {
   "cell_type": "code",
   "execution_count": 26,
   "metadata": {},
   "outputs": [],
   "source": [
    "#import the necessary package(s) here\n",
    "import scipy.stats as st"
   ]
  },
  {
   "cell_type": "markdown",
   "metadata": {},
   "source": [
    "### Question 1: Sample the Poisson distribution centered on 4 with a sample size of your choice. Plot the histogram. Hint: you can check the documentation for np.random, or try tab-complete to find the correct function."
   ]
  },
  {
   "cell_type": "code",
   "execution_count": 32,
   "metadata": {},
   "outputs": [
    {
     "data": {
      "image/png": "[encoded data removed]",
      "text/plain": [
       "<Figure size 432x288 with 1 Axes>"
      ]
     },
     "metadata": {
      "needs_background": "light"
     },
     "output_type": "display_data"
    }
   ],
   "source": [
    "pos = st.poisson.rvs(loc = 0, mu = 4, size = 100)\n",
    "plt.hist(pos)\n",
    "plt.show()"
   ]
  },
  {
   "cell_type": "markdown",
   "metadata": {},
   "source": [
    "### Question 2: Sometimes we want to know how correlated two quantities are to one another. In statistics there is a numerical value called the correlation coefficient that tells you the degree of correlations between two quantities. The correlation coefficients ranges between [-1, 1] with a value of -1 being completely anti-correlated and +1 being completely correlated a value near zero means no correlation between the variables. We ask that you code up the correlation coefficient below as a function that takes in any two array and tells you the correlation coefficient between the two arrays. \n",
    "\n",
    "$\\rho = \\frac{\\sigma_{xy}}{\\sigma_x \\sigma_y}$\n",
    "\n",
    "With:\\\n",
    "$\\sigma_{xy} = \\sum (x - \\mu_x)(y - \\mu_y)$ \\\n",
    "$\\sigma_x^2 = \\sum_i^{N_1} (x_i - \\mu_x)^2$ \\\n",
    "$\\sigma_y^2 = \\sum_j^{N_2} (y_j - \\mu_y)^2$"
   ]
  },
  {
   "cell_type": "code",
   "execution_count": null,
   "metadata": {},
   "outputs": [],
   "source": [
    "def corr_coeff(x_arr, y_arr):\n",
    "    \n",
    "    sig_xy = np.sum((x_arr - np.mean(x_arr)) * (y_arr - np.mean(y_arr)))\n",
    "    \n",
    "    sig_x = np.sum((x_arr - np.mean(x_arr))**2)\n",
    "    sig_y = np.sum((y_arr - np.mean(y_arr))**2)\n",
    "    \n",
    "    corr_coeff = sig_xy/(sig_x * sig_y)\n",
    "    \n",
    "    return corr_coeff"
   ]
  },
  {
   "cell_type": "markdown",
   "metadata": {},
   "source": [
    "# Day 4: Astropy, FITS File & Imaging "
   ]
  },
  {
   "cell_type": "code",
   "execution_count": 37,
   "metadata": {},
   "outputs": [],
   "source": [
    "#import the necessary package(s) here\n",
    "from astropy.io import fits\n",
    "from astropy import units as u\n",
    "from astropy import constants as const\n",
    "from astropy.coordinates import SkyCoord"
   ]
  },
  {
   "cell_type": "markdown",
   "metadata": {},
   "source": [
    "### Question 1: Using astropy, call the speed of light. Define a new speed of light variable by converting it to kilometers per Megayear. "
   ]
  },
  {
   "cell_type": "code",
   "execution_count": null,
   "metadata": {},
   "outputs": [],
   "source": [
    "c_light = const.c\n",
    "\n",
    "print(c_light.to(u.km/u.Myr))"
   ]
  },
  {
   "cell_type": "markdown",
   "metadata": {},
   "source": [
    "### Question 2: Using astropy.cosmology and their FlatLambdaCDM model what is the age of the Universe at redshift 1, in Myr and Gyr?"
   ]
  },
  {
   "cell_type": "code",
   "execution_count": 34,
   "metadata": {},
   "outputs": [],
   "source": [
    "from astropy.cosmology import FlatLambdaCDM\n",
    "\n",
    "cosmo=FlatLambdaCDM(H0=70., Om0=0.3)"
   ]
  },
  {
   "cell_type": "code",
   "execution_count": 36,
   "metadata": {},
   "outputs": [
    {
     "name": "stdout",
     "output_type": "stream",
     "text": [
      "Age of universe in Gyr at z = 1 is: 5.752 Gyr\n",
      "Age of universe in Myr at z = 1 is: 5751.647 Myr\n"
     ]
    }
   ],
   "source": [
    "print(f'Age of universe in Gyr at z = 1 is: {cosmo.age(1):.3f}')\n",
    "print(f'Age of universe in Myr at z = 1 is: {cosmo.age(1).to(u.Myr):.3f}')"
   ]
  },
  {
   "cell_type": "markdown",
   "metadata": {},
   "source": [
    "### Question 3: Define an astronomical sky coordinate object at RA=10:00:53.92, Dec=-12:14:31.2. What is this position in degrees? galactic coordinates? Hour angle/degrees format in the bary frame?"
   ]
  },
  {
   "cell_type": "code",
   "execution_count": 51,
   "metadata": {},
   "outputs": [
    {
     "name": "stdout",
     "output_type": "stream",
     "text": [
      "<SkyCoord (BarycentricTrueEcliptic: equinox=J2000.000): (lon, lat) in deg\n",
      "    (10.01497778, -12.242)>\n",
      "<SkyCoord (Galactic): (l, b) in deg\n",
      "    (126.32668494, -70.13208688)>\n"
     ]
    }
   ],
   "source": [
    "coord = SkyCoord('10:00:53.92','-12:14:31.2', unit='deg', frame = 'barycentrictrueecliptic')\n",
    "\n",
    "print(coord)\n",
    "print(coord.galactic)"
   ]
  },
  {
   "cell_type": "markdown",
   "metadata": {},
   "source": [
    "There is a file in this directory called f001a066.fits. As you may have noticed it has a weird extension called fits. This stands for Flexible Image Transport System and is how astronomers save huge amount of data into files.\n",
    "\n",
    "### Question 4:  We ask that you open the file and tell us some information about what is in the file.\n",
    "\n",
    "a. What is the pixel scale on the x axis? (This is typically called CDELT1.) What information is contained on the second line of the header?\n",
    "\n",
    "b. Access the data from the fits file that is in extension zero\n",
    "\n",
    "c. What is the size and shape of this data? What is the average and standard deviation of the flux?"
   ]
  },
  {
   "cell_type": "code",
   "execution_count": null,
   "metadata": {},
   "outputs": [],
   "source": [
    "#part 1\n",
    "hdu = fits.open(' f001a066.fits')\n",
    "print(hdu[0].header['CDELT1'])\n",
    "print('BITPIX')"
   ]
  },
  {
   "cell_type": "code",
   "execution_count": null,
   "metadata": {},
   "outputs": [],
   "source": [
    "#part b\n",
    "data = hdu[0].data"
   ]
  },
  {
   "cell_type": "code",
   "execution_count": null,
   "metadata": {},
   "outputs": [],
   "source": [
    "data.shape()"
   ]
  },
  {
   "cell_type": "code",
   "execution_count": null,
   "metadata": {},
   "outputs": [],
   "source": [
    "#part c\n",
    "print(f'Average of the data is: {data.mean():.3f})\n",
    "print(f'Standard Deviation of the data is: {data.std():.3f})"
   ]
  },
  {
   "cell_type": "markdown",
   "metadata": {},
   "source": [
    "### Question 5: Produce a normalized histogram of the flux values."
   ]
  },
  {
   "cell_type": "code",
   "execution_count": null,
   "metadata": {},
   "outputs": [],
   "source": [
    "plt.figure(figsize = (12, 7))\n",
    "plt.hist(data, bins = 20, density = True)\n",
    "plt.show()"
   ]
  }
 ],
 "metadata": {
  "kernelspec": {
   "display_name": "Python 3",
   "language": "python",
   "name": "python3"
  },
  "language_info": {
   "codemirror_mode": {
    "name": "ipython",
    "version": 3
   },
   "file_extension": ".py",
   "mimetype": "text/x-python",
   "name": "python",
   "nbconvert_exporter": "python",
   "pygments_lexer": "ipython3",
   "version": "3.8.3"
  }
 },
 "nbformat": 4,
 "nbformat_minor": 4
}
