{
 "cells": [
  {
   "cell_type": "markdown",
   "metadata": {},
   "source": [
    "## Exercises\n",
    "\n",
    "This will be a notebook for you to work through the exercises during the workshop. Feel free to work on these at whatever pace you feel works for you, but I encourage you to work together! Edit the title of this notebook with your name because I will ask you to upload your final notebook to our shared github repository at the end of this workshop.\n",
    "\n",
    "Feel free to google the documentation for numpy, matplotlib, etc.\n",
    "\n",
    "Don't forget to start by importing any libraries you need."
   ]
  },
  {
   "cell_type": "code",
   "execution_count": 33,
   "metadata": {},
   "outputs": [],
   "source": [
    "# import your libraries here\n",
    "\n",
    "import numpy as np\n",
    "\n",
    "import matplotlib.pyplot as plt\n",
    "\n",
    "#make axes larger on all plots\n",
    "plt.rc('ytick',labelsize=16)\n",
    "plt.rc('xtick',labelsize=16)"
   ]
  },
  {
   "cell_type": "markdown",
   "metadata": {},
   "source": [
    "### Day 1\n",
    "\n",
    "#### Exercise 1\n",
    "\n",
    "   A. Create an array with 10 evenly spaced values in logspace ranging from 0.1 to 10,000.\n",
    "\n",
    "   B. Print the following values: The first value in the array, the final value in the array, and the range of 5th-8th values.\n",
    "\n",
    "   C. Append the numbers 10,001 and 10,002 (as floats) to the array. Make sure you define this!\n",
    "\n",
    "   D. Divide your new array by 2.\n",
    "\n",
    "   E. Reshape your array to be 3 x 4. \n",
    "\n",
    "   F. Multiply your array by itself.\n",
    "    \n",
    "   G.  Print out the number of dimensions and the maximum value."
   ]
  },
  {
   "cell_type": "code",
   "execution_count": 9,
   "metadata": {},
   "outputs": [
    {
     "name": "stdout",
     "output_type": "stream",
     "text": [
      "logarray: [1.00000000e-01 3.59381366e-01 1.29154967e+00 4.64158883e+00\n",
      " 1.66810054e+01 5.99484250e+01 2.15443469e+02 7.74263683e+02\n",
      " 2.78255940e+03 1.00000000e+04] \n",
      " \n",
      "\n",
      "first: 0.1 last: 10000.0 5th-8th: [ 16.68100537  59.94842503 215.443469   774.26368268] \n",
      " \n",
      "\n",
      "appended array: [1.00000000e-01 3.59381366e-01 1.29154967e+00 4.64158883e+00\n",
      " 1.66810054e+01 5.99484250e+01 2.15443469e+02 7.74263683e+02\n",
      " 2.78255940e+03 1.00000000e+04 1.00010000e+04 1.00020000e+04] \n",
      " \n",
      "\n",
      "divided array: [5.00000000e-02 1.79690683e-01 6.45774833e-01 2.32079442e+00\n",
      " 8.34050269e+00 2.99742125e+01 1.07721735e+02 3.87131841e+02\n",
      " 1.39127970e+03 5.00000000e+03 5.00050000e+03 5.00100000e+03] \n",
      " \n",
      "\n",
      "efficiently divided array: [5.00000000e-02 1.79690683e-01 6.45774833e-01 2.32079442e+00\n",
      " 8.34050269e+00 2.99742125e+01 1.07721735e+02 3.87131841e+02\n",
      " 1.39127970e+03 5.00000000e+03 5.00050000e+03 5.00100000e+03] \n",
      " \n",
      "\n",
      "3x4 array: [[5.00000000e-02 1.79690683e-01 6.45774833e-01 2.32079442e+00]\n",
      " [8.34050269e+00 2.99742125e+01 1.07721735e+02 3.87131841e+02]\n",
      " [1.39127970e+03 5.00000000e+03 5.00050000e+03 5.00100000e+03]] \n",
      " \n",
      "\n",
      "multiplied arrays: [[2.50000000e-03 3.22887416e-02 4.17025134e-01 5.38608673e+00]\n",
      " [6.95639851e+01 8.98453416e+02 1.16039721e+04 1.49871063e+05]\n",
      " [1.93565921e+06 2.50000000e+07 2.50050002e+07 2.50100010e+07]] \n",
      " \n",
      " [[5.83790060e+00 9.73820513e+02 1.58035073e+04]\n",
      " [9.73820513e+02 1.62443052e+05 2.63618391e+06]\n",
      " [1.58035073e+04 2.63618391e+06 7.69506605e+07]] \n",
      " \n",
      " [[2.50000000e-03 3.22887416e-02 4.17025134e-01 5.38608673e+00]\n",
      " [6.95639851e+01 8.98453416e+02 1.16039721e+04 1.49871063e+05]\n",
      " [1.93565921e+06 2.50000000e+07 2.50050002e+07 2.50100010e+07]] \n",
      "\n",
      "\n",
      "n dimensions: 2 max value: 25010001.0\n"
     ]
    }
   ],
   "source": [
    "# your solution here\n",
    "\n",
    "#A.\n",
    "logarray = np.logspace(-1, 4, 10)\n",
    "print(\"logarray:\", logarray, \"\\n \\n\")\n",
    "\n",
    "#B.\n",
    "print(\"first:\", logarray[0], \"last:\", logarray[-1], \"5th-8th:\", logarray[4:8], \"\\n \\n\")\n",
    "\n",
    "#C. \n",
    "appended_logarray = np.append(logarray, [10001., 10002.])\n",
    "print(\"appended array:\", appended_logarray, \"\\n \\n\")\n",
    "\n",
    "#D. \n",
    "divided_array = appended_logarray / 2\n",
    "appended_logarray /= 2\n",
    "print(\"divided array:\", divided_array, \"\\n \\n\")\n",
    "print(\"efficiently divided array:\", appended_logarray, \"\\n \\n\")\n",
    "\n",
    "#E. \n",
    "reshaped_array = divided_array.reshape(3, 4)\n",
    "print(\"3x4 array:\", reshaped_array, \"\\n \\n\")\n",
    "\n",
    "#F. \n",
    "multiplied_array = reshaped_array**2\n",
    "multiplied_array_dot = np.dot(reshaped_array, reshaped_array.T)\n",
    "reshaped_array **= 2\n",
    "print(\"multiplied arrays:\", multiplied_array, \"\\n \\n\", multiplied_array_dot, \"\\n \\n\",\\\n",
    "     reshaped_array, \"\\n\" \"\\n\")\n",
    "\n",
    "#G.\n",
    "print(\"n dimensions:\", reshaped_array.ndim, \"max value:\", np.max(reshaped_array))\n",
    "#note that if you use max(), you will need to flatten the array\n",
    "#np.max knows what you mean\n",
    "#np.amax also knows what you mean"
   ]
  },
  {
   "cell_type": "markdown",
   "metadata": {},
   "source": [
    "### Day 2"
   ]
  },
  {
   "cell_type": "markdown",
   "metadata": {},
   "source": [
    "#### Exercise 1\n",
    "\n",
    "   A. Create an array containing the values 4, 0, 6, 5, 11, 14, 12, 14, 5, 16.\n",
    "   B. Create a 10x2 array of zeros.\n",
    "   C. Write a for loop that checks if each of the numbers in the first array squared is less than 100. If the statement is true, change that row of your zeros array to equal the number and its square. Hint: you can change the value of an array by stating \"zerosarray[i] = [a number, a number squared]\". \n",
    "   D. Print out the final version of your zeros array.\n",
    "    \n",
    "Hint: should you loop over the elements of the array or the indices of the array?"
   ]
  },
  {
   "cell_type": "code",
   "execution_count": 16,
   "metadata": {},
   "outputs": [
    {
     "name": "stdout",
     "output_type": "stream",
     "text": [
      "[[ 4. 16.]\n",
      " [ 0.  0.]\n",
      " [ 6. 36.]\n",
      " [ 5. 25.]\n",
      " [ 0.  0.]\n",
      " [ 0.  0.]\n",
      " [ 0.  0.]\n",
      " [ 0.  0.]\n",
      " [ 5. 25.]\n",
      " [ 0.  0.]]\n"
     ]
    }
   ],
   "source": [
    "# your solutions here\n",
    "\n",
    "#A.\n",
    "array_day2 = np.array([4, 0, 6, 5, 11, 14, 12, 14, 5, 16])\n",
    "\n",
    "#B.\n",
    "zero_array = np.zeros((10, 2))\n",
    "\n",
    "#C. \n",
    "# one way\n",
    "for A in range(0, len(array_day2)):\n",
    "    checksquare = array_day2[A]**2\n",
    "    if checksquare < 100:\n",
    "        zero_array[A] = [array_day2[A], array_day2[A]**2]\n",
    "\n",
    "# another way\n",
    "for A in range(len(array_day2)):\n",
    "    if array_day2[A]**2 < 100:\n",
    "        zero_array[A] = [array_day2[A], array_day2[A]**2]\n",
    "        \n",
    "\n",
    "# a third way\n",
    "for A, val in enumerate(array_day2):\n",
    "    if val**2 < 100:\n",
    "        zero_array[A] = [val, val**2]\n",
    "        \n",
    "#D.\n",
    "print(zero_array)"
   ]
  },
  {
   "cell_type": "markdown",
   "metadata": {},
   "source": [
    "#### Exercise 2\n",
    "    \n",
    "   A. Write a function that takes an array of numbers and spits out the Gaussian distribution. Yes, there is a function for this in Python, but it's good to do this from scratch! This is the equation:\n",
    "    \n",
    "$$ f(x) = \\frac{1}{\\sigma \\sqrt{2\\pi}} \\exp{\\frac{-(x - \\mu)^2}{2\\sigma^2}} $$\n",
    "\n",
    "    (Pi is built into numpy, so call it as np.pi.)\n",
    "\n",
    "   B. Call the function a few different times for different values of mu and sigma, between -10 < x < 10.\n",
    "    \n",
    "   C. Plot each version, making sure they are differentiated with different colors and/or linestyles and include a legend. Btw, here's a list of the customizations available in matplotlib:\n",
    "    \n",
    "    https://matplotlib.org/3.1.0/api/_as_gen/matplotlib.pyplot.plot.html\n",
    "    \n",
    "    https://matplotlib.org/gallery/color/named_colors.html\n",
    "    \n",
    "   D. Save your figure.\n",
    "    \n",
    "If you have multiple lines with plt.plot(), Python will plot all of them together, unless you write plt.show() after each one. I want these all on one plot."
   ]
  },
  {
   "cell_type": "code",
   "execution_count": 35,
   "metadata": {},
   "outputs": [
    {
     "data": {
      "text/plain": [
       "<matplotlib.legend.Legend at 0x1a153c8e48>"
      ]
     },
     "execution_count": 35,
     "metadata": {},
     "output_type": "execute_result"
    },
    {
     "data": {
      "image/png": "[encoded data removed]",
      "text/plain": [
       "<matplotlib.figure.Figure at 0x1a1527a400>"
      ]
     },
     "metadata": {},
     "output_type": "display_data"
    }
   ],
   "source": [
    "# your solutions here\n",
    "\n",
    "def gauss(x, mu, sig):\n",
    "    const = (sig * np.sqrt(2 * np.pi))**(-1)\n",
    "    exp = np.exp(- (x-mu)**2 / (2 * sig**2) )\n",
    "    return const * exp\n",
    "\n",
    "x = np.linspace(-10, 10, 100)\n",
    "curve1 = gauss(x, 0, 1)\n",
    "curve2 = gauss(x, 2, 1)\n",
    "curve3 = gauss(x, 0, 2)\n",
    "\n",
    "fig = plt.figure()\n",
    "\n",
    "\n",
    "plt.plot(x, curve1, '--g', label=r'$\\mu=0, \\sigma=1$')\n",
    "plt.plot(x, curve2, '-b', label=r'$\\mu=2, \\sigma=1$')\n",
    "\n",
    "mu3, sigma3 = 0, 2\n",
    "plt.plot(x, curve3, ':r', label=r'$\\mu=%.1f, \\sigma=%.1f$' %(mu3, sigma3))\n",
    "\n",
    "plt.xlabel('x', fontsize=16)\n",
    "\n",
    "plt.ylabel('y', fontsize=16)\n",
    "\n",
    "plt.title('gauss')\n",
    "\n",
    "plt.tick_params(axis='both', which='both', direction='in', bottom=True, top=True, left=True, right=True)\n",
    "\n",
    "plt.legend()"
   ]
  },
  {
   "cell_type": "markdown",
   "metadata": {},
   "source": [
    "### Day 3\n",
    "\n",
    "#### Exercise 1\n",
    "\n",
    "There is a file in this directory called \"histogram_exercise.dat\" which consists of of randomly generated samples from a Gaussian distribution with an unknown $\\mu$ and $\\sigma$. Using what you've learned about fitting data, load up this file using np.genfromtxt, fit a Gaussian curve to the data and plot both the curve and the histogram of the data. As always, label everything, play with the colors, and choose a judicious bin size. \n",
    "\n",
    "Hint: if you attempt to call a function from a library or package that hasn't been imported, you will get an error."
   ]
  },
  {
   "cell_type": "code",
   "execution_count": 56,
   "metadata": {},
   "outputs": [
    {
     "name": "stdout",
     "output_type": "stream",
     "text": [
      "5.043429579324218 1.9340244153304138\n"
     ]
    },
    {
     "data": {
      "text/plain": [
       "<matplotlib.legend.Legend at 0x1a16b44c50>"
      ]
     },
     "execution_count": 56,
     "metadata": {},
     "output_type": "execute_result"
    },
    {
     "data": {
      "image/png": "[encoded data removed]",
      "text/plain": [
       "<matplotlib.figure.Figure at 0x1a15792f98>"
      ]
     },
     "metadata": {},
     "output_type": "display_data"
    }
   ],
   "source": [
    "# your solution here\n",
    "\n",
    "from scipy.stats import norm\n",
    "\n",
    "values = np.genfromtxt('histogram_exercise.dat')\n",
    "\n",
    "mu, sigma = norm.fit(values)\n",
    "print(mu, sigma)\n",
    "\n",
    "x = np.linspace(mu - 4*sigma, mu + 4*sigma, 1000)\n",
    "curve = norm.pdf(x, mu, sigma)\n",
    "\n",
    "plt.hist(values, bins=20, facecolor='m', alpha=0.5, normed=True)\n",
    "plt.plot(x, curve, \"-k\", label='$\\mu = %.2f, \\sigma = %.2f$' % (mu, sigma))\n",
    "\n",
    "plt.ylim(0, 0.3)\n",
    "\n",
    "plt.legend(fontsize=16, loc='best')"
   ]
  },
  {
   "cell_type": "markdown",
   "metadata": {},
   "source": [
    "#### Exercise 2\n",
    "\n",
    "Create a 1D interpolation along these arrays. Plot both the data (as points) and the interpolation (as a dotted line). Also plot the value of the interpolated function at x=325. What does the function look like to you?"
   ]
  },
  {
   "cell_type": "code",
   "execution_count": 55,
   "metadata": {},
   "outputs": [
    {
     "data": {
      "text/plain": [
       "<matplotlib.text.Text at 0x1a16a14da0>"
      ]
     },
     "execution_count": 55,
     "metadata": {},
     "output_type": "execute_result"
    },
    {
     "data": {
      "image/png": "[encoded data removed]",
      "text/plain": [
       "<matplotlib.figure.Figure at 0x1a1578bdd8>"
      ]
     },
     "metadata": {},
     "output_type": "display_data"
    }
   ],
   "source": [
    "x = np.array([0., 50., 100., 150., 200., 250., 300., 350., 400., 450., 500])\n",
    "y = np.array([0., 7.071, 10., 12.247, 14.142, 15.811, 17.321, 18.708, 20., 21.213, 22.361])\n",
    "\n",
    "# solution here\n",
    "\n",
    "from scipy.interpolate import interp1d\n",
    "ynew = interp1d(x, y)\n",
    "xnew = np.linspace(min(x), max(x), 500)\n",
    "y_interp = ynew(xnew)\n",
    "\n",
    "x_onepoint = 325.\n",
    "y_onepoint = ynew(325.)\n",
    "\n",
    "plt.plot(x, y, '^', color='seagreen', markersize=12, label='data')\n",
    "plt.plot(xnew, y_interp, '--k', label='interpolated')\n",
    "plt.plot(x_onepoint, y_onepoint, 'om', markersize=15, label='interpolated point')\n",
    "plt.legend(fontsize=16)\n",
    "plt.xlabel('x', fontsize=16)\n",
    "plt.ylabel('y', fontsize=16)"
   ]
  },
  {
   "cell_type": "markdown",
   "metadata": {},
   "source": [
    "### Day 4\n",
    "\n",
    "#### Exercise 1\n",
    "\n",
    "Let's practice some more plotting skills, now incorporating units. \n",
    "\n",
    "A. Write a function that takes an array of frequencies and spits out the Planck distribution. That's this equation:\n",
    "\n",
    "$$ B(\\nu, T) = \\frac{2h\\nu^3/c^2}{e^{\\frac{h\\nu}{k_B T}} - 1} $$\n",
    "\n",
    "This requires you to use the Planck constant, the Boltzmann constant, and the speed of light from astropy. Make sure they are all in cgs. \n",
    "    \n",
    "B. Plot your function in log-log space for T = 25, 50, and 300 K. The most sensible frequency range is about 10^5 to 10^15 Hz. Hint: if your units are correct, your peak values of B(T) should be on the order of 10^-10. Make sure everything is labelled. "
   ]
  },
  {
   "cell_type": "code",
   "execution_count": null,
   "metadata": {},
   "outputs": [],
   "source": [
    "# solution here"
   ]
  },
  {
   "cell_type": "markdown",
   "metadata": {},
   "source": [
    "#### Exercise 2\n",
    "\n",
    "Let's put everything together now! Here's a link to the full documentation for FITSFigure, which will tell you all of the customizable options: http://aplpy.readthedocs.io/en/stable/api/aplpy.FITSFigure.html. Let's create a nice plot of M51 with a background optical image and X-ray contours overplotted.\n",
    "\n",
    "The data came from here if you're interested: http://chandra.harvard.edu/photo/openFITS/multiwavelength_data.html\n",
    "\n",
    "A. Using astropy, open the X-RAY data (m51_xray.fits). Flatten the data array and find its standard deviation, and call it sigma.\n",
    "\n",
    "B. Using aplpy, plot a colorscale image of the OPTICAL data. Choose a colormap that is visually appealing (list of them here: https://matplotlib.org/2.0.2/examples/color/colormaps_reference.html). Show the colorbar. \n",
    "\n",
    "C. Plot the X-ray data as contours above the optical image. Make the contours spring green with 80% opacity and dotted lines. Make the levels go from 2$\\sigma$ to 10$\\sigma$ in steps of 2$\\sigma$. (It might be easier to define the levels array before show_contours, and set levels=levels.)"
   ]
  },
  {
   "cell_type": "code",
   "execution_count": null,
   "metadata": {},
   "outputs": [],
   "source": [
    "# solution here"
   ]
  }
 ],
 "metadata": {
  "kernelspec": {
   "display_name": "Python 3",
   "language": "python",
   "name": "python3"
  },
  "language_info": {
   "codemirror_mode": {
    "name": "ipython",
    "version": 3
   },
   "file_extension": ".py",
   "mimetype": "text/x-python",
   "name": "python",
   "nbconvert_exporter": "python",
   "pygments_lexer": "ipython3",
   "version": "3.5.4"
  }
 },
 "nbformat": 4,
 "nbformat_minor": 2
}
