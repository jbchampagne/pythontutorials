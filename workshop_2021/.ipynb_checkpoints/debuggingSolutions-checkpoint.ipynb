{
 "cells": [
  {
   "cell_type": "markdown",
   "metadata": {},
   "source": [
    "Below are a series of cells with various programming problems\n",
    "\n",
    "Some problems will require the kernel to be restarted using the redo button\n",
    "\n",
    "The print statement is your friend!\n"
   ]
  },
  {
   "cell_type": "markdown",
   "metadata": {},
   "source": [
    "1. Problem: \n",
    "        np.linspace(10)\n",
    "\n",
    "    Solution: \n",
    "        import numpy\n",
    "        np.linspace(0,10,1)\n",
    " \n",
    "Explanation: There were two things wrong with this code. First, numpy hasn't been imported yet so calling a numpy function won't work. Second, the numpy linspace function requires three arguments: start, stop, points; however, only one was supplied. "
   ]
  },
  {
   "cell_type": "markdown",
   "metadata": {
    "collapsed": true
   },
   "source": [
    "2. Problem: \n",
    "        import numpy as np\n",
    "        imprt math\n",
    "        \n",
    "   Solution:\n",
    "        import numpy as np\n",
    "        import math\n",
    "      \n",
    "Explanation: The second import was misspelled."
   ]
  },
  {
   "cell_type": "markdown",
   "metadata": {
    "collapsed": true
   },
   "source": [
    "3. Problem:\n",
    "        print = [0,1,2,3]\n",
    "        print[0]\n",
    "        print(\"apple\")\n",
    "        \n",
    "   Solution:\n",
    "        someOtherName = [1,2,3]\n",
    "        someOtherName[0]\n",
    "        print(\"apple\")\n",
    "    \n",
    "Explanation: Python won't stop you from redefining some default functions like print! Sadly there doesn't seem to be an easy way to get your print back. User beware. Since variables are shared by ipython cells, you've also lost print for the rest of this ipynb."
   ]
  },
  {
   "cell_type": "markdown",
   "metadata": {
    "collapsed": true
   },
   "source": [
    "4. Problem:\n",
    "        print(\"Hello bugs!')\n",
    "        \n",
    "   Solution:\n",
    "        print(\"Hello bugs!\")\n",
    "        \n",
    "Explanation: Python allows string literals to be defined by putting stuff between \"\" and '' but not \"' or '\". Some other languages don't allow both of these to be strings."
   ]
  },
  {
   "cell_type": "markdown",
   "metadata": {
    "collapsed": true
   },
   "source": [
    "5. Problem:\n",
    "        Comments!\n",
    "   Solution:\n",
    "        #Comments!\n",
    "        \n",
    "Explanation: Comments are notes to yourself or other users. To distinguish them from code they must be preceeded by # in python.\n",
    "This has to be done for each line. If you want a nice multiline comment either use the jupyter keyboard short cut, or make a multiline string using '''message''' replacing message with whatever you desire and don't assign the string to anything. "
   ]
  },
  {
   "cell_type": "markdown",
   "metadata": {},
   "source": [
    "6. Problem:\n",
    "        x = np.linspace(-1,1,11)\n",
    "        y = 1/x\n",
    "        print(x/x == x/x)\n",
    "   Solution:\n",
    "        x = np.linspace(-1,1,11)\n",
    "        y = 1/x\n",
    "        print(x/x == x/x)\n",
    "        \n",
    "Explanation: There isn't anything syntaxtically wrong with this code but it serves to highlight that division by zero can produce unexcepted or counter intuitive results. For this problem, 0/0 is not equal to 0/0."
   ]
  },
  {
   "cell_type": "markdown",
   "metadata": {
    "collapsed": true
   },
   "source": [
    "7. Problem:\n",
    "        #sum 1 to 10\n",
    "        summation = 0\n",
    "        for i in range(10)\n",
    "            summation == j\n",
    "            print i\n",
    "   Solution:\n",
    "        #sum 1 to 10\n",
    "        summation = 0\n",
    "        for i in range(10):\n",
    "            summation += i\n",
    "            print(i)\n",
    "            \n",
    "Explanation: There are several things to address. There is a colon missing after the range statement that the for loop requires to work. Summation is being compared to j but no j exists. Summation should be incremented (summation += value is the same as summation = summation + value) by i. Finally, print is a function, so it needs parentheses to indicate what print is using as an input. This is different in python 2.7 in case you happen to be reading some of that. "
   ]
  },
  {
   "cell_type": "markdown",
   "metadata": {},
   "source": [
    "8. Problem:\n",
    "        i = 10\n",
    "        for i in range(20):\n",
    "            pass\n",
    "        print(i)\n",
    "   Solution:\n",
    "        i = 10\n",
    "        for i in range(20):\n",
    "            pass\n",
    "        print(i)\n",
    "        \n",
    "Explanation: Nothing is wrong with the code, rather this highlights a big difference between python and other languages like Java. Since i is both assigned above the loop and in the loop header, the loop header doesn't bother making a new 'i' variable and just uses the one right above. This can give a lot of grieve if you have a quantity like inclination that you'd like to represent as an i and also index through a loop (normally done with i, though there isn't any real need to use it)."
   ]
  },
  {
   "cell_type": "markdown",
   "metadata": {},
   "source": [
    "9. Problem: \n",
    "        a = 5\n",
    "        a = str(a)\n",
    "        a*5\n",
    "   Solution:\n",
    "        a = 5\n",
    "        a = str(a)\n",
    "        a*5\n",
    "        \n",
    "Explanation: The code is fine, but changing something to a string can produce unexpected results if you're doing arithmetic on it."
   ]
  },
  {
   "cell_type": "markdown",
   "metadata": {},
   "source": [
    "10. Problem:\n",
    "        list1 = []\n",
    "        list2 = list1\n",
    "        list1.append(5)\n",
    "        print(list2 == [])\n",
    "        list1 = []\n",
    "        print(list2 == list1)\n",
    "    \n",
    "    Solution:\n",
    "        list1 = []\n",
    "        list2 = list1\n",
    "        list1.append(5)\n",
    "        print(list2 == [])\n",
    "        list1 = []\n",
    "        print(list2 == list1)\n",
    "\n",
    "Explanation: Nothing is wrong with the code. This example shows some of the nuance involved with objects. In a nutshell, list1 has both data (what's in the []) and methods associated with it, like list1.append() . This would be pretty cumbersome to move around in memory so list1 is sort of split up. By saying list2 = list1, it's saying those are identical, and any updates to list1 or list2 via calling a list method, like append() are reflected in both list1 and list2. In contrast, list1 =[] has now severed the link between list1 and list2, list2 still has the original list1 data whereas the new list1 has nothing. Thesea are why both equalities fail."
   ]
  },
  {
   "cell_type": "markdown",
   "metadata": {},
   "source": [
    "11. Problem:\n",
    "        dress = \"yes\"\n",
    "        if dress is \"yes\":\n",
    "            print(\"success\")\n",
    "        else if dress is \"maybe\":\n",
    "            print(\"okay?\")\n",
    "        else:\n",
    "            print(\"failure\")\n",
    "            \n",
    "    Solution:\n",
    "        dress = \"yes\"\n",
    "        if dress is \"yes\":\n",
    "            print(\"success\")\n",
    "        elif dress is \"maybe\":\n",
    "            print(\"okay?\")\n",
    "        else:\n",
    "            print(\"failure\")\n",
    "Explanation: \"else if\" is always shortened to elif in python and \"else if\" is not recognized as correct syntax."
   ]
  },
  {
   "cell_type": "markdown",
   "metadata": {
    "collapsed": true
   },
   "source": [
    "12. Problem:\n",
    "        def myFunction(variable1):\n",
    "            variable1 + 5\n",
    "\n",
    "        g = myFunction(10)\n",
    "    \n",
    "    Solution:\n",
    "        def myFunction(variable1):\n",
    "            return variable1 + 5\n",
    "\n",
    "        g = myFunction(10)\n",
    "    \n",
    "Explanation: Functions must have a return statement if you want to get back values until you're doing something a bit more tricky."
   ]
  },
  {
   "cell_type": "markdown",
   "metadata": {},
   "source": [
    "13. Problem:\n",
    "        def x(\"variable\"):\n",
    "            return variable\n",
    "    Solution:\n",
    "        def x(variable):\n",
    "            return variable\n",
    "Explanation: Don't assign a type to the parameter in the function header. If variable is suppose to be a string, either check that or assume it's the case."
   ]
  },
  {
   "cell_type": "markdown",
   "metadata": {},
   "source": [
    "14. Problem:\n",
    "        words = [\"words words words\",'my jam','apple jacks', 'the finer things', 'Ocean']\n",
    "        \"0cean\" in words\n",
    "    Solution:\n",
    "        words = [\"words words words\",'my jam','apple jacks', 'the finer things', 'Ocean']\n",
    "        \"0cean\" in words\n",
    "Explanation: Nothing is wrong with the code, but capital o's and zeros look almost identical."
   ]
  },
  {
   "cell_type": "markdown",
   "metadata": {},
   "source": [
    "15. Problem:\n",
    "        numpy1 = np.zeros((5,1))\n",
    "        numpy2 = np.zeros((5))\n",
    "        numpy1*numpy2\n",
    "    Solution:\n",
    "        numpy1 = np.zeros((5))\n",
    "        numpy2 = np.zeros((5))\n",
    "        numpy1*numpy2\n",
    "Explanation: While nothing was explicity wrong with the prior code, this shows how numpy can be a little too clever sometimes. Instead of doing element by element multiplication, it saw something that resembled a matrix and did matrix multiplication instead."
   ]
  },
  {
   "cell_type": "code",
   "execution_count": null,
   "metadata": {},
   "outputs": [],
   "source": []
  }
 ],
 "metadata": {
  "kernelspec": {
   "display_name": "Python 3",
   "language": "python",
   "name": "python3"
  },
  "language_info": {
   "codemirror_mode": {
    "name": "ipython",
    "version": 3
   },
   "file_extension": ".py",
   "mimetype": "text/x-python",
   "name": "python",
   "nbconvert_exporter": "python",
   "pygments_lexer": "ipython3",
   "version": "3.5.4"
  }
 },
 "nbformat": 4,
 "nbformat_minor": 2
}
