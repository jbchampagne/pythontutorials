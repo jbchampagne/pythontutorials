{
 "cells": [
  {
   "cell_type": "markdown",
   "metadata": {},
   "source": [
    "# TAURUS + NSF REU 2021\n",
    "# Introduction to Python Day 2\n",
    "# If Statements, For Loops, Functions & Plotting\n",
    "\n",
    "Welcome back! By now you should be comfortable with some basic Python syntax. Let's get into something a bit more interesting today: control structure! This allows you to actually build up your code.\n",
    "\n",
    "Today we will go over if statements, for loops, and functions, and then we will do a debugging exercise.\n",
    "\n",
    "First let's import some stuff we'll need today: numpy and matplotlib."
   ]
  },
  {
   "cell_type": "code",
   "execution_count": 9,
   "metadata": {},
   "outputs": [
    {
     "name": "stderr",
     "output_type": "stream",
     "text": [
      "UsageError: Line magic function `%` not found.\n"
     ]
    }
   ],
   "source": [
    "import numpy as np\n",
    "import matplotlib.pyplot as plt\n",
    "\n",
    "% matplotlib inline\n",
    "#This part allows you to output plotting images in the notebook."
   ]
  },
  {
   "cell_type": "markdown",
   "metadata": {},
   "source": [
    "## If statement\n",
    "\n",
    "This is a conditional statement where the code will proceed only if the condition is met. Otherwise, the code will stop, or move on to the next condition.\n",
    "\n",
    "The simplest if statement is a true/false boolean, but you can impose any of the conditions that we learned yesterday. \n",
    "\n",
    "Remember that '==' is the equivalence condition, while '=' is a definition.\n",
    "\n",
    "The syntax is the following:\n",
    "\n",
    "    if condition is met:\n",
    "        do something\n",
    "        \n",
    "If you want to give the code a different option, use 'else'.\n",
    "\n",
    "    if condition is met:\n",
    "        do something\n",
    "    else:\n",
    "        do a different thing\n",
    "        \n",
    "Thus, the code will only move to 'else' if the first coniditon is false. To include multiple options, use 'elif', short for 'else if'. \n",
    "\n",
    "    if condition is met:\n",
    "        do something\n",
    "    elif different condition is met:\n",
    "        do something else\n",
    "    else:\n",
    "        do another thing\n",
    "        \n",
    "Jupyter notebook will automatically indent the next line if you begin an if statement or a for loop with the correct syntax. If it doesn't, this is a clue you have a problem, like maybe forgetting the colon or not closing parentheses earlier in the cell.\n",
    "        \n",
    "### Question 1: Try a simple one: if 1 equals 1, print \"yes!\" Write a second one such that if one does not equal one, print \"no!\" What happens?"
   ]
  },
  {
   "cell_type": "code",
   "execution_count": 2,
   "metadata": {},
   "outputs": [
    {
     "name": "stdout",
     "output_type": "stream",
     "text": [
      "yes!\n"
     ]
    }
   ],
   "source": [
    "# solution here\n",
    "\n",
    "if 1 == 1:\n",
    "    print('yes!')\n",
    "    \n",
    "    \n",
    "if 1 != 1:\n",
    "    print('no!')"
   ]
  },
  {
   "cell_type": "markdown",
   "metadata": {},
   "source": [
    "You probably noticed that the code stopped, since the statement is false. If we don't want the code to stop, we would put in an else statement. Try it again: \n",
    "\n",
    "### Change your if statement from above. If one does not equal one, print \"yes!\" If that's not true, print \"1 always equals 1, duh.\" "
   ]
  },
  {
   "cell_type": "code",
   "execution_count": 4,
   "metadata": {},
   "outputs": [
    {
     "name": "stdout",
     "output_type": "stream",
     "text": [
      "1 always equals 1, duh\n"
     ]
    }
   ],
   "source": [
    "# solution here\n",
    "\n",
    "if 1 != 1:\n",
    "    print(\"yes!\")\n",
    "else:\n",
    "    print(\"1 always equals 1, duh\")"
   ]
  },
  {
   "cell_type": "markdown",
   "metadata": {},
   "source": [
    "### Question 2: Let's review some boolean logic. Go ahead and define that b = 10. Write an if statement that checks whether b is equal to 10 or 2, and if so, print the value of b."
   ]
  },
  {
   "cell_type": "code",
   "execution_count": 6,
   "metadata": {},
   "outputs": [
    {
     "name": "stdout",
     "output_type": "stream",
     "text": [
      "b= 10\n",
      "b= 10\n"
     ]
    }
   ],
   "source": [
    "# solution here\n",
    "\n",
    "b = 10\n",
    "\n",
    "if b == 10:\n",
    "    print(\"b=\", b)\n",
    "elif b == 2:\n",
    "    print(\"b=\", b)\n",
    "else:\n",
    "    print(\"sad face :(\")\n",
    "    \n",
    "#alternatively\n",
    "if b == 10 or b == 2:\n",
    "    print(\"b=\", b)\n",
    "else:\n",
    "    print(\"sad face :(\")"
   ]
  },
  {
   "cell_type": "markdown",
   "metadata": {},
   "source": [
    "Like we mentioned yesterday, the syntax of arrays and indices can all be combined. \n",
    "\n",
    "### Question 3: Create a linear array with 10 values between 0 and 1, inclusive.  Write an if statement that checks whether the last entry in the array is less than one. If so, have it print out the last entry. If not, have it print out \"[last entry] is not less than one.\" \n",
    "\n"
   ]
  },
  {
   "cell_type": "code",
   "execution_count": 25,
   "metadata": {},
   "outputs": [
    {
     "name": "stdout",
     "output_type": "stream",
     "text": [
      "the last value, 1.00, is not less than 1\n"
     ]
    }
   ],
   "source": [
    "# solution here\n",
    "\n",
    "linarray = np.linspace(0, 1, 10)\n",
    "\n",
    "if linarray[-1] < 1:\n",
    "    print('the last value, %.2f, is less than 1'%linarray[-1])\n",
    "else:\n",
    "    print('the last value, %.2f, is not less than 1'%linarray[-1])"
   ]
  },
  {
   "cell_type": "markdown",
   "metadata": {},
   "source": [
    "## For loops\n",
    "\n",
    "For loops allow you to go through the values in an array or list and perform some operation or check a condition for each entry. The basic syntax is \"for x in y.\" \n",
    "\n",
    "    for x in y:\n",
    "        do something\n",
    "        \n",
    "\"X\" refers to the element within \"Y\", so you can define \"X\" with any character(s), but \"Y\" refers to the array or list you're looping over. \n",
    "\n",
    "### Question 4: Here's a list. Try writing a for loop that prints out each element of the list individually.\n",
    "\n"
   ]
  },
  {
   "cell_type": "code",
   "execution_count": 7,
   "metadata": {},
   "outputs": [
    {
     "name": "stdout",
     "output_type": "stream",
     "text": [
      "Barry B. Benson\n",
      "Vanessa Bloome\n",
      "Ray Liotta as Ray Liotta\n",
      "Shrek\n",
      "Donkey\n",
      "Fiona\n",
      "Lord Farquaad\n"
     ]
    }
   ],
   "source": [
    "beemovie = ['Barry B. Benson', 'Vanessa Bloome', 'Ray Liotta as Ray Liotta']\n",
    "\n",
    "shrek = ['Shrek', 'Donkey', 'Fiona', 'Lord Farquaad']\n",
    "\n",
    "#solution here\n",
    "\n",
    "for bee in beemovie:\n",
    "    print(bee)\n",
    "    \n",
    "for ogre in shrek:\n",
    "    print(ogre)"
   ]
  },
  {
   "cell_type": "markdown",
   "metadata": {},
   "source": [
    "Another way to write a for loop is to loop over the *indices* of the array rather than the values themselves. This allows you, for instance, to keep track of the same entry position in multiple arrays, or handle a situation where the location of the array is more important than the value. You'll see what I mean in a minute. If you do it this way, the syntax goes like this. The number of possible locations in the array is the length of the array, so in the range the length of the array, loop over every location:\n",
    "\n",
    "    for i in range(len(array)):\n",
    "        do something to array[i]\n",
    "        \n",
    "Now \"i\" is the index value rather than the value of the array. Here's an example:"
   ]
  },
  {
   "cell_type": "code",
   "execution_count": 10,
   "metadata": {},
   "outputs": [
    {
     "name": "stdout",
     "output_type": "stream",
     "text": [
      "a = 0.0\n",
      "a = 0.5\n",
      "a = 1.0\n",
      "a = 1.5\n",
      "a = 2.0\n",
      "a = 2.5\n",
      "a = 3.0\n",
      "a = 3.5\n",
      "a = 4.0\n",
      "a = 4.5\n",
      "a = 5.0\n",
      "a = 5.5\n",
      "a = 6.0\n",
      "a = 6.5\n",
      "a = 7.0\n",
      "a = 7.5\n",
      "a = 8.0\n",
      "a = 8.5\n",
      "a = 9.0\n",
      "a = 9.5\n",
      "a = 10.0\n",
      "the 0 th value of array is 0.0\n",
      "the 1 th value of array is 0.5\n",
      "the 2 th value of array is 1.0\n",
      "the 3 th value of array is 1.5\n",
      "the 4 th value of array is 2.0\n",
      "the 5 th value of array is 2.5\n",
      "the 6 th value of array is 3.0\n",
      "the 7 th value of array is 3.5\n",
      "the 8 th value of array is 4.0\n",
      "the 9 th value of array is 4.5\n",
      "the 10 th value of array is 5.0\n",
      "the 11 th value of array is 5.5\n",
      "the 12 th value of array is 6.0\n",
      "the 13 th value of array is 6.5\n",
      "the 14 th value of array is 7.0\n",
      "the 15 th value of array is 7.5\n",
      "the 16 th value of array is 8.0\n",
      "the 17 th value of array is 8.5\n",
      "the 18 th value of array is 9.0\n",
      "the 19 th value of array is 9.5\n",
      "the 20 th value of array is 10.0\n"
     ]
    }
   ],
   "source": [
    "array = np.linspace(0, 10, 21)\n",
    "\n",
    "for a in array:\n",
    "    print(\"a =\", a)\n",
    "\n",
    "for a in range(len(array)):\n",
    "    print(\"the\", a, \"th value of array is\", array[a])"
   ]
  },
  {
   "cell_type": "markdown",
   "metadata": {},
   "source": [
    "### Aside: A handy trick for printing things is the % formatter. This could be useful when titling plots or legends for instance, or when a print statement has multiple components.\n",
    "\n",
    "Another way to write the above would be:\n",
    "\n",
    "    for a in array:\n",
    "\n",
    "        print(\"a = %f\" %a)\n",
    "    \n",
    "There is more fancy formatting that comes along with this. '%s' is a string, '%i' is an integer, and '%f' is a float. \n",
    "'%.2f' would mean a float with 2 decimal points for example."
   ]
  },
  {
   "cell_type": "markdown",
   "metadata": {},
   "source": [
    "### We can also combine these two methods by using enumeration, which keeps track of the value and the index at the same time. An example would be:\n",
    "\n",
    "    for i, val in enumerate(array):\n",
    "\n",
    "        val_square = val**2\n",
    "    \n",
    "        print(\"the %i'th value squared is %f\" %(i, val_square))\n",
    "    "
   ]
  },
  {
   "cell_type": "code",
   "execution_count": 11,
   "metadata": {},
   "outputs": [
    {
     "name": "stdout",
     "output_type": "stream",
     "text": [
      "the 0th value squared is 0.00\n",
      "the 1th value squared is 0.25\n",
      "the 2th value squared is 1.00\n",
      "the 3th value squared is 2.25\n",
      "the 4th value squared is 4.00\n",
      "the 5th value squared is 6.25\n",
      "the 6th value squared is 9.00\n",
      "the 7th value squared is 12.25\n",
      "the 8th value squared is 16.00\n",
      "the 9th value squared is 20.25\n",
      "the 10th value squared is 25.00\n",
      "the 11th value squared is 30.25\n",
      "the 12th value squared is 36.00\n",
      "the 13th value squared is 42.25\n",
      "the 14th value squared is 49.00\n",
      "the 15th value squared is 56.25\n",
      "the 16th value squared is 64.00\n",
      "the 17th value squared is 72.25\n",
      "the 18th value squared is 81.00\n",
      "the 19th value squared is 90.25\n",
      "the 20th value squared is 100.00\n"
     ]
    }
   ],
   "source": [
    "for i, val in enumerate(array):\n",
    "    val_square = val**2\n",
    "    print(\"the %ith value squared is %.2f\" %(i, val_square))\n",
    "    "
   ]
  },
  {
   "cell_type": "markdown",
   "metadata": {},
   "source": [
    "Combo time! You can also embed if statements into for loops, which checks the conditional statement for every value of the array. \n",
    "\n",
    "### Question 5. Create an array containing the values 0.5, 2, 3, 7. Loop over the array to check three different conditional statements inside the for loop:  check whether each value + 2 a) is less than 5, b) equal to 5, or c) greater than 5. If so, print out that statement (i.e., 'x + 2 < 5'). \n"
   ]
  },
  {
   "cell_type": "code",
   "execution_count": 17,
   "metadata": {},
   "outputs": [
    {
     "name": "stdout",
     "output_type": "stream",
     "text": [
      "2.500000 < 5\n",
      "4.000000 < 5\n",
      "5.00 == 5\n",
      "9.00 > 5\n",
      "another way to define a new variable\n",
      "0.500000 + 2 < 5\n",
      "2.000000 + 2 < 5\n",
      "3.00 + 2 == 5\n",
      "7.00 + 2 > 5\n"
     ]
    }
   ],
   "source": [
    "#solution here\n",
    "\n",
    "mylist = [0.5, 2, 3, 7] #list!\n",
    "myarray = np.array([0.5, 2., 3., 7.])\n",
    "\n",
    "for i in myarray:\n",
    "    i += 2 #this redefines the variable to be itself plus 2... use with caution lol\n",
    "    k = i + 2 #alternative way to define the value + 2\n",
    "    if i < 5:\n",
    "        print(\"%f < 5\" %i)\n",
    "    elif i == 5:\n",
    "        print(\"%.2f == 5\" %i)\n",
    "    elif i > 5:\n",
    "        print(\"%.2f > 5\" %i)\n",
    "    else:\n",
    "        print(\"no conditions are met\")\n",
    "        \n",
    "print(\"another way to define a new variable\")\n",
    "for i in myarray:\n",
    "    k = i + 2 #alternative way to define the value + 2\n",
    "    if k < 5:\n",
    "        print(\"%f + 2 < 5\" %i)\n",
    "    elif k == 5:\n",
    "        print(\"%.2f + 2 == 5\" %i)\n",
    "    elif k > 5:\n",
    "        print(\"%.2f + 2 > 5\" %i)\n",
    "    else:\n",
    "        print(\"no conditions are met\")"
   ]
  },
  {
   "cell_type": "markdown",
   "metadata": {},
   "source": [
    "## User-defined functions\n",
    "\n",
    "This is where the true programming comes in. Basically any code you write will be a series of functions that accomplish some task. Functions include mathematical expressions, list/array sorting, MCMC codes, statistical operations, and many more. \n",
    "\n",
    "The syntax goes like this:\n",
    "\n",
    "    def function(a, b, c):\n",
    "        do something\n",
    "        return something\n",
    "    \n",
    "First you define the function using \"def\". The definition of the function includes the name of the function, which you will use to call it, and the arguments required for the function to work. You should leave the arguments as variables, and you will give the variables values when you call the function.\n",
    "\n",
    "Inside the function, some operation will be performed on the variables you've provided. However, the function won't actually give you any output unless you use return. Return tells the function what to give you back.\n",
    "\n",
    "Here's an example:"
   ]
  },
  {
   "cell_type": "code",
   "execution_count": 18,
   "metadata": {},
   "outputs": [],
   "source": [
    "def line(m, b, x):\n",
    "    y = m * x + b\n",
    "    return y"
   ]
  },
  {
   "cell_type": "markdown",
   "metadata": {},
   "source": [
    "Now, to run the function, you can supply values for the arguments. You can feed the function an array as well.\n",
    "\n"
   ]
  },
  {
   "cell_type": "code",
   "execution_count": 19,
   "metadata": {},
   "outputs": [
    {
     "name": "stdout",
     "output_type": "stream",
     "text": [
      "5 [2.         2.05050505 2.1010101  2.15151515 2.2020202  2.25252525\n",
      " 2.3030303  2.35353535 2.4040404  2.45454545 2.50505051 2.55555556\n",
      " 2.60606061 2.65656566 2.70707071 2.75757576 2.80808081 2.85858586\n",
      " 2.90909091 2.95959596 3.01010101 3.06060606 3.11111111 3.16161616\n",
      " 3.21212121 3.26262626 3.31313131 3.36363636 3.41414141 3.46464646\n",
      " 3.51515152 3.56565657 3.61616162 3.66666667 3.71717172 3.76767677\n",
      " 3.81818182 3.86868687 3.91919192 3.96969697 4.02020202 4.07070707\n",
      " 4.12121212 4.17171717 4.22222222 4.27272727 4.32323232 4.37373737\n",
      " 4.42424242 4.47474747 4.52525253 4.57575758 4.62626263 4.67676768\n",
      " 4.72727273 4.77777778 4.82828283 4.87878788 4.92929293 4.97979798\n",
      " 5.03030303 5.08080808 5.13131313 5.18181818 5.23232323 5.28282828\n",
      " 5.33333333 5.38383838 5.43434343 5.48484848 5.53535354 5.58585859\n",
      " 5.63636364 5.68686869 5.73737374 5.78787879 5.83838384 5.88888889\n",
      " 5.93939394 5.98989899 6.04040404 6.09090909 6.14141414 6.19191919\n",
      " 6.24242424 6.29292929 6.34343434 6.39393939 6.44444444 6.49494949\n",
      " 6.54545455 6.5959596  6.64646465 6.6969697  6.74747475 6.7979798\n",
      " 6.84848485 6.8989899  6.94949495 7.        ]\n"
     ]
    }
   ],
   "source": [
    "one_value = line(1, 2, 3)\n",
    "array_of_values = line(1, 2, np.linspace(0, 5, 100))\n",
    "\n",
    "print(one_value, array_of_values)"
   ]
  },
  {
   "cell_type": "markdown",
   "metadata": {},
   "source": [
    "### Question 6: Write a function that takes the y-intercept, x value, and a constant m for a quadratic curve of the form y = mx^2 + b."
   ]
  },
  {
   "cell_type": "code",
   "execution_count": 20,
   "metadata": {},
   "outputs": [],
   "source": [
    "#solution here\n",
    "\n",
    "def quad(m, b, x):\n",
    "    y = m * x**2 + b\n",
    "    return y"
   ]
  },
  {
   "cell_type": "markdown",
   "metadata": {},
   "source": [
    "## Plotting!\n",
    "\n",
    "You will probably spend the majority of your time in astronomy making pretty plots so let's explore that now! You will need to use matplotlib.pyplot, which most people import as plt.\n",
    "\n",
    "    import matplotlib.pyplot as plt\n",
    "\n",
    "The only required arguments are x-values and y-values, and anything else is #aesthetic.\n",
    "\n",
    "So the syntax is like this:\n",
    "\n",
    "    plt.plot(x, y, kwargs)\n",
    "    \n",
    "You can also do a log10 plot using plt.loglog().\n",
    "\n",
    "Some of the customizations include:\n",
    "\n",
    "    markerstyle: o (circles), ^ (triangles), * (stars), . (small points), etc\n",
    "    linestyle: - (solid line), -- (dotted line), : (fine dotted line), etc\n",
    "    color: b (blue), r (red), c (cyan), m (magenta), y (yellow), k (black), g (green), etc\n",
    "    alpha: opacity, a float set between 0 and 1\n",
    "    label: name of that dataset to be used in the legend\n",
    "    \n",
    "Every keyword argument besides alpha (which is a float) should be given as a string.\n",
    "    \n",
    "To initialize our plot, we may want to specify something like the size in inches.\n",
    "\n",
    "    fig = plt.figure(figsize=(4, 4))\n",
    "    \n",
    "Then we call our plt.plot() function. After plt.plot(), you might want to add some other information like axis labels.\n",
    "\n",
    "    plt.xlabel(string) - x axis label\n",
    "    plt.ylabel(string) - y axis label\n",
    "    plt.axis([xlo, xhi, ylo, yhi]) - in the brackets list x_lowerlimit, x_upperlimit, y_lowerlimit, y_upperlimit for axis display\n",
    "    plt.title(string) - plot title\n",
    "    plt.legend() - adds a legend, but plt.plot() must contain a \"label\" argument\n",
    "    plt.show() - displays your plot\n",
    "    \n",
    "Here's a detailed example. By the way, you can use shorthand for the marker/line style and the color, so instead of typing out \"markerstyle=blah, color=blah\", it will also understand simply \"ob\" (blue circles).\n",
    "\n",
    "Also, for labeling purposes, you can use Greek letters the same way as in LaTeX. You'll learn more about LaTeX in another seminar, but the basic syntax for greek letters is '$\\[greeklettername]'. For instance (double click this cell to see the markup):\n",
    "\n",
    "$\\alpha$ \n",
    "$\\beta$\n",
    "$\\Gamma$\n",
    "$\\Lambda$\n",
    "\n",
    "All symbols are enclosed in dollar signs and begin with a backslash. There are also astronomy-specific ones that might come in handy, like the solar symbol ('odot'). Example: this star has a mass of 10 $M_{\\odot}$. \n",
    "\n",
    "Here is a comprehensive list of LaTeX symbols: https://math.uoregon.edu/wp-content/uploads/2014/12/compsymb-1qyb3zd.pdf\n",
    "\n"
   ]
  },
  {
   "cell_type": "code",
   "execution_count": 21,
   "metadata": {},
   "outputs": [
    {
     "data": {
      "image/png": "[encoded data removed]",
      "text/plain": [
       "<Figure size 432x432 with 1 Axes>"
      ]
     },
     "metadata": {
      "needs_background": "light"
     },
     "output_type": "display_data"
    }
   ],
   "source": [
    "a = np.array([0, 1, 2, 3])\n",
    "b = np.array([10, 9, 8, 7])\n",
    "\n",
    "fig = plt.figure(figsize=(6, 6))\n",
    "plt.plot(a[:2], b[:2], 'ob', markersize=15, label='blue circles') #plot the first two values as blue circles\n",
    "plt.plot(a[2:], b[2:], '^m', label='pink triangles') #plot the second two values as magenta triangles\n",
    "plt.xlabel(r'$\\alpha$', fontsize=16)\n",
    "plt.ylabel(r'$\\beta$', fontsize=16)\n",
    "plt.title('my first plot', fontsize=20, style='oblique')\n",
    "plt.legend(loc=1, frameon=True) #'loc' moves the legend around, frameon puts a box around the legend\n",
    "plt.show()"
   ]
  },
  {
   "cell_type": "markdown",
   "metadata": {},
   "source": [
    "Finally, to save a figure, write fig = plt.figure() before your plot, and before you call plt.show(), write fig.savefig('filename.jpg'). \n",
    "\n",
    "\n",
    "### Question 7: Run your quadratic function for y = 2 * x^2 + 5, where x goes between -5 and 5. Plot it with a green dashed line and label it in the legend. Include labels and a title and save the figure."
   ]
  },
  {
   "cell_type": "code",
   "execution_count": 22,
   "metadata": {},
   "outputs": [
    {
     "data": {
      "image/png": "[encoded data removed]",
      "text/plain": [
       "<Figure size 432x288 with 1 Axes>"
      ]
     },
     "metadata": {
      "needs_background": "light"
     },
     "output_type": "display_data"
    }
   ],
   "source": [
    "#solution here\n",
    "\n",
    "xx = np.linspace(-5, 5, 100)\n",
    "y_quad = quad(2, 5, xx)\n",
    "\n",
    "plt.plot(xx, y_quad, 'g--', label='my first plot!')\n",
    "plt.xlabel('x', fontsize=14)\n",
    "plt.ylabel('y', fontsize=14)\n",
    "plt.title('i made a plot!')\n",
    "plt.legend(loc=1, fontsize=14)\n",
    "plt.savefig('myfirstplot.png')\n",
    "plt.show()"
   ]
  },
  {
   "cell_type": "markdown",
   "metadata": {},
   "source": [
    "## Scatter Plots\n",
    "\n",
    "Finally, let's say that your function had a third dimension -- in astronomy, you might have a situation where you have RA, dec, and velocity information. There are 3D plot options, but another way to display this information would be with a color-coded scatter plot. Here, there is an argument called \"c\" for color, where a gradient might stand for the third dimension. Try it out!\n",
    "\n",
    "Syntax:\n",
    "\n",
    "    plt.scatter(x, y, c=z_array, s=markersize)\n",
    "   \n",
    "Annoyingly, the markersize here has a different scale than the markersize in plt.plot, so you'll need to mess with it.\n",
    "\n",
    "### Question 8: Define 3 arrays of equal length. Plot them as a scatter plot!"
   ]
  },
  {
   "cell_type": "code",
   "execution_count": 24,
   "metadata": {},
   "outputs": [
    {
     "data": {
      "image/png": "[encoded data removed]",
      "text/plain": [
       "<Figure size 432x288 with 1 Axes>"
      ]
     },
     "metadata": {
      "needs_background": "light"
     },
     "output_type": "display_data"
    }
   ],
   "source": [
    "#solution here\n",
    "\n",
    "a = np.linspace(0, 10, 11)\n",
    "b = np.linspace(10, 20, 11)\n",
    "c = np.linspace(20, 30, 11)\n",
    "\n",
    "plt.scatter(a, b, c=c, s=50, label='c')\n",
    "plt.xlabel('a')\n",
    "plt.ylabel('b')\n",
    "plt.legend()\n",
    "plt.show()"
   ]
  },
  {
   "cell_type": "code",
   "execution_count": null,
   "metadata": {},
   "outputs": [],
   "source": []
  }
 ],
 "metadata": {
  "kernelspec": {
   "display_name": "Python 3",
   "language": "python",
   "name": "python3"
  },
  "language_info": {
   "codemirror_mode": {
    "name": "ipython",
    "version": 3
   },
   "file_extension": ".py",
   "mimetype": "text/x-python",
   "name": "python",
   "nbconvert_exporter": "python",
   "pygments_lexer": "ipython3",
   "version": "3.7.10"
  }
 },
 "nbformat": 4,
 "nbformat_minor": 2
}
