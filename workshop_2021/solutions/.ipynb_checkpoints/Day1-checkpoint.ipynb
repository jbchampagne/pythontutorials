{
 "cells": [
  {
   "cell_type": "markdown",
   "metadata": {},
   "source": [
    "# TAURUS + NSF REU 2021\n",
    "## written by Jackie Champagne (UT Austin)\n",
    "\n",
    "# Introduction to Python Day 1\n",
    "# Basic Syntax, Variables & Arrays"
   ]
  },
  {
   "cell_type": "markdown",
   "metadata": {},
   "source": [
    "We have some exercises for you ranging from the most basic tasks to some more advanced plotting techniques that will be helpful to you in astronomy. \n",
    "\n",
    "The Jupyter notebook is an interactive browser interface for Python, allowing you to write and edit programs all in one notebook. The whole notebook is automatically saved periodically, but you can also save the outputs from your code as text files, plots, or images separate from the notebook. It is a great tool when you are building code from scratch and want to troubleshoot it or make a quick plot.\n",
    "\n",
    "This series of notebooks is meant to be self-guided, so no lecture is strictly required. However, the goal of this workshop is to acquaint you with working together on research problems, so we will have a balance between brief lecture sections and having you sort through problems on your own. If you are attending this workshop live, the Questions in this notebook are meant to be a short few lines of code which you will do individually throughout the workshop. The Exercises, in a separate notebook, are longer problems you will begin working on together during the workshop, with the expectation of having all exercises finished and submitted by the end of the workshop. \n",
    "\n",
    "### Let's get started!\n",
    "\n",
    "The first thing you'll need to do when writing any code is import the packages you expect to use. You can put your imports anywhere, as long as it's written somewhere before calling a function from the package, but it's cleaner to put them all at the top. \n",
    "\n",
    "For this tutorial, let's load up numpy, which is an external library containing most mathematical functions you will use. To run the code in a cell, press SHIFT+ENTER.\n",
    "\n",
    "To comment your code, put a hashtag in front of your comment. "
   ]
  },
  {
   "cell_type": "code",
   "execution_count": 1,
   "metadata": {},
   "outputs": [],
   "source": [
    "import numpy as np #'import' loads up the package. \n",
    "#you can use 'as' to define a shortcut so you don't need to type\n",
    "#numpy before every use of the package. Most people use 'np'.\n",
    "\n",
    "import astropy\n",
    "\n",
    "import matplotlib.pyplot as plt\n",
    "\n",
    "from scipy import integrate #'from' allows you to import a specific sub-package"
   ]
  },
  {
   "cell_type": "markdown",
   "metadata": {},
   "source": [
    "## Setting Variables\n",
    "\n",
    "To set a definition, use =."
   ]
  },
  {
   "cell_type": "code",
   "execution_count": 2,
   "metadata": {},
   "outputs": [],
   "source": [
    "a = 1\n",
    "b = 2"
   ]
  },
  {
   "cell_type": "markdown",
   "metadata": {},
   "source": [
    "Now Python will always know that a is 1 in this notebook. Setting variables is useful for things like constants, such as c = 3.0e8. To check that this worked, we can print it out. The syntax for printing something is print(thing_you_want_to_print). \n",
    "\n",
    "Alternatively, you can call the variable by just typing its name, which will show it as an output."
   ]
  },
  {
   "cell_type": "code",
   "execution_count": 3,
   "metadata": {},
   "outputs": [
    {
     "name": "stdout",
     "output_type": "stream",
     "text": [
      "1\n"
     ]
    }
   ],
   "source": [
    "print(a)"
   ]
  },
  {
   "cell_type": "code",
   "execution_count": 4,
   "metadata": {},
   "outputs": [
    {
     "data": {
      "text/plain": [
       "1"
      ]
     },
     "execution_count": 4,
     "metadata": {},
     "output_type": "execute_result"
    }
   ],
   "source": [
    "a"
   ]
  },
  {
   "cell_type": "markdown",
   "metadata": {},
   "source": [
    "The double equals sign, ==, represents boolean logic, which refers to true/false definitions. This will come in handy when you write code where your data must meet a certain criterion. \n",
    "\n",
    "OR statements: statement is TRUE if statement A is true, statement B is true, or both statements or true; statement is FALSE if both statements A and B are false.\n",
    "\n",
    "AND statements: statement is TRUE if and only if both A and B are true; statement is FALSE if one or both is false.\n",
    "\n",
    "In Python, the phrase \"a == 1 or 2\" does not make sense. The full statement must be \"a == 1 or a == 2\" such that they are independent clauses."
   ]
  },
  {
   "cell_type": "code",
   "execution_count": 5,
   "metadata": {},
   "outputs": [
    {
     "data": {
      "text/plain": [
       "True"
      ]
     },
     "execution_count": 5,
     "metadata": {},
     "output_type": "execute_result"
    }
   ],
   "source": [
    "a == 1"
   ]
  },
  {
   "cell_type": "code",
   "execution_count": 6,
   "metadata": {},
   "outputs": [
    {
     "data": {
      "text/plain": [
       "False"
      ]
     },
     "execution_count": 6,
     "metadata": {},
     "output_type": "execute_result"
    }
   ],
   "source": [
    "a == 2"
   ]
  },
  {
   "cell_type": "code",
   "execution_count": 7,
   "metadata": {},
   "outputs": [
    {
     "data": {
      "text/plain": [
       "True"
      ]
     },
     "execution_count": 7,
     "metadata": {},
     "output_type": "execute_result"
    }
   ],
   "source": [
    "a == 1 or a == 2"
   ]
  },
  {
   "cell_type": "code",
   "execution_count": 8,
   "metadata": {},
   "outputs": [
    {
     "data": {
      "text/plain": [
       "False"
      ]
     },
     "execution_count": 8,
     "metadata": {},
     "output_type": "execute_result"
    }
   ],
   "source": [
    "a == 1 and a == 2"
   ]
  },
  {
   "cell_type": "code",
   "execution_count": 9,
   "metadata": {},
   "outputs": [
    {
     "data": {
      "text/plain": [
       "True"
      ]
     },
     "execution_count": 9,
     "metadata": {},
     "output_type": "execute_result"
    }
   ],
   "source": [
    "a == 1 or b == 2"
   ]
  },
  {
   "cell_type": "markdown",
   "metadata": {},
   "source": [
    "## Variable types\n",
    "\n",
    "There are 3 kinds of variables in Python: strings, floats, and integers. \n",
    "\n",
    "A floating point value (float) is a number followed by a decimal. An integer is a whole number, and is required for discrete categories such as indexing (you can have entry 5 in an array, but not entry 5.5). A string has quotes around it and is treated as a word rather than a numeric value.\n",
    "\n",
    "### Question 1: What kinds of variables are the following? Fill it in as a comment."
   ]
  },
  {
   "cell_type": "code",
   "execution_count": 10,
   "metadata": {},
   "outputs": [
    {
     "data": {
      "text/plain": [
       "'\\nHELP MY CODE IS KILLING ME!!!!!!\\nan example of a long comment \\n'"
      ]
     },
     "execution_count": 10,
     "metadata": {},
     "output_type": "execute_result"
    }
   ],
   "source": [
    "i = 1 # integer\n",
    "j = 2.43 #float \n",
    "k = 'Hello world!' #string\n",
    "L = 3. #float\n",
    "#m = hello world!\n",
    "\n",
    "'''\n",
    "HELP MY CODE IS KILLING ME!!!!!!\n",
    "an example of a long comment \n",
    "'''"
   ]
  },
  {
   "cell_type": "markdown",
   "metadata": {},
   "source": [
    "You can convert between variable types if necessary, using the following commands:\n",
    "\n",
    "    int()\n",
    "    float()\n",
    "    str()\n",
    "    \n",
    "int() will print the whole number value of the float and *does not round*. float() will follow an integer with a .0, which sounds pointless but is sometimes necessary for Python arithmetic. str() will put quotes around it so that Python reads it literally rather than numerically.\n",
    "\n",
    "### Question 2: Convert i to a float and to a string, and make sure you call them new variables. Convert j into an integer. Print type(newvariablename) to check your answer.\n"
   ]
  },
  {
   "cell_type": "code",
   "execution_count": 12,
   "metadata": {},
   "outputs": [
    {
     "data": {
      "text/plain": [
       "int"
      ]
     },
     "execution_count": 12,
     "metadata": {},
     "output_type": "execute_result"
    }
   ],
   "source": [
    "# solution here\n",
    "\n",
    "i_float = float(i)\n",
    "i_string = str(i)\n",
    "\n",
    "j_int = int(j)\n",
    "\n",
    "type(j_int)"
   ]
  },
  {
   "cell_type": "markdown",
   "metadata": {},
   "source": [
    "### Now convert k to an integer. What happens? "
   ]
  },
  {
   "cell_type": "code",
   "execution_count": 13,
   "metadata": {},
   "outputs": [
    {
     "ename": "ValueError",
     "evalue": "invalid literal for int() with base 10: 'Hello world!'",
     "output_type": "error",
     "traceback": [
      "\u001b[0;31m---------------------------------------------------------------------------\u001b[0m",
      "\u001b[0;31mValueError\u001b[0m                                Traceback (most recent call last)",
      "\u001b[0;32m<ipython-input-13-8b613a58e7ff>\u001b[0m in \u001b[0;36m<module>\u001b[0;34m\u001b[0m\n\u001b[1;32m      1\u001b[0m \u001b[0;31m#solution here\u001b[0m\u001b[0;34m\u001b[0m\u001b[0;34m\u001b[0m\u001b[0;34m\u001b[0m\u001b[0m\n\u001b[1;32m      2\u001b[0m \u001b[0;34m\u001b[0m\u001b[0m\n\u001b[0;32m----> 3\u001b[0;31m \u001b[0mint_k\u001b[0m \u001b[0;34m=\u001b[0m \u001b[0mint\u001b[0m\u001b[0;34m(\u001b[0m\u001b[0mk\u001b[0m\u001b[0;34m)\u001b[0m\u001b[0;34m\u001b[0m\u001b[0;34m\u001b[0m\u001b[0m\n\u001b[0m",
      "\u001b[0;31mValueError\u001b[0m: invalid literal for int() with base 10: 'Hello world!'"
     ]
    }
   ],
   "source": [
    "#solution here\n",
    "\n",
    "int_k = int(k)"
   ]
  },
  {
   "cell_type": "markdown",
   "metadata": {},
   "source": [
    "### Challenge question: Convert the string '1.4' into an integer. Hint: this takes multiple steps."
   ]
  },
  {
   "cell_type": "code",
   "execution_count": 16,
   "metadata": {},
   "outputs": [
    {
     "name": "stdout",
     "output_type": "stream",
     "text": [
      "1\n"
     ]
    }
   ],
   "source": [
    "# solution here\n",
    "\n",
    "string = '1.4'\n",
    "string_int = int(1.4)\n",
    "print(string_int)"
   ]
  },
  {
   "cell_type": "markdown",
   "metadata": {},
   "source": [
    "## Python arithmetic\n",
    "\n",
    "The syntax for arithmetic are the following:\n",
    "\n",
    "    + add\n",
    "    \n",
    "    - subtract\n",
    "    \n",
    "    * multiply\n",
    "    \n",
    "    / divide\n",
    "    \n",
    "    ** power\n",
    "    \n",
    "    np.log() log-base e\n",
    "    \n",
    "    np.log10() log-base 10\n",
    "    \n",
    "    np.exp() exponential "
   ]
  },
  {
   "cell_type": "code",
   "execution_count": 17,
   "metadata": {},
   "outputs": [
    {
     "name": "stdout",
     "output_type": "stream",
     "text": [
      "8\n"
     ]
    }
   ],
   "source": [
    "example = 5 + 3\n",
    "print(example)"
   ]
  },
  {
   "cell_type": "code",
   "execution_count": 18,
   "metadata": {},
   "outputs": [
    {
     "data": {
      "text/plain": [
       "3.43"
      ]
     },
     "execution_count": 18,
     "metadata": {},
     "output_type": "execute_result"
    }
   ],
   "source": [
    "i + j"
   ]
  },
  {
   "cell_type": "code",
   "execution_count": 19,
   "metadata": {},
   "outputs": [
    {
     "data": {
      "text/plain": [
       "2.43"
      ]
     },
     "execution_count": 19,
     "metadata": {},
     "output_type": "execute_result"
    }
   ],
   "source": [
    "i * j"
   ]
  },
  {
   "cell_type": "code",
   "execution_count": 20,
   "metadata": {},
   "outputs": [
    {
     "data": {
      "text/plain": [
       "1.4300000000000002"
      ]
     },
     "execution_count": 20,
     "metadata": {},
     "output_type": "execute_result"
    }
   ],
   "source": [
    "j - i"
   ]
  },
  {
   "cell_type": "code",
   "execution_count": 21,
   "metadata": {},
   "outputs": [
    {
     "data": {
      "text/plain": [
       "0.4115226337448559"
      ]
     },
     "execution_count": 21,
     "metadata": {},
     "output_type": "execute_result"
    }
   ],
   "source": [
    "i / j "
   ]
  },
  {
   "cell_type": "markdown",
   "metadata": {},
   "source": [
    "You're using Python 3.5, but note that in version 2.7, it was important to remember whether your variables were floats or integers. Dividing two integers used to give you an integer answer even if there was a remainder, so watch out for that if you decide to use 2.7."
   ]
  },
  {
   "cell_type": "markdown",
   "metadata": {},
   "source": [
    "## Arrays and Lists\n",
    "\n",
    "When working with data, you usually won't be dealing with just one number, but an array of values. Arrays can consist of floats, integers, strings, or a combination of them. A list is denoted by brackets: [], while an array must be defined with np.array(). \n",
    "\n",
    "The dimensions of arrays and lists are the same as in linear algebra: (rows, columns).\n",
    "\n",
    "The following is a 1D list:"
   ]
  },
  {
   "cell_type": "code",
   "execution_count": 22,
   "metadata": {},
   "outputs": [
    {
     "name": "stdout",
     "output_type": "stream",
     "text": [
      "['Barry B. Benson', 'Vanessa Bloome', 'Ray Liotta as Ray Liotta']\n"
     ]
    }
   ],
   "source": [
    "beemovie = ['Barry B. Benson', 'Vanessa Bloome', 'Ray Liotta as Ray Liotta']\n",
    "print(beemovie)"
   ]
  },
  {
   "cell_type": "markdown",
   "metadata": {},
   "source": [
    "For strings, this is fine, but you will need arrays in order to manipulate them mathematically. The array function is built into numpy. Here is a 1D array:"
   ]
  },
  {
   "cell_type": "code",
   "execution_count": 23,
   "metadata": {},
   "outputs": [],
   "source": [
    "myarray = np.array([1, 2, 3])\n",
    "my2darray = np.array([[1, 2], [1, 2]])"
   ]
  },
  {
   "cell_type": "markdown",
   "metadata": {},
   "source": [
    "You will call the array function within parentheses (). The whole array must be enclosed in a set of brackets []. Each row of the array should be in its own set of brackets, separated by commas.\n",
    "\n",
    "### Question 3: Create the following 2D array:\n",
    "\n",
    "    1 2 3\n",
    "    4 5 6"
   ]
  },
  {
   "cell_type": "code",
   "execution_count": 25,
   "metadata": {},
   "outputs": [
    {
     "name": "stdout",
     "output_type": "stream",
     "text": [
      "[[1 2 3]\n",
      " [4 5 6]]\n"
     ]
    }
   ],
   "source": [
    "#solution here\n",
    "\n",
    "my2darray = np.array([[1,2,3],[4,5,6]])\n",
    "print(my2darray)"
   ]
  },
  {
   "cell_type": "markdown",
   "metadata": {},
   "source": [
    "## Populating Arrays\n",
    "\n",
    "You don't always have to put in the values of your array manually, especially if, for example, you want a function to sample numbers evenly along some axis. \n",
    "\n",
    "There are two *inclusive* ways to define arrays, meaning that the last number is included.\n",
    "\n",
    "The first is np.linspace(), giving you an array between two values that are linearly spaced. The second is np.logspace(), giving you an array between two values that are spaced evenly in log10 (10^1, 10^1.1, 10^1.2, etc).\n",
    "    \n",
    "The syntax is the following:\n",
    "\n",
    "    np.linspace(beginning number, end number, number of values)\n",
    "    np.logspace(log(beginning number), log(end number), number of values)\n",
    "    \n",
    "### Question 4: Create two arrays with ten entries between 1 and 100, one in linear space and the other in logspace.\n",
    "\n"
   ]
  },
  {
   "cell_type": "code",
   "execution_count": 26,
   "metadata": {},
   "outputs": [
    {
     "name": "stdout",
     "output_type": "stream",
     "text": [
      "[  1.  12.  23.  34.  45.  56.  67.  78.  89. 100.] [  1.           1.66810054   2.7825594    4.64158883   7.74263683\n",
      "  12.91549665  21.5443469   35.93813664  59.94842503 100.        ]\n"
     ]
    }
   ],
   "source": [
    "# solution here\n",
    "\n",
    "mylinarray = np.linspace(1, 100, 10)\n",
    "mylogarray = np.logspace(np.log10(1), np.log10(100), 10)\n",
    "\n",
    "print(mylinarray, mylogarray)"
   ]
  },
  {
   "cell_type": "markdown",
   "metadata": {},
   "source": [
    "Another way to create an array is through np.arange(), but this is *exclusive*, meaning it will sample numbers linearly beginning with your initial number and ending one step size before your end number. So if you want your axis to go from 0 to 100 in steps of 1, make sure you tell it to go to 101.\n",
    "\n",
    "Confusingly, the syntax is different. The third argument is your step size, not your number of data points, so this is good to use if the step size is important. Of course you can always figure out how many data points you need for the spacing to be such-and-such in linspace, but if you're lazy and bad at math this works too!\n",
    "\n",
    "    np.arange(beginning number, end number+delta, delta)\n",
    "    \n",
    "### Question 5: Create another array with ten entries between 1 and 100 using np.arange. Notice how this is different from linspace."
   ]
  },
  {
   "cell_type": "code",
   "execution_count": 28,
   "metadata": {},
   "outputs": [
    {
     "name": "stdout",
     "output_type": "stream",
     "text": [
      "[  1   2   3   4   5   6   7   8   9  10  11  12  13  14  15  16  17  18\n",
      "  19  20  21  22  23  24  25  26  27  28  29  30  31  32  33  34  35  36\n",
      "  37  38  39  40  41  42  43  44  45  46  47  48  49  50  51  52  53  54\n",
      "  55  56  57  58  59  60  61  62  63  64  65  66  67  68  69  70  71  72\n",
      "  73  74  75  76  77  78  79  80  81  82  83  84  85  86  87  88  89  90\n",
      "  91  92  93  94  95  96  97  98  99 100]\n"
     ]
    }
   ],
   "source": [
    "# solution here\n",
    "\n",
    "myarange = np.arange(1, 101, 1)\n",
    "print(myarange)"
   ]
  },
  {
   "cell_type": "markdown",
   "metadata": {},
   "source": [
    "Another quick way to create an array is through np.zeros. This populates an array with, well, zeros. It might sound useless at first, but it's an easy way to initialize an array that you will later replace with different values. It helps keep arrays at a fixed length, for instance. More on that later.\n",
    "\n",
    "The syntax is simply number of rows, number of columns. If it's 1D, then it can just be:\n",
    "\n",
    "    np.zeros(3) #a 1x3 array of zeros\n",
    "    \n",
    "If it's N-D, you need two sets of parentheses:\n",
    "\n",
    "    np.zeros((rows, columns))\n",
    "    \n",
    "    \n",
    "### Question 6: Create a 3x3 array of zeros."
   ]
  },
  {
   "cell_type": "code",
   "execution_count": 30,
   "metadata": {},
   "outputs": [
    {
     "name": "stdout",
     "output_type": "stream",
     "text": [
      "[[0. 0. 0.]\n",
      " [0. 0. 0.]\n",
      " [0. 0. 0.]]\n"
     ]
    }
   ],
   "source": [
    "#solution here\n",
    "\n",
    "myzeros = np.zeros((3, 3))\n",
    "print(myzeros)"
   ]
  },
  {
   "cell_type": "markdown",
   "metadata": {},
   "source": [
    "## Indexing\n",
    "\n",
    "## PYTHON USES ZERO-BASED INDEXING!\n",
    "\n",
    "This means that the first value of an array is the 0th index. \n",
    "\n",
    "To call a certain value from an array, call the array name followed by brackets containing the index of the value you want:\n",
    "\n",
    "    array[0]\n",
    "    \n",
    "The value inside the brackets can also be a variable, so long as the variable is an integer. \n",
    "\n",
    "A helpful shortcut is that you can also count backwards in your array with a negative sign, so the last value in your array is always array[-1].\n",
    "\n",
    "### Question 7: Print out the first and last value in your linspace array."
   ]
  },
  {
   "cell_type": "code",
   "execution_count": 31,
   "metadata": {},
   "outputs": [
    {
     "name": "stdout",
     "output_type": "stream",
     "text": [
      "1.0 100.0\n"
     ]
    }
   ],
   "source": [
    "#solution here\n",
    "\n",
    "print(mylinarray[0], mylinarray[-1])"
   ]
  },
  {
   "cell_type": "markdown",
   "metadata": {},
   "source": [
    "Finally, you can also slice arrays between certain index values. This is helpful if you want to plot only a small subsample of your data, for example.\n",
    "\n",
    "For slicing, use a colon. Syntax:\n",
    "\n",
    "    :x - from beginning to index x\n",
    "    x: - from index x until the end\n",
    "    a:b - from index a to b\n",
    "    a:b:c - every c'th entry between indices a and b\n",
    "    \n",
    "These can be combined, e.g. a::c goes from index a until the end in steps of c.\n",
    "    \n",
    "Slicing is *exclusive*.\n",
    "\n",
    "### Question 8: Print out the following: a) your linear array until index 5; b) your log array beginning at index 1; c) your arange array between indices 4 and 8; and d) your full linear array in steps of 2 indices."
   ]
  },
  {
   "cell_type": "code",
   "execution_count": 32,
   "metadata": {},
   "outputs": [
    {
     "name": "stdout",
     "output_type": "stream",
     "text": [
      "[ 1. 12. 23. 34. 45.]\n",
      "[  1.66810054   2.7825594    4.64158883   7.74263683  12.91549665\n",
      "  21.5443469   35.93813664  59.94842503 100.        ]\n",
      "[5 6 7 8]\n",
      "[ 1. 23. 45. 67. 89.]\n"
     ]
    }
   ],
   "source": [
    "#solution here\n",
    "\n",
    "print(mylinarray[:5])\n",
    "print(mylogarray[1:])\n",
    "print(myarange[4:8]) #note there are only 4 elements here: indices 4, 5, 6, 7\n",
    "print(mylinarray[::2])"
   ]
  },
  {
   "cell_type": "markdown",
   "metadata": {},
   "source": [
    "## np.where()\n",
    "\n",
    "This function allows you to impose a condition on an array so you can search the array for specific values. These conditions can be the following:\n",
    "\n",
    "    < less than\n",
    "    <= less than or equal to\n",
    "    > greater than\n",
    "    >= greater than or equal to\n",
    "    == equal to\n",
    "    != not equal to\n",
    "    \n",
    "This function takes some getting used to. The output will be the indices where the array meets your condition. To print the actual values, you would call the array with the output from np.where() as the indices. \n",
    "\n",
    "You can also give np.where() a compound condition connected by an ampersand, &. \n",
    "\n",
    "    np.where(array < 2)\n",
    "\n",
    "This gives the indices where this is true. The values of the array where it's true would be written as:\n",
    "\n",
    "    array[np.where(array < 2)]\n",
    "    \n",
    "With a compound statement:\n",
    "\n",
    "    array[np.where((array < 2) & (array > 0))]\n",
    "    \n",
    "Note that, as above, compound statements must be independent clauses, so something like \"0<array<2\" doesn't work.\n",
    "\n",
    "### Question 9: Print out, from your linspace array, the following: a) where the array is greater than 10, b) the array where its values are greater than 10, c) where the array is greater than 1 and less than 10, and d) where the array divided by 2 is less than 50."
   ]
  },
  {
   "cell_type": "code",
   "execution_count": 36,
   "metadata": {},
   "outputs": [
    {
     "name": "stdout",
     "output_type": "stream",
     "text": [
      "(array([1, 2, 3, 4, 5, 6, 7, 8, 9]),)\n",
      "[ 12.  23.  34.  45.  56.  67.  78.  89. 100.]\n",
      "[ 12.  23.  34.  45.  56.  67.  78.  89. 100.]\n",
      "(array([], dtype=int64),)\n",
      "(array([0, 1, 2, 3, 4, 5, 6, 7, 8]),)\n"
     ]
    }
   ],
   "source": [
    "# solution here\n",
    "\n",
    "gt10 = np.where(mylinarray>10) # part a\n",
    "print(gt10) #prints out a tuple\n",
    "\n",
    "print(mylinarray[np.where(mylinarray>10)]) # part b\n",
    "print(mylinarray[gt10]) # you can call a variable or put in the whole statement\n",
    "\n",
    "print(np.where((mylinarray>1)&(mylinarray<10))) # part c: this is not true anywhere\n",
    "\n",
    "print(np.where(mylinarray/2 < 50)) # part d"
   ]
  },
  {
   "cell_type": "markdown",
   "metadata": {},
   "source": [
    "## Array Manipulation and Attributes\n",
    "\n",
    "You can manipulate arrays with one statement. Check it out:\n",
    "\n",
    "### Question 10: Create a new array which is your logspace array divided by 2. Create another new array which is your linspace array + 2."
   ]
  },
  {
   "cell_type": "code",
   "execution_count": 37,
   "metadata": {},
   "outputs": [],
   "source": [
    "#solution here\n",
    "\n",
    "mylogdiv2 = mylogarray/2\n",
    "mylinplus2 = mylinarray+2"
   ]
  },
  {
   "cell_type": "markdown",
   "metadata": {},
   "source": [
    "You can append values to the end of an array using np.append(). Use it like this:\n",
    "\n",
    "    np.append(array, something_appended)\n",
    "    \n",
    "You can even append another array, like this:\n",
    "\n",
    "    np.append(array, [5, 6])\n",
    "    np.append(array1, array2)\n",
    "    \n",
    "### Question 11: Create a new array which is another linear array from 100 to 200 appended to your linspace array."
   ]
  },
  {
   "cell_type": "code",
   "execution_count": 38,
   "metadata": {},
   "outputs": [
    {
     "name": "stdout",
     "output_type": "stream",
     "text": [
      "[  1.          12.          23.          34.          45.\n",
      "  56.          67.          78.          89.         100.\n",
      " 100.         111.11111111 122.22222222 133.33333333 144.44444444\n",
      " 155.55555556 166.66666667 177.77777778 188.88888889 200.        ]\n"
     ]
    }
   ],
   "source": [
    "#solution here\n",
    "\n",
    "mylinarray2 = np.linspace(100, 200, 10)\n",
    "\n",
    "myappend = np.append(mylinarray, mylinarray2)\n",
    "print(myappend)"
   ]
  },
  {
   "cell_type": "markdown",
   "metadata": {},
   "source": [
    "The last part of today will be showing you how to acquire different information from an array. Some of these are attributes of the array, and some of them are attributes of np itself, so you may need to look this up again in the future.\n",
    "\n",
    "Attributes of the array means that you call this by nameofarray.command:\n",
    "   \n",
    "    ndim - prints dimensions of your array\n",
    "    size - number of elements in n-dimensional array\n",
    "    shape - shape given by (rows, columns)\n",
    "    flatten() - collapses the array along one axis\n",
    "    T - transpose the matrix\n",
    "    reshape(x, y) - change the dimensions of the array to x, y -- the total number of elements (x*y) MUST match\n",
    "   \n",
    "Attributes of numpy, meaning that you call it by np.command(nameofarray):\n",
    "\n",
    "    sum - sum all the elements in the array\n",
    "    min - print minimum value in array\n",
    "    max - print maximum value\n",
    "    sort - print array in ascending order\n",
    "    len - print number of elements along the row axis\n",
    "    dot - matrix multiplication\n",
    "    "
   ]
  },
  {
   "cell_type": "markdown",
   "metadata": {},
   "source": [
    "## If you are following along in the in person class:\n",
    "\n",
    "## You will have received a link to our github classroom which will have your exercise assignments. (This is also included in Exercises.ipynb in this directory, if you're following along outside of the in-person seminar.) Please do the Day 1 exercises and upload this to github before the start of the next session on Thursday.\n",
    "\n",
    "# Very Basic Introduction to Git\n",
    "\n",
    "We will use some basic git commands for you to submit your work for review. Git is intended for programmers to work on code collaboratively throughout software development. It is also a great tool for keeping track of iterations of your own code, since it includes version history of all of your files and back up all of your work. We will use github classroom for this assignment. \n",
    "\n",
    "Your assignment is located here: https://classroom.github.com/a/lUEOZAdi\n",
    "\n",
    "Click this link and accept the assignment. Then, open a terminal and navigate to a directory where you want to keep your work. Type: \"git clone [url of assignment]\" -- downloading the ZIP will make your life more complicated. Once the content downloads, you can work on it in jupyter notebook. Once it is saved, return to this directory in the terminal and run the following commands:\n",
    "\n",
    "    git add .\n",
    "    git commit -m \"insert description of file here\"\n",
    "    git push\n",
    "\n",
    "The exercises are all contained in one notebook, so do the ones labelled for each day. Remember to push every day. Before you begin the next day's assignment, run \n",
    "\n",
    "    git pull \n",
    "    \n",
    "to maintain the updated version of your file. "
   ]
  },
  {
   "cell_type": "code",
   "execution_count": null,
   "metadata": {},
   "outputs": [],
   "source": []
  }
 ],
 "metadata": {
  "kernelspec": {
   "display_name": "Python 3",
   "language": "python",
   "name": "python3"
  },
  "language_info": {
   "codemirror_mode": {
    "name": "ipython",
    "version": 3
   },
   "file_extension": ".py",
   "mimetype": "text/x-python",
   "name": "python",
   "nbconvert_exporter": "python",
   "pygments_lexer": "ipython3",
   "version": "3.7.10"
  }
 },
 "nbformat": 4,
 "nbformat_minor": 2
}
