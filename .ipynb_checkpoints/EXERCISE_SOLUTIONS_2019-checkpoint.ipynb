{
 "cells": [
  {
   "cell_type": "code",
   "execution_count": 1,
   "metadata": {},
   "outputs": [],
   "source": [
    "import numpy as np\n",
    "import matplotlib.pyplot as plt\n",
    "import astropy"
   ]
  },
  {
   "cell_type": "markdown",
   "metadata": {},
   "source": [
    "### Day 1\n",
    "#### Exercise 1"
   ]
  },
  {
   "cell_type": "code",
   "execution_count": 3,
   "metadata": {},
   "outputs": [
    {
     "name": "stdout",
     "output_type": "stream",
     "text": [
      "[1.00000000e-01 3.59381366e-01 1.29154967e+00 4.64158883e+00\n",
      " 1.66810054e+01 5.99484250e+01 2.15443469e+02 7.74263683e+02\n",
      " 2.78255940e+03 1.00000000e+04]\n"
     ]
    }
   ],
   "source": [
    "# A. Create an array with 10 evenly spaced values in logspace ranging from 0.1 to 10,000.\n",
    "\n",
    "logarray = np.logspace(-1, 4, 10)\n",
    "print(logarray)"
   ]
  },
  {
   "cell_type": "code",
   "execution_count": 4,
   "metadata": {},
   "outputs": [
    {
     "name": "stdout",
     "output_type": "stream",
     "text": [
      "0.1\n",
      "10000.0\n",
      "[ 16.68100537  59.94842503 215.443469   774.26368268]\n"
     ]
    }
   ],
   "source": [
    "# B. Print the following values: The first value in the array, the final value in the array, \n",
    "#and the range of 5th-8th values.\n",
    "\n",
    "print(logarray[0])\n",
    "print(logarray[-1]) #or logarray[9]\n",
    "print(logarray[4:8]) #remember that python begins at index 0, and that slicing is exclusive,\n",
    "#so this prints out the 5th, 6th, 7th, and 8th values."
   ]
  },
  {
   "cell_type": "code",
   "execution_count": 8,
   "metadata": {},
   "outputs": [
    {
     "name": "stdout",
     "output_type": "stream",
     "text": [
      "[1.00000000e-01 3.59381366e-01 1.29154967e+00 4.64158883e+00\n",
      " 1.66810054e+01 5.99484250e+01 2.15443469e+02 7.74263683e+02\n",
      " 2.78255940e+03 1.00000000e+04 1.00010000e+04 1.00020000e+04]\n"
     ]
    }
   ],
   "source": [
    "# C. Append the numbers 10,001 and 10,002 (as floats) to the array.\n",
    "\n",
    "newarray = np.append(logarray, [10001.0, 10002.0])\n",
    "print(newarray)"
   ]
  },
  {
   "cell_type": "code",
   "execution_count": 9,
   "metadata": {},
   "outputs": [
    {
     "name": "stdout",
     "output_type": "stream",
     "text": [
      "[5.00000000e-02 1.79690683e-01 6.45774833e-01 2.32079442e+00\n",
      " 8.34050269e+00 2.99742125e+01 1.07721735e+02 3.87131841e+02\n",
      " 1.39127970e+03 5.00000000e+03 5.00050000e+03 5.00100000e+03]\n"
     ]
    }
   ],
   "source": [
    "# D. Divide your new array by 2.\n",
    "\n",
    "array_div_by_2 = newarray / 2\n",
    "print(array_div_by_2)"
   ]
  },
  {
   "cell_type": "code",
   "execution_count": 11,
   "metadata": {},
   "outputs": [
    {
     "name": "stdout",
     "output_type": "stream",
     "text": [
      "[[1.00000000e-01 3.59381366e-01 1.29154967e+00 4.64158883e+00]\n",
      " [1.66810054e+01 5.99484250e+01 2.15443469e+02 7.74263683e+02]\n",
      " [2.78255940e+03 1.00000000e+04 1.00010000e+04 1.00020000e+04]]\n",
      "(3, 4)\n"
     ]
    }
   ],
   "source": [
    "# E. Reshape your array to be 3 x 4. \n",
    "\n",
    "array_newshape = newarray.reshape(3, 4)\n",
    "print(array_newshape)\n",
    "print(array_newshape.shape)"
   ]
  },
  {
   "cell_type": "code",
   "execution_count": 17,
   "metadata": {},
   "outputs": [
    {
     "name": "stdout",
     "output_type": "stream",
     "text": [
      "[[1.00000000e-02 1.29154967e-01 1.66810054e+00 2.15443469e+01]\n",
      " [2.78255940e+02 3.59381366e+03 4.64158883e+04 5.99484250e+05]\n",
      " [7.74263683e+06 1.00000000e+08 1.00020001e+08 1.00040004e+08]]\n"
     ]
    }
   ],
   "source": [
    "# F. Multiply your array by itself.\n",
    "\n",
    "array_product = array_newshape**2\n",
    "print(array_product)"
   ]
  },
  {
   "cell_type": "code",
   "execution_count": 16,
   "metadata": {},
   "outputs": [
    {
     "name": "stdout",
     "output_type": "stream",
     "text": [
      "2\n",
      "100040004.0\n"
     ]
    }
   ],
   "source": [
    "# G. Print out the number of dimensions and the maximum value.\n",
    "\n",
    "print(array_product.ndim)\n",
    "\n",
    "#You'll notice you get an error if you do it this way, because it's ambiguous:\n",
    "#print(max(array_product))\n",
    "\n",
    "#You can only take the maximum of a 1D array\n",
    "print(max(array_product.flatten()))"
   ]
  },
  {
   "cell_type": "markdown",
   "metadata": {},
   "source": [
    "### Day 2\n",
    "\n",
    "#### Exercise 1"
   ]
  },
  {
   "cell_type": "code",
   "execution_count": 19,
   "metadata": {},
   "outputs": [
    {
     "name": "stdout",
     "output_type": "stream",
     "text": [
      "[ 4  0  6  5 11 14 12 14  5 16]\n"
     ]
    }
   ],
   "source": [
    "#A. Create an array containing the values 4, 0, 6, 5, 11, 14, 12, 14, 5, 16.\n",
    "    \n",
    "array2 = np.array([4, 0, 6, 5, 11, 14, 12, 14, 5, 16])\n",
    "print(array2)"
   ]
  },
  {
   "cell_type": "code",
   "execution_count": 26,
   "metadata": {},
   "outputs": [
    {
     "name": "stdout",
     "output_type": "stream",
     "text": [
      "[[0. 0.]\n",
      " [0. 0.]\n",
      " [0. 0.]\n",
      " [0. 0.]\n",
      " [0. 0.]\n",
      " [0. 0.]\n",
      " [0. 0.]\n",
      " [0. 0.]\n",
      " [0. 0.]\n",
      " [0. 0.]]\n"
     ]
    }
   ],
   "source": [
    "#B. Create a 10x2 array of zeros.\n",
    "    \n",
    "zeros = np.zeros([10, 2])\n",
    "print(zeros)"
   ]
  },
  {
   "cell_type": "code",
   "execution_count": 39,
   "metadata": {},
   "outputs": [
    {
     "name": "stdout",
     "output_type": "stream",
     "text": [
      "[[ 4. 16.]\n",
      " [ 0.  0.]\n",
      " [ 6. 36.]\n",
      " [ 5. 25.]\n",
      " [ 0.  0.]\n",
      " [ 0.  0.]\n",
      " [ 0.  0.]\n",
      " [ 0.  0.]\n",
      " [ 5. 25.]\n",
      " [ 0.  0.]]\n"
     ]
    }
   ],
   "source": [
    "'''\n",
    "#3. Write a for loop that checks if each of the numbers in the first array squared\n",
    "is less than 100. \n",
    "If the statement is true, change that row of your zeros array to equal the number\n",
    "and its square. \n",
    "\n",
    "Print out the final version of your zeros array.\n",
    "'''\n",
    "    \n",
    "for a in range(len(array2)):\n",
    "    if array2[a]**2 < 100:\n",
    "        zeros[a] = [array2[a], array2[a]**2]\n",
    "        \n",
    "print(zeros)"
   ]
  },
  {
   "cell_type": "markdown",
   "metadata": {},
   "source": [
    "#### Exercise 2"
   ]
  },
  {
   "cell_type": "code",
   "execution_count": 40,
   "metadata": {},
   "outputs": [],
   "source": [
    "# A. Define a function that returns the Gaussian distribution.\n",
    "\n",
    "def gauss(x, mu, sig):\n",
    "    const = (sig * np.sqrt(2 * np.pi))**(-1)\n",
    "    exp = np.exp(- (x-mu)**2 / (2 * sig**2) )\n",
    "    return const * exp"
   ]
  },
  {
   "cell_type": "code",
   "execution_count": 41,
   "metadata": {},
   "outputs": [],
   "source": [
    "#2. Call the function a few different times for different values of mu and sigma, \n",
    "#between -10 < x < 10.\n",
    "\n",
    "x = np.linspace(-10, 10, 100)\n",
    "curve1 = gauss(x, 0, 1)\n",
    "curve2 = gauss(x, 2, 1)\n",
    "curve3 = gauss(x, 0, 2)"
   ]
  },
  {
   "cell_type": "code",
   "execution_count": 42,
   "metadata": {},
   "outputs": [
    {
     "data": {
      "text/plain": [
       "<matplotlib.legend.Legend at 0x1a1b0ab8d0>"
      ]
     },
     "execution_count": 42,
     "metadata": {},
     "output_type": "execute_result"
    },
    {
     "data": {
      "image/png": "[encoded data removed]",
      "text/plain": [
       "<matplotlib.figure.Figure at 0x1a1b00ef98>"
      ]
     },
     "metadata": {},
     "output_type": "display_data"
    }
   ],
   "source": [
    "#3. Plot each version, making sure they are differentiated with different colors and/or linestyles and include a legend.\n",
    "\n",
    "#4. Save your figure.\n",
    "\n",
    "fig = plt.figure()\n",
    "\n",
    "plt.plot(x, curve1, '--g', label=r'$\\mu=0, \\sigma=1$')\n",
    "plt.plot(x, curve2, '-b', label=r'$\\mu=2, \\sigma=1$')\n",
    "plt.plot(x, curve3, ':r', label=r'$\\mu=0, \\sigma=2$')\n",
    "\n",
    "plt.xlabel('x')\n",
    "\n",
    "plt.ylabel('y')\n",
    "\n",
    "plt.title('gauss')\n",
    "\n",
    "plt.legend()\n",
    "\n",
    "#plt.savefig('gauss.pdf', transparent=True, pad_inches=0.05)"
   ]
  },
  {
   "cell_type": "markdown",
   "metadata": {},
   "source": [
    "### Day 3\n",
    "\n",
    "#### Exercise 1\n",
    "\n",
    "There is a file in this directory called \"histogram_exercise.dat\" which consists of\n",
    "randomly generated samples from a Gaussian distribution with an unknown $\\mu$ and $\\sigma$. \n",
    "Load up this file using np.genfromtxt, fit a Gaussian curve to the data, and plot both the curve and the histogram of the data. What are the values of the mean and standard deviation?"
   ]
  },
  {
   "cell_type": "code",
   "execution_count": 44,
   "metadata": {},
   "outputs": [
    {
     "name": "stdout",
     "output_type": "stream",
     "text": [
      "5.043429579324218 1.9340244153304138\n"
     ]
    },
    {
     "data": {
      "text/plain": [
       "<matplotlib.legend.Legend at 0x118c63940>"
      ]
     },
     "execution_count": 44,
     "metadata": {},
     "output_type": "execute_result"
    },
    {
     "data": {
      "image/png": "[encoded data removed]",
      "text/plain": [
       "<matplotlib.figure.Figure at 0x118abaac8>"
      ]
     },
     "metadata": {},
     "output_type": "display_data"
    }
   ],
   "source": [
    "from scipy.stats import norm\n",
    "\n",
    "values = np.genfromtxt('workshop_2019/histogram_exercise.dat')\n",
    "\n",
    "# you could also load it like: mu, sigma = np.genfromtxt('histogram_exercise.dat')\n",
    "\n",
    "mu, sigma = norm.fit(values)\n",
    "print(mu, sigma)\n",
    "\n",
    "x = np.linspace(mu - 5, mu + 5, 1000)\n",
    "curve = norm.pdf(x, mu, sigma)\n",
    "\n",
    "plt.hist(values, facecolor='m', alpha=0.5, normed=True)\n",
    "plt.plot(x, curve, \"-k\", label='$\\mu = %.2f, \\sigma = %.2f$' % (mu, sigma))\n",
    "\n",
    "plt.legend()"
   ]
  },
  {
   "cell_type": "markdown",
   "metadata": {},
   "source": [
    "#### Exercise 2"
   ]
  },
  {
   "cell_type": "code",
   "execution_count": 47,
   "metadata": {},
   "outputs": [
    {
     "data": {
      "text/plain": [
       "[<matplotlib.lines.Line2D at 0x118cf5d68>]"
      ]
     },
     "execution_count": 47,
     "metadata": {},
     "output_type": "execute_result"
    },
    {
     "data": {
      "image/png": "[encoded data removed]",
      "text/plain": [
       "<matplotlib.figure.Figure at 0x118cf5ef0>"
      ]
     },
     "metadata": {},
     "output_type": "display_data"
    }
   ],
   "source": [
    "# Interpolate along these arrays and plot.\n",
    "x = np.array([0., 50., 100., 150., 200., 250., 300., 350., 400., 450., 500])\n",
    "y = np.array([0., 7.071, 10., 12.247, 14.142, 15.811, 17.321, 18.708, 20., 21.213, 22.361])\n",
    "\n",
    "#solution:\n",
    "\n",
    "from scipy.interpolate import interp1d\n",
    "ynew = interp1d(x, y)\n",
    "xnew = np.linspace(min(x), max(x), 100)\n",
    "y_interp = ynew(xnew)\n",
    "\n",
    "plt.plot(x, y, 'o')\n",
    "plt.plot(xnew, y_interp, '-k')"
   ]
  },
  {
   "cell_type": "markdown",
   "metadata": {},
   "source": [
    "### Day 4\n",
    "\n",
    "#### Exercise 1"
   ]
  },
  {
   "cell_type": "code",
   "execution_count": 66,
   "metadata": {},
   "outputs": [
    {
     "name": "stderr",
     "output_type": "stream",
     "text": [
      "/Users/jackiebradli/miniconda3/envs/astroconda/lib/python3.5/site-packages/ipykernel_launcher.py:10: RuntimeWarning: overflow encountered in exp\n",
      "  # Remove the CWD from sys.path while we load stuff.\n"
     ]
    },
    {
     "data": {
      "text/plain": [
       "(1e-36, 1e-07)"
      ]
     },
     "execution_count": 66,
     "metadata": {},
     "output_type": "execute_result"
    },
    {
     "data": {
      "image/png": "[encoded data removed]",
      "text/plain": [
       "<matplotlib.figure.Figure at 0x1a1d2502b0>"
      ]
     },
     "metadata": {},
     "output_type": "display_data"
    }
   ],
   "source": [
    "# Define the Planck function\n",
    "from astropy import constants as const \n",
    "\n",
    "h = const.h.cgs.value\n",
    "kB = const.k_B.cgs.value\n",
    "c = const.c.cgs.value\n",
    "\n",
    "def planck(nu, T):\n",
    "    num = 2 * h * nu**3 / c**2\n",
    "    denom = np.exp( (h * nu) / (kB * T)) - 1\n",
    "    return num / denom\n",
    "\n",
    "nu_array = np.logspace(5, 15, 1000)\n",
    "T1 = 25.\n",
    "T2 = 50.\n",
    "T3  = 300.\n",
    "\n",
    "B1 = planck(nu_array, T1)\n",
    "B2 = planck(nu_array, T2)\n",
    "B3 = planck(nu_array, T3)\n",
    "\n",
    "# plot it for 3 dust temperatures\n",
    "\n",
    "plt.loglog(nu_array, B1, 'k:', label='T=25 K')\n",
    "plt.loglog(nu_array, B2, '--b', label='T = 50 K')\n",
    "plt.loglog(nu_array, B3, '-g', label='T = 300K')\n",
    "\n",
    "plt.legend()\n",
    "\n",
    "plt.ylim(1e-36, 1e-7)"
   ]
  },
  {
   "cell_type": "markdown",
   "metadata": {},
   "source": [
    "#### Exercise 2"
   ]
  },
  {
   "cell_type": "code",
   "execution_count": 4,
   "metadata": {},
   "outputs": [],
   "source": [
    "# Create a nice plot of M51 with a background optical image and X-ray contours overplotted.\n",
    "\n",
    "\n",
    "# A. Using astropy, open the X-ray data (m51_xray.fits).\n",
    "# Flatten the data array and find its standard deviation, and call it sigma.\n",
    "\n",
    "from astropy.io import fits\n",
    "\n",
    "xray_data = fits.open('m51_xray.fits')[0].data\n",
    "sigma = np.std(xray_data.flatten())"
   ]
  },
  {
   "cell_type": "code",
   "execution_count": 5,
   "metadata": {},
   "outputs": [],
   "source": [
    "#B. Using aplpy, plot a colorscale image of the optical data. \n",
    "\n",
    "xray\n"
   ]
  },
  {
   "cell_type": "code",
   "execution_count": null,
   "metadata": {},
   "outputs": [],
   "source": [
    "C. Plot the X-ray data as contours above the optical image. Make the contours red with 80% opacity and dotted lines. Make the levels go from 1$\\sigma$ to 10$\\sigma$ in steps of $\\sigma$. (It might be easier to define the levels array before show_contours, and set levels=levels.)"
   ]
  }
 ],
 "metadata": {
  "kernelspec": {
   "display_name": "Python 3",
   "language": "python",
   "name": "python3"
  },
  "language_info": {
   "codemirror_mode": {
    "name": "ipython",
    "version": 3
   },
   "file_extension": ".py",
   "mimetype": "text/x-python",
   "name": "python",
   "nbconvert_exporter": "python",
   "pygments_lexer": "ipython3",
   "version": "3.5.4"
  }
 },
 "nbformat": 4,
 "nbformat_minor": 2
}
