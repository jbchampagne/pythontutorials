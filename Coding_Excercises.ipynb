{
 "cells": [
  {
   "cell_type": "markdown",
   "metadata": {},
   "source": [
    "# Introduction\n",
    "\n",
    "Here we introduce the students and welcome them into the program. We tell them the purpose of this quiz and tell them to try their best. \n",
    "\n",
    "Main thing to tell them:\n",
    "\n",
    "Python skills vary from people to people and we want to make the python workshops useable and be helpful for everyone so accurately placing people in the program is vital for the success of the students and their personal growth."
   ]
  },
  {
   "cell_type": "markdown",
   "metadata": {},
   "source": [
    "# Objectives for Coding\n",
    "\n",
    "- Data Types\n",
    "- Loops\n",
    "- Containers\n",
    "- Conditionals\n",
    "- Functions\n",
    "- Plotting"
   ]
  },
  {
   "cell_type": "markdown",
   "metadata": {},
   "source": [
    "# Excercise Numero 1\n",
    "\n",
    "This will test your knowledge of python data types"
   ]
  },
  {
   "cell_type": "code",
   "execution_count": null,
   "metadata": {},
   "outputs": [],
   "source": [
    "# Can you name the data type of the object?\n",
    "\n",
    "#Object 1\n",
    "\n",
    "x = 190\n",
    "\n",
    "#Write your answer here:\n",
    "\n",
    "#Object 2\n",
    "\n",
    "pi = 3.14159\n",
    "\n",
    "#Write your answer here:\n",
    "\n",
    "#Object 3\n",
    "\n",
    "a = 'What am I?'\n",
    "\n",
    "#Write your answer here:\n",
    "\n",
    "#Object 4\n",
    "\n",
    "b = True\n",
    "c = False\n",
    "\n",
    "#Write your answer here:\n",
    "\n",
    "# Object 5\n",
    "y = [1, 'Taurus', 3.145, True, 'REU']\n",
    "\n",
    "#Write your answer here:"
   ]
  },
  {
   "cell_type": "markdown",
   "metadata": {},
   "source": [
    "# Exercise Numero 2\n",
    "\n",
    "This excercise will test your understanding of containers"
   ]
  },
  {
   "cell_type": "code",
   "execution_count": null,
   "metadata": {},
   "outputs": [],
   "source": [
    "# The next excercise will require you to access elements in the Test variable \n",
    "# and to manipulate the data that is there\n",
    "\n",
    "Test = [1, 2, 3, 'Astronomy', 'SuperNova', 'Black Holes', \"Hook'em'\"]\n",
    "\n",
    "# Please get the 3rd and 5th entries\n",
    "\n",
    "third_entry = \n",
    "\n",
    "fifth_entry = \n",
    "\n",
    "# Give us a subset of this variable, provide us with entries 2 through 6\n",
    "\n",
    "subset = \n",
    "\n",
    "# Oops you realize that there is an error in your spelling of Supernova, \n",
    "# Please change the entry with SuperNova with the correct spelling\n",
    "\n",
    "\n",
    "\n",
    "# You walk around campus and you hear everyone saying y'all everywhere and it grows on you\n",
    "# Please add the phrase y'all to the end of Test\n"
   ]
  },
  {
   "cell_type": "markdown",
   "metadata": {},
   "source": [
    "# Excercise Numero 3"
   ]
  },
  {
   "cell_type": "code",
   "execution_count": null,
   "metadata": {},
   "outputs": [],
   "source": [
    "r_for_loop = []\n",
    "\n",
    "# Write 2 sections of code, one using a while loop and another using a for loop \n",
    "# to fill the respective r variable with the first 1000 numbers (ie: 0-1000)\n",
    "\n",
    "# For-Loop Code Below\n",
    "\n"
   ]
  },
  {
   "cell_type": "code",
   "execution_count": null,
   "metadata": {},
   "outputs": [],
   "source": [
    "r_while_loop = []\n",
    "\n",
    "# While Loop Code Below\n"
   ]
  },
  {
   "cell_type": "markdown",
   "metadata": {},
   "source": [
    "# Excercise Numero 4"
   ]
  },
  {
   "cell_type": "code",
   "execution_count": null,
   "metadata": {},
   "outputs": [],
   "source": [
    "# In the code cell below you will be working on sifting through actual data, similar to \n",
    "# what you would do in research\n",
    "\n",
    "# Data variable goes here\n",
    "\n",
    "# I need to think of something for them to do with the data, what data to use though\n",
    "# that is the question. Astro data or something else, time series.\n",
    "\n",
    "# Main goal is here is for them to use boolean conditions to grab the data they need/filter it"
   ]
  },
  {
   "cell_type": "markdown",
   "metadata": {},
   "source": [
    "# Excercise Numero 5"
   ]
  },
  {
   "cell_type": "code",
   "execution_count": null,
   "metadata": {},
   "outputs": [],
   "source": [
    "# Write a function that takes any list of numbers, in any order \n",
    "# and make it return the minimum and maximum numbers\n",
    "\n",
    "#Code Below\n",
    "\n",
    "\n",
    "\n",
    "\n",
    "\n",
    "\n",
    "\n",
    "\n"
   ]
  },
  {
   "cell_type": "markdown",
   "metadata": {},
   "source": [
    "# Excercise Numero 6"
   ]
  },
  {
   "cell_type": "code",
   "execution_count": null,
   "metadata": {},
   "outputs": [],
   "source": [
    "# Write a function that takes an array of x values and generates the y values \n",
    "# corresponding to a circle of radius 2\n",
    "# Equation of a circle: x^2 + y^2 = r^2\n",
    "\n",
    "\n",
    "#Write function here\n",
    "\n",
    "\n",
    "#Initializing the x_array\n",
    "x_array = np.linspace(-2, 2, 1000)\n",
    "\n",
    "#plot up the circle using python\n",
    "\n",
    "\n"
   ]
  },
  {
   "cell_type": "code",
   "execution_count": null,
   "metadata": {},
   "outputs": [],
   "source": [
    "twod_array = np.zeros(50, 50)\n",
    "\n",
    "# Make a checker board pattern on the 2D-array that spans the rows and columns\n",
    "# Using a method that you deem fit\n",
    "# Kinda like the example below\n",
    "##########################\n",
    "# 1 0 1 0 1 0 1 0 1 0 1 0\n",
    "# 0 1 0 1 0 1 0 1 0 1 0 1\n",
    "# 1 0 1 0 1 0 1 0 1 0 1 0\n",
    "# 0 1 0 1 0 1 0 1 0 1 0 1\n",
    "# 1 0 1 0 1 0 1 0 1 0 1 0\n",
    "# 0 1 0 1 0 1 0 1 0 1 0 1\n",
    "# 1 0 1 0 1 0 1 0 1 0 1 0\n",
    "# 0 1 0 1 0 1 0 1 0 1 0 1\n",
    "# 1 0 1 0 1 0 1 0 1 0 1 0\n",
    "# 0 1 0 1 0 1 0 1 0 1 0 1\n",
    "##########################\n",
    "\n",
    "#Once you have done this plot it up for us to see :D"
   ]
  },
  {
   "cell_type": "markdown",
   "metadata": {},
   "source": [
    "# Excercise Numero 7"
   ]
  },
  {
   "cell_type": "code",
   "execution_count": null,
   "metadata": {},
   "outputs": [],
   "source": [
    "# Some sort of challenge question here maybe fitting something here, spectral continuum, \n",
    "# Emission Line. Maybe some photometry calculation "
   ]
  }
 ],
 "metadata": {
  "kernelspec": {
   "display_name": "Python 3",
   "language": "python",
   "name": "python3"
  },
  "language_info": {
   "codemirror_mode": {
    "name": "ipython",
    "version": 3
   },
   "file_extension": ".py",
   "mimetype": "text/x-python",
   "name": "python",
   "nbconvert_exporter": "python",
   "pygments_lexer": "ipython3",
   "version": "3.8.3"
  }
 },
 "nbformat": 4,
 "nbformat_minor": 4
}
